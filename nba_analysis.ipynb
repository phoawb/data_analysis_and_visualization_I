{
 "cells": [
  {
   "cell_type": "code",
   "execution_count": 37,
   "metadata": {
    "collapsed": true
   },
   "outputs": [],
   "source": [
    "import pandas as pd\n",
    "import numpy as np"
   ]
  },
  {
   "cell_type": "markdown",
   "source": [
    "Load in the data set taken from kaggle"
   ],
   "metadata": {
    "collapsed": false
   }
  },
  {
   "cell_type": "code",
   "execution_count": 40,
   "outputs": [
    {
     "data": {
      "text/plain": "      Rk             Player Pos  Age   Tm   G  GS    MP   FG   FGA  ...  \\\n0      1   Precious Achiuwa   C   22  TOR  73  28  23.6  3.6   8.3  ...   \n1      2       Steven Adams   C   28  MEM  76  75  26.3  2.8   5.1  ...   \n2      3        Bam Adebayo   C   24  MIA  56  56  32.6  7.3  13.0  ...   \n3      4       Santi Aldama  PF   21  MEM  32   0  11.3  1.7   4.1  ...   \n4      5  LaMarcus Aldridge   C   36  BRK  47  12  22.3  5.4   9.7  ...   \n..   ...                ...  ..  ...  ...  ..  ..   ...  ...   ...  ...   \n807  601     Thaddeus Young  PF   33  TOR  26   0  18.3  2.6   5.5  ...   \n808  602         Trae Young  PG   23  ATL  76  76  34.9  9.4  20.3  ...   \n809  603     Omer Yurtseven   C   23  MIA  56  12  12.6  2.3   4.4  ...   \n810  604        Cody Zeller   C   29  POR  27   0  13.1  1.9   3.3  ...   \n811  605        Ivica Zubac   C   24  LAC  76  76  24.4  4.1   6.5  ...   \n\n       FT%  ORB  DRB   TRB  AST  STL  BLK  TOV   PF   PTS  \n0    0.595  2.0  4.5   6.5  1.1  0.5  0.6  1.2  2.1   9.1  \n1    0.543  4.6  5.4  10.0  3.4  0.9  0.8  1.5  2.0   6.9  \n2    0.753  2.4  7.6  10.1  3.4  1.4  0.8  2.6  3.1  19.1  \n3    0.625  1.0  1.7   2.7  0.7  0.2  0.3  0.5  1.1   4.1  \n4    0.873  1.6  3.9   5.5  0.9  0.3  1.0  0.9  1.7  12.9  \n..     ...  ...  ...   ...  ...  ...  ...  ...  ...   ...  \n807  0.481  1.5  2.9   4.4  1.7  1.2  0.4  0.8  1.7   6.3  \n808  0.904  0.7  3.1   3.7  9.7  0.9  0.1  4.0  1.7  28.4  \n809  0.623  1.5  3.7   5.3  0.9  0.3  0.4  0.7  1.5   5.3  \n810  0.776  1.9  2.8   4.6  0.8  0.3  0.2  0.7  2.1   5.2  \n811  0.727  2.9  5.6   8.5  1.6  0.5  1.0  1.5  2.7  10.3  \n\n[812 rows x 30 columns]",
      "text/html": "<div>\n<style scoped>\n    .dataframe tbody tr th:only-of-type {\n        vertical-align: middle;\n    }\n\n    .dataframe tbody tr th {\n        vertical-align: top;\n    }\n\n    .dataframe thead th {\n        text-align: right;\n    }\n</style>\n<table border=\"1\" class=\"dataframe\">\n  <thead>\n    <tr style=\"text-align: right;\">\n      <th></th>\n      <th>Rk</th>\n      <th>Player</th>\n      <th>Pos</th>\n      <th>Age</th>\n      <th>Tm</th>\n      <th>G</th>\n      <th>GS</th>\n      <th>MP</th>\n      <th>FG</th>\n      <th>FGA</th>\n      <th>...</th>\n      <th>FT%</th>\n      <th>ORB</th>\n      <th>DRB</th>\n      <th>TRB</th>\n      <th>AST</th>\n      <th>STL</th>\n      <th>BLK</th>\n      <th>TOV</th>\n      <th>PF</th>\n      <th>PTS</th>\n    </tr>\n  </thead>\n  <tbody>\n    <tr>\n      <th>0</th>\n      <td>1</td>\n      <td>Precious Achiuwa</td>\n      <td>C</td>\n      <td>22</td>\n      <td>TOR</td>\n      <td>73</td>\n      <td>28</td>\n      <td>23.6</td>\n      <td>3.6</td>\n      <td>8.3</td>\n      <td>...</td>\n      <td>0.595</td>\n      <td>2.0</td>\n      <td>4.5</td>\n      <td>6.5</td>\n      <td>1.1</td>\n      <td>0.5</td>\n      <td>0.6</td>\n      <td>1.2</td>\n      <td>2.1</td>\n      <td>9.1</td>\n    </tr>\n    <tr>\n      <th>1</th>\n      <td>2</td>\n      <td>Steven Adams</td>\n      <td>C</td>\n      <td>28</td>\n      <td>MEM</td>\n      <td>76</td>\n      <td>75</td>\n      <td>26.3</td>\n      <td>2.8</td>\n      <td>5.1</td>\n      <td>...</td>\n      <td>0.543</td>\n      <td>4.6</td>\n      <td>5.4</td>\n      <td>10.0</td>\n      <td>3.4</td>\n      <td>0.9</td>\n      <td>0.8</td>\n      <td>1.5</td>\n      <td>2.0</td>\n      <td>6.9</td>\n    </tr>\n    <tr>\n      <th>2</th>\n      <td>3</td>\n      <td>Bam Adebayo</td>\n      <td>C</td>\n      <td>24</td>\n      <td>MIA</td>\n      <td>56</td>\n      <td>56</td>\n      <td>32.6</td>\n      <td>7.3</td>\n      <td>13.0</td>\n      <td>...</td>\n      <td>0.753</td>\n      <td>2.4</td>\n      <td>7.6</td>\n      <td>10.1</td>\n      <td>3.4</td>\n      <td>1.4</td>\n      <td>0.8</td>\n      <td>2.6</td>\n      <td>3.1</td>\n      <td>19.1</td>\n    </tr>\n    <tr>\n      <th>3</th>\n      <td>4</td>\n      <td>Santi Aldama</td>\n      <td>PF</td>\n      <td>21</td>\n      <td>MEM</td>\n      <td>32</td>\n      <td>0</td>\n      <td>11.3</td>\n      <td>1.7</td>\n      <td>4.1</td>\n      <td>...</td>\n      <td>0.625</td>\n      <td>1.0</td>\n      <td>1.7</td>\n      <td>2.7</td>\n      <td>0.7</td>\n      <td>0.2</td>\n      <td>0.3</td>\n      <td>0.5</td>\n      <td>1.1</td>\n      <td>4.1</td>\n    </tr>\n    <tr>\n      <th>4</th>\n      <td>5</td>\n      <td>LaMarcus Aldridge</td>\n      <td>C</td>\n      <td>36</td>\n      <td>BRK</td>\n      <td>47</td>\n      <td>12</td>\n      <td>22.3</td>\n      <td>5.4</td>\n      <td>9.7</td>\n      <td>...</td>\n      <td>0.873</td>\n      <td>1.6</td>\n      <td>3.9</td>\n      <td>5.5</td>\n      <td>0.9</td>\n      <td>0.3</td>\n      <td>1.0</td>\n      <td>0.9</td>\n      <td>1.7</td>\n      <td>12.9</td>\n    </tr>\n    <tr>\n      <th>...</th>\n      <td>...</td>\n      <td>...</td>\n      <td>...</td>\n      <td>...</td>\n      <td>...</td>\n      <td>...</td>\n      <td>...</td>\n      <td>...</td>\n      <td>...</td>\n      <td>...</td>\n      <td>...</td>\n      <td>...</td>\n      <td>...</td>\n      <td>...</td>\n      <td>...</td>\n      <td>...</td>\n      <td>...</td>\n      <td>...</td>\n      <td>...</td>\n      <td>...</td>\n      <td>...</td>\n    </tr>\n    <tr>\n      <th>807</th>\n      <td>601</td>\n      <td>Thaddeus Young</td>\n      <td>PF</td>\n      <td>33</td>\n      <td>TOR</td>\n      <td>26</td>\n      <td>0</td>\n      <td>18.3</td>\n      <td>2.6</td>\n      <td>5.5</td>\n      <td>...</td>\n      <td>0.481</td>\n      <td>1.5</td>\n      <td>2.9</td>\n      <td>4.4</td>\n      <td>1.7</td>\n      <td>1.2</td>\n      <td>0.4</td>\n      <td>0.8</td>\n      <td>1.7</td>\n      <td>6.3</td>\n    </tr>\n    <tr>\n      <th>808</th>\n      <td>602</td>\n      <td>Trae Young</td>\n      <td>PG</td>\n      <td>23</td>\n      <td>ATL</td>\n      <td>76</td>\n      <td>76</td>\n      <td>34.9</td>\n      <td>9.4</td>\n      <td>20.3</td>\n      <td>...</td>\n      <td>0.904</td>\n      <td>0.7</td>\n      <td>3.1</td>\n      <td>3.7</td>\n      <td>9.7</td>\n      <td>0.9</td>\n      <td>0.1</td>\n      <td>4.0</td>\n      <td>1.7</td>\n      <td>28.4</td>\n    </tr>\n    <tr>\n      <th>809</th>\n      <td>603</td>\n      <td>Omer Yurtseven</td>\n      <td>C</td>\n      <td>23</td>\n      <td>MIA</td>\n      <td>56</td>\n      <td>12</td>\n      <td>12.6</td>\n      <td>2.3</td>\n      <td>4.4</td>\n      <td>...</td>\n      <td>0.623</td>\n      <td>1.5</td>\n      <td>3.7</td>\n      <td>5.3</td>\n      <td>0.9</td>\n      <td>0.3</td>\n      <td>0.4</td>\n      <td>0.7</td>\n      <td>1.5</td>\n      <td>5.3</td>\n    </tr>\n    <tr>\n      <th>810</th>\n      <td>604</td>\n      <td>Cody Zeller</td>\n      <td>C</td>\n      <td>29</td>\n      <td>POR</td>\n      <td>27</td>\n      <td>0</td>\n      <td>13.1</td>\n      <td>1.9</td>\n      <td>3.3</td>\n      <td>...</td>\n      <td>0.776</td>\n      <td>1.9</td>\n      <td>2.8</td>\n      <td>4.6</td>\n      <td>0.8</td>\n      <td>0.3</td>\n      <td>0.2</td>\n      <td>0.7</td>\n      <td>2.1</td>\n      <td>5.2</td>\n    </tr>\n    <tr>\n      <th>811</th>\n      <td>605</td>\n      <td>Ivica Zubac</td>\n      <td>C</td>\n      <td>24</td>\n      <td>LAC</td>\n      <td>76</td>\n      <td>76</td>\n      <td>24.4</td>\n      <td>4.1</td>\n      <td>6.5</td>\n      <td>...</td>\n      <td>0.727</td>\n      <td>2.9</td>\n      <td>5.6</td>\n      <td>8.5</td>\n      <td>1.6</td>\n      <td>0.5</td>\n      <td>1.0</td>\n      <td>1.5</td>\n      <td>2.7</td>\n      <td>10.3</td>\n    </tr>\n  </tbody>\n</table>\n<p>812 rows × 30 columns</p>\n</div>"
     },
     "execution_count": 40,
     "metadata": {},
     "output_type": "execute_result"
    }
   ],
   "source": [
    "df = pd.read_csv('data/2021-2022 NBA Player Stats - Regular.csv', encoding=\"Windows-1252\", delimiter=\",\")\n",
    "\n",
    "df"
   ],
   "metadata": {
    "collapsed": false
   }
  },
  {
   "cell_type": "markdown",
   "source": [
    "Load in data taken from NBA"
   ],
   "metadata": {
    "collapsed": false
   }
  },
  {
   "cell_type": "code",
   "execution_count": 45,
   "outputs": [
    {
     "data": {
      "text/plain": "       #                 Player TEAM  GP   MIN   PTS   FGM   FGA   FG%  3PM  \\\n0      1            Joel Embiid  PHI  68  33.8  30.6   9.8  19.6  49.9  1.4   \n1      2  Giannis Antetokounmpo  MIL  67  32.9  29.9  10.3  18.6  55.3  1.1   \n2      3            Luka Doncic  DAL  65  35.4  28.4   9.9  21.6  45.7  3.1   \n3      4             Trae Young  ATL  76  34.9  28.4   9.4  20.3  46.0  3.1   \n4      5          DeMar DeRozan  CHI  76  36.1  27.9  10.2  20.2  50.4  0.7   \n..   ...                    ...  ...  ..   ...   ...   ...   ...   ...  ...   \n223  224        Frank Ntilikina  DAL  58  11.8   4.1   1.5   3.8  39.9  0.7   \n224  225  Juan Toscano-Anderson  GSW  73  13.6   4.1   1.6   3.2  48.9  0.4   \n225  226      Jordan McLaughlin  MIN  62  14.5   3.8   1.4   3.2  44.0  0.4   \n226  227          Trent Forrest  UTA  60  12.8   3.3   1.3   2.6  49.0  0.1   \n227  228          Dalano Banton  TOR  64  10.9   3.2   1.3   3.2  41.1  0.2   \n\n     ...   FTA   FT%  OREB  DREB   REB  AST  STL  BLK  TOV   EFF  \n0    ...  11.8  81.4   2.1   9.6  11.7  4.2  1.1  1.5  3.1  33.9  \n1    ...  11.4  72.2   2.0   9.6  11.6  5.8  1.1  1.4  3.3  35.0  \n2    ...   7.5  74.4   0.9   8.3   9.1  8.7  1.2  0.6  4.5  29.8  \n3    ...   7.3  90.4   0.7   3.1   3.7  9.7  0.9  0.1  4.0  27.2  \n4    ...   7.8  87.7   0.7   4.4   5.2  4.9  0.9  0.3  2.4  25.8  \n..   ...   ...   ...   ...   ...   ...  ...  ...  ...  ...   ...  \n223  ...   0.4  96.0   0.2   1.2   1.4  1.2  0.5  0.1  0.5   4.4  \n224  ...   1.0  57.1   0.4   2.0   2.4  1.7  0.7  0.2  0.9   6.1  \n225  ...   0.6  75.0   0.4   1.2   1.5  2.9  0.9  0.2  0.6   6.7  \n226  ...   0.8  79.2   0.4   1.3   1.7  1.8  0.5  0.1  0.8   5.0  \n227  ...   0.7  59.1   0.6   1.3   1.9  1.5  0.4  0.2  0.8   4.3  \n\n[228 rows x 23 columns]",
      "text/html": "<div>\n<style scoped>\n    .dataframe tbody tr th:only-of-type {\n        vertical-align: middle;\n    }\n\n    .dataframe tbody tr th {\n        vertical-align: top;\n    }\n\n    .dataframe thead th {\n        text-align: right;\n    }\n</style>\n<table border=\"1\" class=\"dataframe\">\n  <thead>\n    <tr style=\"text-align: right;\">\n      <th></th>\n      <th>#</th>\n      <th>Player</th>\n      <th>TEAM</th>\n      <th>GP</th>\n      <th>MIN</th>\n      <th>PTS</th>\n      <th>FGM</th>\n      <th>FGA</th>\n      <th>FG%</th>\n      <th>3PM</th>\n      <th>...</th>\n      <th>FTA</th>\n      <th>FT%</th>\n      <th>OREB</th>\n      <th>DREB</th>\n      <th>REB</th>\n      <th>AST</th>\n      <th>STL</th>\n      <th>BLK</th>\n      <th>TOV</th>\n      <th>EFF</th>\n    </tr>\n  </thead>\n  <tbody>\n    <tr>\n      <th>0</th>\n      <td>1</td>\n      <td>Joel Embiid</td>\n      <td>PHI</td>\n      <td>68</td>\n      <td>33.8</td>\n      <td>30.6</td>\n      <td>9.8</td>\n      <td>19.6</td>\n      <td>49.9</td>\n      <td>1.4</td>\n      <td>...</td>\n      <td>11.8</td>\n      <td>81.4</td>\n      <td>2.1</td>\n      <td>9.6</td>\n      <td>11.7</td>\n      <td>4.2</td>\n      <td>1.1</td>\n      <td>1.5</td>\n      <td>3.1</td>\n      <td>33.9</td>\n    </tr>\n    <tr>\n      <th>1</th>\n      <td>2</td>\n      <td>Giannis Antetokounmpo</td>\n      <td>MIL</td>\n      <td>67</td>\n      <td>32.9</td>\n      <td>29.9</td>\n      <td>10.3</td>\n      <td>18.6</td>\n      <td>55.3</td>\n      <td>1.1</td>\n      <td>...</td>\n      <td>11.4</td>\n      <td>72.2</td>\n      <td>2.0</td>\n      <td>9.6</td>\n      <td>11.6</td>\n      <td>5.8</td>\n      <td>1.1</td>\n      <td>1.4</td>\n      <td>3.3</td>\n      <td>35.0</td>\n    </tr>\n    <tr>\n      <th>2</th>\n      <td>3</td>\n      <td>Luka Doncic</td>\n      <td>DAL</td>\n      <td>65</td>\n      <td>35.4</td>\n      <td>28.4</td>\n      <td>9.9</td>\n      <td>21.6</td>\n      <td>45.7</td>\n      <td>3.1</td>\n      <td>...</td>\n      <td>7.5</td>\n      <td>74.4</td>\n      <td>0.9</td>\n      <td>8.3</td>\n      <td>9.1</td>\n      <td>8.7</td>\n      <td>1.2</td>\n      <td>0.6</td>\n      <td>4.5</td>\n      <td>29.8</td>\n    </tr>\n    <tr>\n      <th>3</th>\n      <td>4</td>\n      <td>Trae Young</td>\n      <td>ATL</td>\n      <td>76</td>\n      <td>34.9</td>\n      <td>28.4</td>\n      <td>9.4</td>\n      <td>20.3</td>\n      <td>46.0</td>\n      <td>3.1</td>\n      <td>...</td>\n      <td>7.3</td>\n      <td>90.4</td>\n      <td>0.7</td>\n      <td>3.1</td>\n      <td>3.7</td>\n      <td>9.7</td>\n      <td>0.9</td>\n      <td>0.1</td>\n      <td>4.0</td>\n      <td>27.2</td>\n    </tr>\n    <tr>\n      <th>4</th>\n      <td>5</td>\n      <td>DeMar DeRozan</td>\n      <td>CHI</td>\n      <td>76</td>\n      <td>36.1</td>\n      <td>27.9</td>\n      <td>10.2</td>\n      <td>20.2</td>\n      <td>50.4</td>\n      <td>0.7</td>\n      <td>...</td>\n      <td>7.8</td>\n      <td>87.7</td>\n      <td>0.7</td>\n      <td>4.4</td>\n      <td>5.2</td>\n      <td>4.9</td>\n      <td>0.9</td>\n      <td>0.3</td>\n      <td>2.4</td>\n      <td>25.8</td>\n    </tr>\n    <tr>\n      <th>...</th>\n      <td>...</td>\n      <td>...</td>\n      <td>...</td>\n      <td>...</td>\n      <td>...</td>\n      <td>...</td>\n      <td>...</td>\n      <td>...</td>\n      <td>...</td>\n      <td>...</td>\n      <td>...</td>\n      <td>...</td>\n      <td>...</td>\n      <td>...</td>\n      <td>...</td>\n      <td>...</td>\n      <td>...</td>\n      <td>...</td>\n      <td>...</td>\n      <td>...</td>\n      <td>...</td>\n    </tr>\n    <tr>\n      <th>223</th>\n      <td>224</td>\n      <td>Frank Ntilikina</td>\n      <td>DAL</td>\n      <td>58</td>\n      <td>11.8</td>\n      <td>4.1</td>\n      <td>1.5</td>\n      <td>3.8</td>\n      <td>39.9</td>\n      <td>0.7</td>\n      <td>...</td>\n      <td>0.4</td>\n      <td>96.0</td>\n      <td>0.2</td>\n      <td>1.2</td>\n      <td>1.4</td>\n      <td>1.2</td>\n      <td>0.5</td>\n      <td>0.1</td>\n      <td>0.5</td>\n      <td>4.4</td>\n    </tr>\n    <tr>\n      <th>224</th>\n      <td>225</td>\n      <td>Juan Toscano-Anderson</td>\n      <td>GSW</td>\n      <td>73</td>\n      <td>13.6</td>\n      <td>4.1</td>\n      <td>1.6</td>\n      <td>3.2</td>\n      <td>48.9</td>\n      <td>0.4</td>\n      <td>...</td>\n      <td>1.0</td>\n      <td>57.1</td>\n      <td>0.4</td>\n      <td>2.0</td>\n      <td>2.4</td>\n      <td>1.7</td>\n      <td>0.7</td>\n      <td>0.2</td>\n      <td>0.9</td>\n      <td>6.1</td>\n    </tr>\n    <tr>\n      <th>225</th>\n      <td>226</td>\n      <td>Jordan McLaughlin</td>\n      <td>MIN</td>\n      <td>62</td>\n      <td>14.5</td>\n      <td>3.8</td>\n      <td>1.4</td>\n      <td>3.2</td>\n      <td>44.0</td>\n      <td>0.4</td>\n      <td>...</td>\n      <td>0.6</td>\n      <td>75.0</td>\n      <td>0.4</td>\n      <td>1.2</td>\n      <td>1.5</td>\n      <td>2.9</td>\n      <td>0.9</td>\n      <td>0.2</td>\n      <td>0.6</td>\n      <td>6.7</td>\n    </tr>\n    <tr>\n      <th>226</th>\n      <td>227</td>\n      <td>Trent Forrest</td>\n      <td>UTA</td>\n      <td>60</td>\n      <td>12.8</td>\n      <td>3.3</td>\n      <td>1.3</td>\n      <td>2.6</td>\n      <td>49.0</td>\n      <td>0.1</td>\n      <td>...</td>\n      <td>0.8</td>\n      <td>79.2</td>\n      <td>0.4</td>\n      <td>1.3</td>\n      <td>1.7</td>\n      <td>1.8</td>\n      <td>0.5</td>\n      <td>0.1</td>\n      <td>0.8</td>\n      <td>5.0</td>\n    </tr>\n    <tr>\n      <th>227</th>\n      <td>228</td>\n      <td>Dalano Banton</td>\n      <td>TOR</td>\n      <td>64</td>\n      <td>10.9</td>\n      <td>3.2</td>\n      <td>1.3</td>\n      <td>3.2</td>\n      <td>41.1</td>\n      <td>0.2</td>\n      <td>...</td>\n      <td>0.7</td>\n      <td>59.1</td>\n      <td>0.6</td>\n      <td>1.3</td>\n      <td>1.9</td>\n      <td>1.5</td>\n      <td>0.4</td>\n      <td>0.2</td>\n      <td>0.8</td>\n      <td>4.3</td>\n    </tr>\n  </tbody>\n</table>\n<p>228 rows × 23 columns</p>\n</div>"
     },
     "execution_count": 45,
     "metadata": {},
     "output_type": "execute_result"
    }
   ],
   "source": [
    "nba_df = pd.read_csv('data/nba_stats.csv', encoding=\"Windows-1252\", delimiter=\",\")\n",
    "\n",
    "nba_df"
   ],
   "metadata": {
    "collapsed": false
   }
  },
  {
   "cell_type": "markdown",
   "source": [
    "Check for empty values for the kaggle data"
   ],
   "metadata": {
    "collapsed": false
   }
  },
  {
   "cell_type": "code",
   "execution_count": 42,
   "outputs": [
    {
     "data": {
      "text/plain": "(array([], dtype=int64), array([], dtype=int64))"
     },
     "execution_count": 42,
     "metadata": {},
     "output_type": "execute_result"
    }
   ],
   "source": [
    "np.where(pd.isnull(df))"
   ],
   "metadata": {
    "collapsed": false
   }
  },
  {
   "cell_type": "markdown",
   "source": [
    "Check for empty values for the nba data"
   ],
   "metadata": {
    "collapsed": false
   }
  },
  {
   "cell_type": "code",
   "execution_count": 46,
   "outputs": [
    {
     "data": {
      "text/plain": "(array([], dtype=int64), array([], dtype=int64))"
     },
     "execution_count": 46,
     "metadata": {},
     "output_type": "execute_result"
    }
   ],
   "source": [
    "np.where(pd.isnull(nba_df))"
   ],
   "metadata": {
    "collapsed": false
   }
  },
  {
   "cell_type": "markdown",
   "source": [
    "Drop the columns with text values to make them easier to work with"
   ],
   "metadata": {
    "collapsed": false
   }
  },
  {
   "cell_type": "code",
   "execution_count": 43,
   "outputs": [
    {
     "data": {
      "text/plain": "     index   Rk             Player  Age   G  GS    MP   FG   FGA    FG%  ...  \\\n0        0    1   Precious Achiuwa   22  73  28  23.6  3.6   8.3  0.439  ...   \n1        1    2       Steven Adams   28  76  75  26.3  2.8   5.1  0.547  ...   \n2        2    3        Bam Adebayo   24  56  56  32.6  7.3  13.0  0.557  ...   \n3        3    4       Santi Aldama   21  32   0  11.3  1.7   4.1  0.402  ...   \n4        4    5  LaMarcus Aldridge   36  47  12  22.3  5.4   9.7  0.550  ...   \n..     ...  ...                ...  ...  ..  ..   ...  ...   ...    ...  ...   \n807    807  601     Thaddeus Young   33  26   0  18.3  2.6   5.5  0.465  ...   \n808    808  602         Trae Young   23  76  76  34.9  9.4  20.3  0.460  ...   \n809    809  603     Omer Yurtseven   23  56  12  12.6  2.3   4.4  0.526  ...   \n810    810  604        Cody Zeller   29  27   0  13.1  1.9   3.3  0.567  ...   \n811    811  605        Ivica Zubac   24  76  76  24.4  4.1   6.5  0.626  ...   \n\n       FT%  ORB  DRB   TRB  AST  STL  BLK  TOV   PF   PTS  \n0    0.595  2.0  4.5   6.5  1.1  0.5  0.6  1.2  2.1   9.1  \n1    0.543  4.6  5.4  10.0  3.4  0.9  0.8  1.5  2.0   6.9  \n2    0.753  2.4  7.6  10.1  3.4  1.4  0.8  2.6  3.1  19.1  \n3    0.625  1.0  1.7   2.7  0.7  0.2  0.3  0.5  1.1   4.1  \n4    0.873  1.6  3.9   5.5  0.9  0.3  1.0  0.9  1.7  12.9  \n..     ...  ...  ...   ...  ...  ...  ...  ...  ...   ...  \n807  0.481  1.5  2.9   4.4  1.7  1.2  0.4  0.8  1.7   6.3  \n808  0.904  0.7  3.1   3.7  9.7  0.9  0.1  4.0  1.7  28.4  \n809  0.623  1.5  3.7   5.3  0.9  0.3  0.4  0.7  1.5   5.3  \n810  0.776  1.9  2.8   4.6  0.8  0.3  0.2  0.7  2.1   5.2  \n811  0.727  2.9  5.6   8.5  1.6  0.5  1.0  1.5  2.7  10.3  \n\n[812 rows x 29 columns]",
      "text/html": "<div>\n<style scoped>\n    .dataframe tbody tr th:only-of-type {\n        vertical-align: middle;\n    }\n\n    .dataframe tbody tr th {\n        vertical-align: top;\n    }\n\n    .dataframe thead th {\n        text-align: right;\n    }\n</style>\n<table border=\"1\" class=\"dataframe\">\n  <thead>\n    <tr style=\"text-align: right;\">\n      <th></th>\n      <th>index</th>\n      <th>Rk</th>\n      <th>Player</th>\n      <th>Age</th>\n      <th>G</th>\n      <th>GS</th>\n      <th>MP</th>\n      <th>FG</th>\n      <th>FGA</th>\n      <th>FG%</th>\n      <th>...</th>\n      <th>FT%</th>\n      <th>ORB</th>\n      <th>DRB</th>\n      <th>TRB</th>\n      <th>AST</th>\n      <th>STL</th>\n      <th>BLK</th>\n      <th>TOV</th>\n      <th>PF</th>\n      <th>PTS</th>\n    </tr>\n  </thead>\n  <tbody>\n    <tr>\n      <th>0</th>\n      <td>0</td>\n      <td>1</td>\n      <td>Precious Achiuwa</td>\n      <td>22</td>\n      <td>73</td>\n      <td>28</td>\n      <td>23.6</td>\n      <td>3.6</td>\n      <td>8.3</td>\n      <td>0.439</td>\n      <td>...</td>\n      <td>0.595</td>\n      <td>2.0</td>\n      <td>4.5</td>\n      <td>6.5</td>\n      <td>1.1</td>\n      <td>0.5</td>\n      <td>0.6</td>\n      <td>1.2</td>\n      <td>2.1</td>\n      <td>9.1</td>\n    </tr>\n    <tr>\n      <th>1</th>\n      <td>1</td>\n      <td>2</td>\n      <td>Steven Adams</td>\n      <td>28</td>\n      <td>76</td>\n      <td>75</td>\n      <td>26.3</td>\n      <td>2.8</td>\n      <td>5.1</td>\n      <td>0.547</td>\n      <td>...</td>\n      <td>0.543</td>\n      <td>4.6</td>\n      <td>5.4</td>\n      <td>10.0</td>\n      <td>3.4</td>\n      <td>0.9</td>\n      <td>0.8</td>\n      <td>1.5</td>\n      <td>2.0</td>\n      <td>6.9</td>\n    </tr>\n    <tr>\n      <th>2</th>\n      <td>2</td>\n      <td>3</td>\n      <td>Bam Adebayo</td>\n      <td>24</td>\n      <td>56</td>\n      <td>56</td>\n      <td>32.6</td>\n      <td>7.3</td>\n      <td>13.0</td>\n      <td>0.557</td>\n      <td>...</td>\n      <td>0.753</td>\n      <td>2.4</td>\n      <td>7.6</td>\n      <td>10.1</td>\n      <td>3.4</td>\n      <td>1.4</td>\n      <td>0.8</td>\n      <td>2.6</td>\n      <td>3.1</td>\n      <td>19.1</td>\n    </tr>\n    <tr>\n      <th>3</th>\n      <td>3</td>\n      <td>4</td>\n      <td>Santi Aldama</td>\n      <td>21</td>\n      <td>32</td>\n      <td>0</td>\n      <td>11.3</td>\n      <td>1.7</td>\n      <td>4.1</td>\n      <td>0.402</td>\n      <td>...</td>\n      <td>0.625</td>\n      <td>1.0</td>\n      <td>1.7</td>\n      <td>2.7</td>\n      <td>0.7</td>\n      <td>0.2</td>\n      <td>0.3</td>\n      <td>0.5</td>\n      <td>1.1</td>\n      <td>4.1</td>\n    </tr>\n    <tr>\n      <th>4</th>\n      <td>4</td>\n      <td>5</td>\n      <td>LaMarcus Aldridge</td>\n      <td>36</td>\n      <td>47</td>\n      <td>12</td>\n      <td>22.3</td>\n      <td>5.4</td>\n      <td>9.7</td>\n      <td>0.550</td>\n      <td>...</td>\n      <td>0.873</td>\n      <td>1.6</td>\n      <td>3.9</td>\n      <td>5.5</td>\n      <td>0.9</td>\n      <td>0.3</td>\n      <td>1.0</td>\n      <td>0.9</td>\n      <td>1.7</td>\n      <td>12.9</td>\n    </tr>\n    <tr>\n      <th>...</th>\n      <td>...</td>\n      <td>...</td>\n      <td>...</td>\n      <td>...</td>\n      <td>...</td>\n      <td>...</td>\n      <td>...</td>\n      <td>...</td>\n      <td>...</td>\n      <td>...</td>\n      <td>...</td>\n      <td>...</td>\n      <td>...</td>\n      <td>...</td>\n      <td>...</td>\n      <td>...</td>\n      <td>...</td>\n      <td>...</td>\n      <td>...</td>\n      <td>...</td>\n      <td>...</td>\n    </tr>\n    <tr>\n      <th>807</th>\n      <td>807</td>\n      <td>601</td>\n      <td>Thaddeus Young</td>\n      <td>33</td>\n      <td>26</td>\n      <td>0</td>\n      <td>18.3</td>\n      <td>2.6</td>\n      <td>5.5</td>\n      <td>0.465</td>\n      <td>...</td>\n      <td>0.481</td>\n      <td>1.5</td>\n      <td>2.9</td>\n      <td>4.4</td>\n      <td>1.7</td>\n      <td>1.2</td>\n      <td>0.4</td>\n      <td>0.8</td>\n      <td>1.7</td>\n      <td>6.3</td>\n    </tr>\n    <tr>\n      <th>808</th>\n      <td>808</td>\n      <td>602</td>\n      <td>Trae Young</td>\n      <td>23</td>\n      <td>76</td>\n      <td>76</td>\n      <td>34.9</td>\n      <td>9.4</td>\n      <td>20.3</td>\n      <td>0.460</td>\n      <td>...</td>\n      <td>0.904</td>\n      <td>0.7</td>\n      <td>3.1</td>\n      <td>3.7</td>\n      <td>9.7</td>\n      <td>0.9</td>\n      <td>0.1</td>\n      <td>4.0</td>\n      <td>1.7</td>\n      <td>28.4</td>\n    </tr>\n    <tr>\n      <th>809</th>\n      <td>809</td>\n      <td>603</td>\n      <td>Omer Yurtseven</td>\n      <td>23</td>\n      <td>56</td>\n      <td>12</td>\n      <td>12.6</td>\n      <td>2.3</td>\n      <td>4.4</td>\n      <td>0.526</td>\n      <td>...</td>\n      <td>0.623</td>\n      <td>1.5</td>\n      <td>3.7</td>\n      <td>5.3</td>\n      <td>0.9</td>\n      <td>0.3</td>\n      <td>0.4</td>\n      <td>0.7</td>\n      <td>1.5</td>\n      <td>5.3</td>\n    </tr>\n    <tr>\n      <th>810</th>\n      <td>810</td>\n      <td>604</td>\n      <td>Cody Zeller</td>\n      <td>29</td>\n      <td>27</td>\n      <td>0</td>\n      <td>13.1</td>\n      <td>1.9</td>\n      <td>3.3</td>\n      <td>0.567</td>\n      <td>...</td>\n      <td>0.776</td>\n      <td>1.9</td>\n      <td>2.8</td>\n      <td>4.6</td>\n      <td>0.8</td>\n      <td>0.3</td>\n      <td>0.2</td>\n      <td>0.7</td>\n      <td>2.1</td>\n      <td>5.2</td>\n    </tr>\n    <tr>\n      <th>811</th>\n      <td>811</td>\n      <td>605</td>\n      <td>Ivica Zubac</td>\n      <td>24</td>\n      <td>76</td>\n      <td>76</td>\n      <td>24.4</td>\n      <td>4.1</td>\n      <td>6.5</td>\n      <td>0.626</td>\n      <td>...</td>\n      <td>0.727</td>\n      <td>2.9</td>\n      <td>5.6</td>\n      <td>8.5</td>\n      <td>1.6</td>\n      <td>0.5</td>\n      <td>1.0</td>\n      <td>1.5</td>\n      <td>2.7</td>\n      <td>10.3</td>\n    </tr>\n  </tbody>\n</table>\n<p>812 rows × 29 columns</p>\n</div>"
     },
     "execution_count": 43,
     "metadata": {},
     "output_type": "execute_result"
    }
   ],
   "source": [
    "df.drop(\"Tm\", inplace=True, axis=1)\n",
    "df.drop(\"Pos\", inplace=True, axis=1)\n",
    "df.reset_index()"
   ],
   "metadata": {
    "collapsed": false
   }
  },
  {
   "cell_type": "markdown",
   "source": [
    "Remove duplicate players from Kaggle dataset by combining duplicate rows together and taking the mean of their values (rounded to as many decimal points as was in the values respective columns)"
   ],
   "metadata": {
    "collapsed": false
   }
  },
  {
   "cell_type": "code",
   "execution_count": 160,
   "outputs": [
    {
     "data": {
      "text/plain": "        Rk             Player   Age   G  GS    MP   FG   FGA    FG%   3P  ...  \\\n0        1   Precious Achiuwa    22  73  28  23.6  3.6   8.3  0.439  0.8  ...   \n1        2       Steven Adams    28  76  75  26.3  2.8   5.1  0.547  0.0  ...   \n2        3        Bam Adebayo    24  56  56  32.6  7.3  13.0  0.557  0.0  ...   \n3        4       Santi Aldama    21  32   0  11.3  1.7   4.1  0.402  0.2  ...   \n4        5  LaMarcus Aldridge    36  47  12  22.3  5.4   9.7   0.55  0.3  ...   \n..     ...                ...   ...  ..  ..   ...  ...   ...    ...  ...  ...   \n600  572.0     Tremont Waters  24.0   2   0  15.2  1.3   4.2  0.345  0.6  ...   \n601  578.0      Derrick White  27.0  50  35  29.0  4.4  10.4  0.419  1.5  ...   \n602  593.0    Justise Winslow  25.0  32   7  18.6  2.8   6.6  0.427  0.4  ...   \n603  599.0       Moses Wright  23.0   3   0   2.9  0.2   0.8  0.167  0.0  ...   \n604  601.0     Thaddeus Young  33.0  35   1  16.3  2.7   5.2   0.52  0.3  ...   \n\n       FT%  ORB  DRB   TRB  AST  STL  BLK  TOV   PF   PTS  \n0    0.595  2.0  4.5   6.5  1.1  0.5  0.6  1.2  2.1   9.1  \n1    0.543  4.6  5.4  10.0  3.4  0.9  0.8  1.5  2.0   6.9  \n2    0.753  2.4  7.6  10.1  3.4  1.4  0.8  2.6  3.1  19.1  \n3    0.625  1.0  1.7   2.7  0.7  0.2  0.3  0.5  1.1   4.1  \n4    0.873  1.6  3.9   5.5  0.9  0.3  1.0  0.9  1.7  12.9  \n..     ...  ...  ...   ...  ...  ...  ...  ...  ...   ...  \n600    0.0  0.0  1.1   1.1  1.9  1.6  0.0  1.1  1.4   3.1  \n601  0.862  0.5  3.0   3.5  4.7  0.8  0.8  1.5  2.3  12.9  \n602  0.587  1.2  3.5   4.7  2.0  0.9  0.5  1.0  1.5   6.9  \n603  0.667  0.2  0.4   0.6  0.6  0.0  0.2  0.0  0.0   1.0  \n604  0.468  1.5  2.5   4.0  2.0  1.0  0.3  1.0  1.6   6.2  \n\n[605 rows x 28 columns]",
      "text/html": "<div>\n<style scoped>\n    .dataframe tbody tr th:only-of-type {\n        vertical-align: middle;\n    }\n\n    .dataframe tbody tr th {\n        vertical-align: top;\n    }\n\n    .dataframe thead th {\n        text-align: right;\n    }\n</style>\n<table border=\"1\" class=\"dataframe\">\n  <thead>\n    <tr style=\"text-align: right;\">\n      <th></th>\n      <th>Rk</th>\n      <th>Player</th>\n      <th>Age</th>\n      <th>G</th>\n      <th>GS</th>\n      <th>MP</th>\n      <th>FG</th>\n      <th>FGA</th>\n      <th>FG%</th>\n      <th>3P</th>\n      <th>...</th>\n      <th>FT%</th>\n      <th>ORB</th>\n      <th>DRB</th>\n      <th>TRB</th>\n      <th>AST</th>\n      <th>STL</th>\n      <th>BLK</th>\n      <th>TOV</th>\n      <th>PF</th>\n      <th>PTS</th>\n    </tr>\n  </thead>\n  <tbody>\n    <tr>\n      <th>0</th>\n      <td>1</td>\n      <td>Precious Achiuwa</td>\n      <td>22</td>\n      <td>73</td>\n      <td>28</td>\n      <td>23.6</td>\n      <td>3.6</td>\n      <td>8.3</td>\n      <td>0.439</td>\n      <td>0.8</td>\n      <td>...</td>\n      <td>0.595</td>\n      <td>2.0</td>\n      <td>4.5</td>\n      <td>6.5</td>\n      <td>1.1</td>\n      <td>0.5</td>\n      <td>0.6</td>\n      <td>1.2</td>\n      <td>2.1</td>\n      <td>9.1</td>\n    </tr>\n    <tr>\n      <th>1</th>\n      <td>2</td>\n      <td>Steven Adams</td>\n      <td>28</td>\n      <td>76</td>\n      <td>75</td>\n      <td>26.3</td>\n      <td>2.8</td>\n      <td>5.1</td>\n      <td>0.547</td>\n      <td>0.0</td>\n      <td>...</td>\n      <td>0.543</td>\n      <td>4.6</td>\n      <td>5.4</td>\n      <td>10.0</td>\n      <td>3.4</td>\n      <td>0.9</td>\n      <td>0.8</td>\n      <td>1.5</td>\n      <td>2.0</td>\n      <td>6.9</td>\n    </tr>\n    <tr>\n      <th>2</th>\n      <td>3</td>\n      <td>Bam Adebayo</td>\n      <td>24</td>\n      <td>56</td>\n      <td>56</td>\n      <td>32.6</td>\n      <td>7.3</td>\n      <td>13.0</td>\n      <td>0.557</td>\n      <td>0.0</td>\n      <td>...</td>\n      <td>0.753</td>\n      <td>2.4</td>\n      <td>7.6</td>\n      <td>10.1</td>\n      <td>3.4</td>\n      <td>1.4</td>\n      <td>0.8</td>\n      <td>2.6</td>\n      <td>3.1</td>\n      <td>19.1</td>\n    </tr>\n    <tr>\n      <th>3</th>\n      <td>4</td>\n      <td>Santi Aldama</td>\n      <td>21</td>\n      <td>32</td>\n      <td>0</td>\n      <td>11.3</td>\n      <td>1.7</td>\n      <td>4.1</td>\n      <td>0.402</td>\n      <td>0.2</td>\n      <td>...</td>\n      <td>0.625</td>\n      <td>1.0</td>\n      <td>1.7</td>\n      <td>2.7</td>\n      <td>0.7</td>\n      <td>0.2</td>\n      <td>0.3</td>\n      <td>0.5</td>\n      <td>1.1</td>\n      <td>4.1</td>\n    </tr>\n    <tr>\n      <th>4</th>\n      <td>5</td>\n      <td>LaMarcus Aldridge</td>\n      <td>36</td>\n      <td>47</td>\n      <td>12</td>\n      <td>22.3</td>\n      <td>5.4</td>\n      <td>9.7</td>\n      <td>0.55</td>\n      <td>0.3</td>\n      <td>...</td>\n      <td>0.873</td>\n      <td>1.6</td>\n      <td>3.9</td>\n      <td>5.5</td>\n      <td>0.9</td>\n      <td>0.3</td>\n      <td>1.0</td>\n      <td>0.9</td>\n      <td>1.7</td>\n      <td>12.9</td>\n    </tr>\n    <tr>\n      <th>...</th>\n      <td>...</td>\n      <td>...</td>\n      <td>...</td>\n      <td>...</td>\n      <td>...</td>\n      <td>...</td>\n      <td>...</td>\n      <td>...</td>\n      <td>...</td>\n      <td>...</td>\n      <td>...</td>\n      <td>...</td>\n      <td>...</td>\n      <td>...</td>\n      <td>...</td>\n      <td>...</td>\n      <td>...</td>\n      <td>...</td>\n      <td>...</td>\n      <td>...</td>\n      <td>...</td>\n    </tr>\n    <tr>\n      <th>600</th>\n      <td>572.0</td>\n      <td>Tremont Waters</td>\n      <td>24.0</td>\n      <td>2</td>\n      <td>0</td>\n      <td>15.2</td>\n      <td>1.3</td>\n      <td>4.2</td>\n      <td>0.345</td>\n      <td>0.6</td>\n      <td>...</td>\n      <td>0.0</td>\n      <td>0.0</td>\n      <td>1.1</td>\n      <td>1.1</td>\n      <td>1.9</td>\n      <td>1.6</td>\n      <td>0.0</td>\n      <td>1.1</td>\n      <td>1.4</td>\n      <td>3.1</td>\n    </tr>\n    <tr>\n      <th>601</th>\n      <td>578.0</td>\n      <td>Derrick White</td>\n      <td>27.0</td>\n      <td>50</td>\n      <td>35</td>\n      <td>29.0</td>\n      <td>4.4</td>\n      <td>10.4</td>\n      <td>0.419</td>\n      <td>1.5</td>\n      <td>...</td>\n      <td>0.862</td>\n      <td>0.5</td>\n      <td>3.0</td>\n      <td>3.5</td>\n      <td>4.7</td>\n      <td>0.8</td>\n      <td>0.8</td>\n      <td>1.5</td>\n      <td>2.3</td>\n      <td>12.9</td>\n    </tr>\n    <tr>\n      <th>602</th>\n      <td>593.0</td>\n      <td>Justise Winslow</td>\n      <td>25.0</td>\n      <td>32</td>\n      <td>7</td>\n      <td>18.6</td>\n      <td>2.8</td>\n      <td>6.6</td>\n      <td>0.427</td>\n      <td>0.4</td>\n      <td>...</td>\n      <td>0.587</td>\n      <td>1.2</td>\n      <td>3.5</td>\n      <td>4.7</td>\n      <td>2.0</td>\n      <td>0.9</td>\n      <td>0.5</td>\n      <td>1.0</td>\n      <td>1.5</td>\n      <td>6.9</td>\n    </tr>\n    <tr>\n      <th>603</th>\n      <td>599.0</td>\n      <td>Moses Wright</td>\n      <td>23.0</td>\n      <td>3</td>\n      <td>0</td>\n      <td>2.9</td>\n      <td>0.2</td>\n      <td>0.8</td>\n      <td>0.167</td>\n      <td>0.0</td>\n      <td>...</td>\n      <td>0.667</td>\n      <td>0.2</td>\n      <td>0.4</td>\n      <td>0.6</td>\n      <td>0.6</td>\n      <td>0.0</td>\n      <td>0.2</td>\n      <td>0.0</td>\n      <td>0.0</td>\n      <td>1.0</td>\n    </tr>\n    <tr>\n      <th>604</th>\n      <td>601.0</td>\n      <td>Thaddeus Young</td>\n      <td>33.0</td>\n      <td>35</td>\n      <td>1</td>\n      <td>16.3</td>\n      <td>2.7</td>\n      <td>5.2</td>\n      <td>0.52</td>\n      <td>0.3</td>\n      <td>...</td>\n      <td>0.468</td>\n      <td>1.5</td>\n      <td>2.5</td>\n      <td>4.0</td>\n      <td>2.0</td>\n      <td>1.0</td>\n      <td>0.3</td>\n      <td>1.0</td>\n      <td>1.6</td>\n      <td>6.2</td>\n    </tr>\n  </tbody>\n</table>\n<p>605 rows × 28 columns</p>\n</div>"
     },
     "execution_count": 160,
     "metadata": {},
     "output_type": "execute_result"
    }
   ],
   "source": [
    "duplicate_count = {}\n",
    "row_memory = {}\n",
    "dup_list = df.duplicated(subset=['Player'], keep=False)\n",
    "\n",
    "for index, row in df.iterrows():\n",
    "    if not dup_list[index]:\n",
    "        continue\n",
    "    if row[\"Player\"] not in row_memory:\n",
    "        row_memory[row[\"Player\"]] = row\n",
    "        duplicate_count[row[\"Player\"]] = 1\n",
    "        continue\n",
    "    row_memory[row[\"Player\"]] = row_memory[row[\"Player\"]] + row\n",
    "    duplicate_count[row[\"Player\"]] += 1\n",
    "\n",
    "def get_row_mean(row, player):\n",
    "    row[\"Rk\"] /=   round(duplicate_count[player])\n",
    "    row[\"Player\"] = player\n",
    "    row[\"Age\"] = row[\"Age\"] = row[\"Age\"] / duplicate_count[player]\n",
    "    row[\"G\"] = round(row[\"G\"] / duplicate_count[player])\n",
    "    row[\"GS\"] = round(row[\"GS\"] / duplicate_count[player])\n",
    "    row[\"MP\"] = round(row[\"MP\"] / duplicate_count[player], 1)\n",
    "    row[\"FG\"] = round(row[\"FG\"] / duplicate_count[player], 1)\n",
    "    row[\"FGA\"] = round(row[\"FGA\"] / duplicate_count[player], 1)\n",
    "    row[\"FG%\"] = round(row[\"FG%\"] / duplicate_count[player], 3)\n",
    "    row[\"3P\"] = round(row[\"3P\"] / duplicate_count[player], 1)\n",
    "    row[\"3PA\"] = round(row[\"3PA\"] / duplicate_count[player], 1)\n",
    "    row[\"3P%\"] = round(row[\"3P%\"] / duplicate_count[player], 1)\n",
    "    row[\"2P\"] = round(row[\"2P\"] / duplicate_count[player], 1)\n",
    "    row[\"2PA\"] = round(row[\"2PA\"] / duplicate_count[player], 1)\n",
    "    row[\"2P%\"] = round(row[\"2P%\"] / duplicate_count[player], 3)\n",
    "    row[\"eFG%\"] = round(row[\"eFG%\"] / duplicate_count[player], 3)\n",
    "    row[\"FT\"] = round(row[\"FT\"] / duplicate_count[player], 1)\n",
    "    row[\"FTA\"] = round(row[\"FTA\"] / duplicate_count[player], 1)\n",
    "    row[\"FT%\"] = round(row[\"FT%\"] / duplicate_count[player], 3)\n",
    "    row[\"ORB\"] = round(row[\"ORB\"] / duplicate_count[player], 1)\n",
    "    row[\"DRB\"] = round(row[\"DRB\"] / duplicate_count[player], 1)\n",
    "    row[\"TRB\"] = round(row[\"TRB\"] / duplicate_count[player], 1)\n",
    "    row[\"AST\"] = round(row[\"AST\"] / duplicate_count[player], 1)\n",
    "    row[\"STL\"] = round(row[\"STL\"] / duplicate_count[player], 1)\n",
    "    row[\"BLK\"] = round(row[\"BLK\"] / duplicate_count[player], 1)\n",
    "    row[\"TOV\"] = round(row[\"TOV\"] / duplicate_count[player], 1)\n",
    "    row[\"PF\"] = round(row[\"PF\"] / duplicate_count[player], 1)\n",
    "    row[\"PTS\"] = round(row[\"PTS\"] / duplicate_count[player], 1)\n",
    "\n",
    "    return row\n",
    "\n",
    "filtered_df = df[df.duplicated(subset=['Player'], keep=False) == False].reset_index(drop=True)\n",
    "\n",
    "for player in row_memory.keys():\n",
    "    new_row = get_row_mean(row_memory[player], player)\n",
    "    temp_df = pd.DataFrame(new_row)\n",
    "    filtered_df = pd.concat([filtered_df, temp_df.transpose()]).reset_index(drop=True)\n",
    "\n",
    "filtered_df"
   ],
   "metadata": {
    "collapsed": false
   }
  },
  {
   "cell_type": "markdown",
   "source": [],
   "metadata": {
    "collapsed": false
   }
  },
  {
   "cell_type": "markdown",
   "source": [
    "Get all players not in the NBA stats"
   ],
   "metadata": {
    "collapsed": false
   }
  },
  {
   "cell_type": "code",
   "execution_count": 168,
   "outputs": [
    {
     "data": {
      "text/plain": "['Precious Achiuwa',\n 'Steven Adams',\n 'Bam Adebayo',\n 'Santi Aldama',\n 'LaMarcus Aldridge',\n 'Grayson Allen',\n 'Jarrett Allen',\n 'Jose Alvarado',\n 'Kyle Anderson',\n 'Giannis Antetokounmpo',\n 'Thanasis Antetokounmpo',\n 'Carmelo Anthony',\n 'Cole Anthony',\n 'OG Anunoby',\n 'Ryan Arcidiacono',\n 'Trevor Ariza',\n 'Deni Avdija',\n 'Joel Ayayi',\n 'Deandre Ayton',\n 'Udoka Azubuike',\n 'LaMelo Ball',\n 'Lonzo Ball',\n 'Mo Bamba',\n 'Desmond Bane',\n 'Dalano Banton',\n 'Cat Barber',\n 'Harrison Barnes',\n 'Scottie Barnes',\n 'RJ Barrett',\n 'Will Barton',\n 'Paris Bass',\n 'Charles Bassey',\n 'Keita Bates-Diop',\n 'Nicolas Batum',\n 'Kent Bazemore',\n 'Darius Bazley',\n 'Bradley Beal',\n 'Malik Beasley',\n 'Jordan Bell',\n 'Patrick Beverley',\n 'Saddiq Bey',\n 'Khem Birch',\n 'Goga Bitadze',\n 'Bismack Biyombo',\n 'Nemanja Bjelica',\n 'Eric Bledsoe',\n 'Keljin Blevins',\n 'Bogdan Bogdanovi?',\n 'Bojan Bogdanovi?',\n 'Bol Bol',\n 'Leandro Bolmaro',\n 'Isaac Bonga',\n 'Devin Booker',\n 'Brandon Boston Jr.',\n 'Chris Boucher',\n 'James Bouknight',\n 'Avery Bradley',\n 'Tony Bradley',\n 'Ignas Brazdeikis',\n 'Mikal Bridges',\n 'Miles Bridges',\n 'Oshae Brissett',\n 'Malcolm Brogdon',\n 'Dillon Brooks',\n 'Bruce Brown',\n 'Greg Brown III',\n 'Jaylen Brown',\n 'Sterling Brown',\n 'Troy Brown Jr.',\n 'Jalen Brunson',\n 'Thomas Bryant',\n 'Shaq Buchanan',\n 'Reggie Bullock',\n 'Trey Burke',\n 'Alec Burks',\n 'Jared Butler',\n 'Jimmy Butler',\n 'Devontae Cacok',\n 'Kentavious Caldwell-Pope',\n 'Facundo Campazzo',\n 'Vlatko ?an?ar',\n 'Devin Cannady',\n 'Clint Capela',\n 'Wendell Carter Jr.',\n 'Alex Caruso',\n 'Ahmad Caver',\n 'Justin Champagnie',\n 'Zylan Cheatham',\n 'Chris Chiozza',\n 'Marquese Chriss',\n 'Josh Christopher',\n 'Gary Clark',\n 'Brandon Clarke',\n 'Jordan Clarkson',\n 'Nic Claxton',\n 'Amir Coffey',\n 'John Collins',\n 'Zach Collins',\n 'Darren Collison',\n 'Mike Conley',\n 'Pat Connaughton',\n 'Tyler Cook',\n 'Sharife Cooper',\n 'Petr Cornelie',\n 'Jae Crowder',\n 'Jarrett Culver',\n 'Jarron Cumberland',\n 'Cade Cunningham',\n 'Stephen Curry',\n 'Anthony Davis',\n 'Ed Davis',\n 'Terence Davis',\n 'Gabriel Deck',\n 'Dewayne Dedmon',\n 'Sam Dekker',\n 'Javin DeLaurier',\n 'DeMar DeRozan',\n 'Mamadi Diakite',\n 'Cheick Diallo',\n 'Hamidou Diallo',\n 'Gorgui Dieng',\n 'Luka Don?i?',\n 'Luguentz Dort',\n 'Ayo Dosunmu',\n 'Damyean Dotson',\n 'Devon Dotson',\n 'Sekou Doumbouya',\n 'PJ Dozier',\n 'Chris Duarte',\n 'David Duke Jr.',\n 'Kris Dunn',\n 'Kevin Durant',\n 'Jaime Echenique',\n 'Anthony Edwards',\n 'Carsen Edwards',\n 'Kessler Edwards',\n 'Rob Edwards',\n 'CJ Elleby',\n 'Wayne Ellington',\n 'Joel Embiid',\n 'Tacko Fall',\n 'Derrick Favors',\n 'Dorian Finney-Smith',\n 'Malachi Flynn',\n 'Aleem Ford',\n 'Trent Forrest',\n 'Evan Fournier',\n \"De'Aaron Fox\",\n 'Melvin Frazier',\n 'Enes Freedom',\n 'Markelle Fultz',\n 'Daniel Gafford',\n 'Danilo Gallinari',\n 'Darius Garland',\n 'Marcus Garrett',\n 'Usman Garuba',\n 'Luka Garza',\n 'Rudy Gay',\n 'Paul George',\n 'Taj Gibson',\n 'Josh Giddey',\n 'Shai Gilgeous-Alexander',\n 'Anthony Gill',\n 'Freddie Gillespie',\n 'Rudy Gobert',\n 'Brandon Goodwin',\n 'Jordan Goodwin',\n 'Aaron Gordon',\n 'Eric Gordon',\n \"Devonte' Graham\",\n 'Jerami Grant',\n 'Hassani Gravett',\n 'Danny Green',\n 'Draymond Green',\n 'Jalen Green',\n 'JaMychal Green',\n 'Javonte Green',\n 'Jeff Green',\n 'Josh Green',\n 'Blake Griffin',\n 'Quentin Grimes',\n 'Kyle Guy',\n 'Rui Hachimura',\n 'Tyler Hall',\n 'R.J. Hampton',\n 'Tim Hardaway Jr.',\n 'Maurice Harkless',\n 'Jared Harper',\n 'Gary Harris',\n 'Joe Harris',\n 'Tobias Harris',\n 'Shaquille Harrison',\n 'Isaiah Hartenstein',\n 'Udonis Haslem',\n 'Sam Hauser',\n 'Jaxson Hayes',\n 'Killian Hayes',\n 'Gordon Hayward',\n 'Aaron Henry',\n 'Willy Hernangï¿½mez',\n 'Tyler Herro',\n 'Haywood Highsmith',\n 'George Hill',\n 'Solomon Hill',\n 'Nate Hinton',\n 'Jaylen Hoard',\n 'Jrue Holiday',\n 'Richaun Holmes',\n 'Scotty Hopson',\n 'Al Horford',\n 'Talen Horton-Tucker',\n 'Dwight Howard',\n 'Markus Howard',\n 'Kevin Huerter',\n 'Jay Huff',\n 'Feron Hunt',\n \"De'Andre Hunter\",\n 'Chandler Hutchison',\n 'Bones Hyland',\n 'Andre Iguodala',\n 'Joe Ingles',\n 'Brandon Ingram',\n 'Kyrie Irving',\n 'Wes Iwundu',\n 'Frank Jackson',\n 'Isaiah Jackson',\n 'Jaren Jackson Jr.',\n 'Reggie Jackson',\n 'LeBron James',\n 'DeJon Jarreau',\n 'DaQuan Jeffries',\n 'Ty Jerome',\n 'Isaiah Joe',\n 'B.J. Johnson',\n 'Cameron Johnson',\n 'David Johnson',\n 'Jalen Johnson',\n 'James Johnson',\n 'Joe Johnson',\n 'Keldon Johnson',\n 'Stanley Johnson',\n 'Nikola Joki?',\n 'Damian Jones',\n 'Derrick Jones Jr.',\n 'Herbert Jones',\n 'Jemerrio Jones',\n 'Kai Jones',\n 'Mason Jones',\n 'Tre Jones',\n 'Tyus Jones',\n 'Cory Joseph',\n 'Frank Kaminsky',\n 'Luke Kennard',\n 'George King',\n 'Louis King',\n 'Corey Kispert',\n 'Maxi Kleber',\n 'Brandon Knight',\n 'Nathan Knight',\n 'John Konchar',\n 'Furkan Korkmaz',\n 'Vit Krejci',\n 'Arnoldas Kulboka',\n 'Jonathan Kuminga',\n 'Kyle Kuzma',\n 'Anthony Lamb',\n 'Jock Landale',\n 'Zach LaVine',\n 'Jake Layman',\n 'Damion Lee',\n 'Saben Lee',\n 'Alex Len',\n 'Kira Lewis Jr.',\n 'Scottie Lewis',\n 'Damian Lillard',\n 'Nassir Little',\n 'Isaiah Livers',\n 'Kevon Looney',\n 'Brook Lopez',\n 'Robin Lopez',\n 'Kevin Love',\n 'Kyle Lowry',\n 'Gabriel Lundberg',\n 'Timothï¿½ Luwawu-Cabarrot',\n 'Thï¿½o Maledon',\n 'Sandro Mamukelashvili',\n 'Terance Mann',\n 'Tre Mann',\n 'Boban Marjanovi?',\n 'Lauri Markkanen',\n 'Naji Marshall',\n 'Caleb Martin',\n 'Cody Martin',\n 'Kenyon Martin Jr.',\n 'Garrison Mathews',\n 'Dakota Mathias',\n 'Wesley Matthews',\n 'Tyrese Maxey',\n 'Skylar Mays',\n 'Miles McBride',\n 'T.J. McConnell',\n 'Jaden McDaniels',\n 'Jalen McDaniels',\n 'Doug McDermott',\n 'JaVale McGee',\n 'Cameron McGriff',\n 'Rodney McGruder',\n 'Alfonzo McKinnie',\n 'JaQuori McLaughlin',\n 'Jordan McLaughlin',\n 'Ben McLemore',\n \"De'Anthony Melton\",\n 'Sam Merrill',\n 'Chimezie Metu',\n 'Khris Middleton',\n 'C.J. Miles',\n 'Patty Mills',\n 'Shake Milton',\n 'Davion Mitchell',\n 'Donovan Mitchell',\n 'Evan Mobley',\n 'Malik Monk',\n 'Moses Moody',\n 'Xavier Moon',\n 'Matt Mooney',\n 'Ja Morant',\n 'Jaylen Morris',\n 'Marcus Morris',\n 'Markieff Morris',\n 'Monte Morris',\n 'Emmanuel Mudiay',\n 'Ade Murkey',\n 'Trey Murphy III',\n 'Dejounte Murray',\n 'Mike Muscala',\n 'Svi Mykhailiuk',\n 'Abdel Nader',\n 'RJ Nembhard Jr.',\n 'Aaron Nesmith',\n 'Raul Neto',\n 'Malik Newman',\n 'Georges Niang',\n 'Daishen Nix',\n 'Zeke Nnaji',\n 'Nerlens Noel',\n 'Jaylen Nowell',\n 'Frank Ntilikina',\n 'Jusuf Nurki?',\n 'David Nwaba',\n 'Jordan Nwora',\n \"Royce O'Neale\",\n 'Chuma Okeke',\n 'Josh Okogie',\n 'Onyeka Okongwu',\n 'Isaac Okoro',\n 'KZ Okpala',\n 'Victor Oladipo',\n 'Cameron Oliver',\n 'Kelly Olynyk',\n 'Eugene Omoruyi',\n 'Miye Oni',\n 'Cedi Osman',\n 'Daniel Oturu',\n 'Kelly Oubre Jr.',\n 'Jaysean Paige',\n 'Trayvon Palmer',\n 'Kevin Pangos',\n 'Jabari Parker',\n 'Eric Paschall',\n 'Chris Paul',\n 'Cameron Payne',\n 'Elfrid Payton',\n 'Gary Payton II',\n 'Norvel Pelle',\n 'Jamorko Pickett',\n 'Theo Pinson',\n 'Mason Plumlee',\n 'Jakob Poeltl',\n 'Aleksej Pokusevski',\n 'Yves Pons',\n 'Jordan Poole',\n 'Kevin Porter Jr.',\n 'Michael Porter Jr.',\n 'Otto Porter Jr.',\n 'Bobby Portis',\n 'Micah Potter',\n 'Dwight Powell',\n 'Myles Powell',\n 'Joshua Primo',\n 'Taurean Prince',\n 'Payton Pritchard',\n 'Trevelin Queen',\n 'Neemias Queta',\n 'Immanuel Quickley',\n \"Jahmi'us Ramsey\",\n 'Julius Randle',\n 'Austin Reaves',\n 'Davon Reed',\n 'Paul Reed',\n 'Naz Reid',\n 'Nick Richards',\n 'Austin Rivers',\n 'Duncan Robinson',\n 'Mitchell Robinson',\n 'Jeremiah Robinson-Earl',\n 'Isaiah Roby',\n 'Derrick Rose',\n 'Terrence Ross',\n 'Terry Rozier',\n 'Ricky Rubio',\n \"D'Angelo Russell\",\n 'Matt Ryan',\n 'Olivier Sarr',\n 'Jordan Schakel',\n 'Admiral Schofield',\n 'Tre Scott',\n 'Jay Scrubb',\n 'Wayne Selden',\n 'Alperen ï¿½engï¿½n',\n 'Collin Sexton',\n 'Landry Shamet',\n \"Day'Ron Sharpe\",\n 'Pascal Siakam',\n 'Marko Simonovic',\n 'Anfernee Simons',\n 'Zavier Simpson',\n 'Jericho Sims',\n 'Deividas Sirvydis',\n 'Marcus Smart',\n 'Dennis Smith Jr.',\n 'Jaden Springer',\n 'Cassius Stanley',\n 'Lamar Stevens',\n 'Isaiah Stewart',\n 'Max Strus',\n 'Jalen Suggs',\n 'Craig Sword',\n 'Keifer Sykes',\n \"Jae'Sean Tate\",\n 'Jayson Tatum',\n 'Terry Taylor',\n 'Garrett Temple',\n 'Emanuel Terry',\n 'Tyrell Terry',\n 'Jon Teske',\n 'Brodric Thomas',\n 'Cam Thomas',\n 'Matt Thomas',\n 'Klay Thompson',\n 'JT Thor',\n 'Matisse Thybulle',\n 'Killian Tillie',\n 'Xavier Tillman Sr.',\n 'Isaiah Todd',\n 'Obi Toppin',\n 'Juan Toscano-Anderson',\n 'Karl-Anthony Towns',\n 'Gary Trent Jr.',\n 'P.J. Tucker',\n 'Myles Turner',\n 'Jonas Valan?i?nas',\n 'Jarred Vanderbilt',\n 'Fred VanVleet',\n 'Devin Vassell',\n 'Gabe Vincent',\n 'Nikola Vu?evi?',\n 'Dean Wade',\n 'Franz Wagner',\n 'Moritz Wagner',\n 'Ish Wainright',\n 'Kemba Walker',\n 'Lonnie Walker IV',\n 'M.J. Walker',\n 'Tyrone Wallace',\n 'Derrick Walton',\n 'Duane Washington Jr.',\n 'P.J. Washington',\n 'Yuta Watanabe',\n 'Lindy Waters III',\n 'Trendon Watford',\n 'Paul Watson',\n 'Quinndary Weatherspoon',\n 'Russell Westbrook',\n 'Coby White',\n 'Hassan Whiteside',\n 'Joe Wieskamp',\n 'Aaron Wiggins',\n 'Andrew Wiggins',\n 'Lindell Wigginton',\n 'Brandon Williams',\n 'Grant Williams',\n 'Kenrich Williams',\n 'Lou Williams',\n 'Patrick Williams',\n 'Robert Williams',\n 'Ziaire Williams',\n 'D.J. Wilson',\n 'Dylan Windler',\n 'Cassius Winston',\n 'Christian Wood',\n 'Robert Woodard II',\n 'Delon Wright',\n 'McKinley Wright IV',\n 'Gabe York',\n 'Trae Young',\n 'Omer Yurtseven',\n 'Cody Zeller',\n 'Ivica Zubac',\n 'Nickeil Alexander-Walker',\n 'Justin Anderson',\n 'D.J. Augustin',\n 'Marvin Bagley III',\n \"DeAndre' Bembry\",\n 'D?vis Bert?ns',\n 'Armoni Brooks',\n 'Charlie Brown Jr.',\n 'Chaundee Brown Jr.',\n 'Moses Brown',\n 'Vernon Carey Jr.',\n 'Jevon Carter',\n 'Willie Cauley-Stein',\n 'DeMarcus Cousins',\n 'Robert Covington',\n 'Torrey Craig',\n 'Seth Curry',\n 'Spencer Dinwiddie',\n 'Donte DiVincenzo',\n 'Jeff Dowtin',\n 'Goran Dragi?',\n 'Andre Drummond',\n 'James Ennis III',\n 'Drew Eubanks',\n 'Bruno Fernando',\n 'Malik Fitts',\n 'Bryn Forbes',\n 'Tim Frazier',\n 'Wenyen Gabriel',\n 'Langston Galloway',\n 'Tyrese Haliburton',\n 'James Harden',\n 'Montrezl Harrell',\n 'Josh Hart',\n 'Juancho Hernangï¿½mez',\n 'Buddy Hield',\n 'Malcolm Hill',\n 'Aaron Holiday',\n 'Justin Holiday',\n 'Rodney Hood',\n 'Danuel House Jr.',\n 'Elijah Hughes',\n 'Serge Ibaka',\n 'Josh Jackson',\n 'Justin Jackson',\n 'Alize Johnson',\n 'Keon Johnson',\n 'Tyler Johnson',\n 'Carlik Jones',\n 'DeAndre Jordan',\n 'Georgios Kalaitzakis',\n 'Braxton Key',\n 'Kevin Knox',\n 'Luke Kornet',\n 'Jeremy Lamb',\n 'Romeo Langford',\n 'Caris LeVert',\n 'Didi Louzada',\n 'Trey Lyles',\n 'Kelan Martin',\n 'Mac McClung',\n 'CJ McCollum',\n 'Paul Millsap',\n 'Greg Monroe',\n 'Juwan Morgan',\n 'Mychal Mulder',\n 'Larry Nance Jr.',\n 'Semi Ojeleye',\n 'Reggie Perry',\n 'Kristaps Porzi??is',\n 'Norman Powell',\n 'Cam Reddish',\n 'Josh Richardson',\n 'Justin Robinson',\n 'Rajon Rondo',\n 'Domantas Sabonis',\n 'Tomï¿½ Satoransk?',\n 'Dennis Schrï¿½der',\n 'Chris Silva',\n 'Javonte Smart',\n 'Ish Smith',\n 'Jalen Smith',\n 'Xavier Sneed',\n 'Tony Snell',\n 'Nik Stauskas',\n 'Lance Stephenson',\n 'Daniel Theis',\n 'Isaiah Thomas',\n 'Tristan Thompson',\n 'Rayjon Tucker',\n 'Denzel Valentine',\n 'Brad Wanamaker',\n 'Tremont Waters',\n 'Derrick White',\n 'Justise Winslow',\n 'Moses Wright',\n 'Thaddeus Young']"
     },
     "execution_count": 168,
     "metadata": {},
     "output_type": "execute_result"
    }
   ],
   "source": [
    "non_nba_stat_players = []\n",
    "\n",
    "for index, row in filtered_df.iterrows():\n",
    "    if row[\"Player\"] not in df[\"Player\"]:\n",
    "        non_nba_stat_players.append(row[\"Player\"])\n",
    "non_nba_stat_players\n"
   ],
   "metadata": {
    "collapsed": false
   }
  },
  {
   "cell_type": "code",
   "execution_count": null,
   "outputs": [],
   "source": [],
   "metadata": {
    "collapsed": false
   }
  }
 ],
 "metadata": {
  "kernelspec": {
   "display_name": "Python 3",
   "language": "python",
   "name": "python3"
  },
  "language_info": {
   "codemirror_mode": {
    "name": "ipython",
    "version": 2
   },
   "file_extension": ".py",
   "mimetype": "text/x-python",
   "name": "python",
   "nbconvert_exporter": "python",
   "pygments_lexer": "ipython2",
   "version": "2.7.6"
  }
 },
 "nbformat": 4,
 "nbformat_minor": 0
}
