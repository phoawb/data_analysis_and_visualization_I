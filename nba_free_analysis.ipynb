{
 "cells": [
  {
   "cell_type": "code",
   "execution_count": 132,
   "metadata": {
    "collapsed": true
   },
   "outputs": [],
   "source": [
    "import pandas as pd\n",
    "import numpy as np\n",
    "import plotly.graph_objs as go\n",
    "import plotly.express as px"
   ]
  },
  {
   "cell_type": "markdown",
   "metadata": {
    "collapsed": false
   },
   "source": [
    "Load in the data set taken from kaggle"
   ]
  },
  {
   "cell_type": "code",
   "execution_count": 133,
   "metadata": {
    "collapsed": false,
    "pycharm": {
     "is_executing": true
    }
   },
   "outputs": [
    {
     "data": {
      "text/html": [
       "<div>\n",
       "<style scoped>\n",
       "    .dataframe tbody tr th:only-of-type {\n",
       "        vertical-align: middle;\n",
       "    }\n",
       "\n",
       "    .dataframe tbody tr th {\n",
       "        vertical-align: top;\n",
       "    }\n",
       "\n",
       "    .dataframe thead th {\n",
       "        text-align: right;\n",
       "    }\n",
       "</style>\n",
       "<table border=\"1\" class=\"dataframe\">\n",
       "  <thead>\n",
       "    <tr style=\"text-align: right;\">\n",
       "      <th></th>\n",
       "      <th>Rk</th>\n",
       "      <th>Player</th>\n",
       "      <th>Pos</th>\n",
       "      <th>Age</th>\n",
       "      <th>Tm</th>\n",
       "      <th>G</th>\n",
       "      <th>GS</th>\n",
       "      <th>MP</th>\n",
       "      <th>FG</th>\n",
       "      <th>FGA</th>\n",
       "      <th>...</th>\n",
       "      <th>FT%</th>\n",
       "      <th>ORB</th>\n",
       "      <th>DRB</th>\n",
       "      <th>TRB</th>\n",
       "      <th>AST</th>\n",
       "      <th>STL</th>\n",
       "      <th>BLK</th>\n",
       "      <th>TOV</th>\n",
       "      <th>PF</th>\n",
       "      <th>PTS</th>\n",
       "    </tr>\n",
       "  </thead>\n",
       "  <tbody>\n",
       "    <tr>\n",
       "      <th>0</th>\n",
       "      <td>1</td>\n",
       "      <td>Precious Achiuwa</td>\n",
       "      <td>C</td>\n",
       "      <td>22</td>\n",
       "      <td>TOR</td>\n",
       "      <td>73</td>\n",
       "      <td>28</td>\n",
       "      <td>23.6</td>\n",
       "      <td>3.6</td>\n",
       "      <td>8.3</td>\n",
       "      <td>...</td>\n",
       "      <td>0.595</td>\n",
       "      <td>2.0</td>\n",
       "      <td>4.5</td>\n",
       "      <td>6.5</td>\n",
       "      <td>1.1</td>\n",
       "      <td>0.5</td>\n",
       "      <td>0.6</td>\n",
       "      <td>1.2</td>\n",
       "      <td>2.1</td>\n",
       "      <td>9.1</td>\n",
       "    </tr>\n",
       "    <tr>\n",
       "      <th>1</th>\n",
       "      <td>2</td>\n",
       "      <td>Steven Adams</td>\n",
       "      <td>C</td>\n",
       "      <td>28</td>\n",
       "      <td>MEM</td>\n",
       "      <td>76</td>\n",
       "      <td>75</td>\n",
       "      <td>26.3</td>\n",
       "      <td>2.8</td>\n",
       "      <td>5.1</td>\n",
       "      <td>...</td>\n",
       "      <td>0.543</td>\n",
       "      <td>4.6</td>\n",
       "      <td>5.4</td>\n",
       "      <td>10.0</td>\n",
       "      <td>3.4</td>\n",
       "      <td>0.9</td>\n",
       "      <td>0.8</td>\n",
       "      <td>1.5</td>\n",
       "      <td>2.0</td>\n",
       "      <td>6.9</td>\n",
       "    </tr>\n",
       "    <tr>\n",
       "      <th>2</th>\n",
       "      <td>3</td>\n",
       "      <td>Bam Adebayo</td>\n",
       "      <td>C</td>\n",
       "      <td>24</td>\n",
       "      <td>MIA</td>\n",
       "      <td>56</td>\n",
       "      <td>56</td>\n",
       "      <td>32.6</td>\n",
       "      <td>7.3</td>\n",
       "      <td>13.0</td>\n",
       "      <td>...</td>\n",
       "      <td>0.753</td>\n",
       "      <td>2.4</td>\n",
       "      <td>7.6</td>\n",
       "      <td>10.1</td>\n",
       "      <td>3.4</td>\n",
       "      <td>1.4</td>\n",
       "      <td>0.8</td>\n",
       "      <td>2.6</td>\n",
       "      <td>3.1</td>\n",
       "      <td>19.1</td>\n",
       "    </tr>\n",
       "    <tr>\n",
       "      <th>3</th>\n",
       "      <td>4</td>\n",
       "      <td>Santi Aldama</td>\n",
       "      <td>PF</td>\n",
       "      <td>21</td>\n",
       "      <td>MEM</td>\n",
       "      <td>32</td>\n",
       "      <td>0</td>\n",
       "      <td>11.3</td>\n",
       "      <td>1.7</td>\n",
       "      <td>4.1</td>\n",
       "      <td>...</td>\n",
       "      <td>0.625</td>\n",
       "      <td>1.0</td>\n",
       "      <td>1.7</td>\n",
       "      <td>2.7</td>\n",
       "      <td>0.7</td>\n",
       "      <td>0.2</td>\n",
       "      <td>0.3</td>\n",
       "      <td>0.5</td>\n",
       "      <td>1.1</td>\n",
       "      <td>4.1</td>\n",
       "    </tr>\n",
       "    <tr>\n",
       "      <th>4</th>\n",
       "      <td>5</td>\n",
       "      <td>LaMarcus Aldridge</td>\n",
       "      <td>C</td>\n",
       "      <td>36</td>\n",
       "      <td>BRK</td>\n",
       "      <td>47</td>\n",
       "      <td>12</td>\n",
       "      <td>22.3</td>\n",
       "      <td>5.4</td>\n",
       "      <td>9.7</td>\n",
       "      <td>...</td>\n",
       "      <td>0.873</td>\n",
       "      <td>1.6</td>\n",
       "      <td>3.9</td>\n",
       "      <td>5.5</td>\n",
       "      <td>0.9</td>\n",
       "      <td>0.3</td>\n",
       "      <td>1.0</td>\n",
       "      <td>0.9</td>\n",
       "      <td>1.7</td>\n",
       "      <td>12.9</td>\n",
       "    </tr>\n",
       "    <tr>\n",
       "      <th>...</th>\n",
       "      <td>...</td>\n",
       "      <td>...</td>\n",
       "      <td>...</td>\n",
       "      <td>...</td>\n",
       "      <td>...</td>\n",
       "      <td>...</td>\n",
       "      <td>...</td>\n",
       "      <td>...</td>\n",
       "      <td>...</td>\n",
       "      <td>...</td>\n",
       "      <td>...</td>\n",
       "      <td>...</td>\n",
       "      <td>...</td>\n",
       "      <td>...</td>\n",
       "      <td>...</td>\n",
       "      <td>...</td>\n",
       "      <td>...</td>\n",
       "      <td>...</td>\n",
       "      <td>...</td>\n",
       "      <td>...</td>\n",
       "      <td>...</td>\n",
       "    </tr>\n",
       "    <tr>\n",
       "      <th>807</th>\n",
       "      <td>601</td>\n",
       "      <td>Thaddeus Young</td>\n",
       "      <td>PF</td>\n",
       "      <td>33</td>\n",
       "      <td>TOR</td>\n",
       "      <td>26</td>\n",
       "      <td>0</td>\n",
       "      <td>18.3</td>\n",
       "      <td>2.6</td>\n",
       "      <td>5.5</td>\n",
       "      <td>...</td>\n",
       "      <td>0.481</td>\n",
       "      <td>1.5</td>\n",
       "      <td>2.9</td>\n",
       "      <td>4.4</td>\n",
       "      <td>1.7</td>\n",
       "      <td>1.2</td>\n",
       "      <td>0.4</td>\n",
       "      <td>0.8</td>\n",
       "      <td>1.7</td>\n",
       "      <td>6.3</td>\n",
       "    </tr>\n",
       "    <tr>\n",
       "      <th>808</th>\n",
       "      <td>602</td>\n",
       "      <td>Trae Young</td>\n",
       "      <td>PG</td>\n",
       "      <td>23</td>\n",
       "      <td>ATL</td>\n",
       "      <td>76</td>\n",
       "      <td>76</td>\n",
       "      <td>34.9</td>\n",
       "      <td>9.4</td>\n",
       "      <td>20.3</td>\n",
       "      <td>...</td>\n",
       "      <td>0.904</td>\n",
       "      <td>0.7</td>\n",
       "      <td>3.1</td>\n",
       "      <td>3.7</td>\n",
       "      <td>9.7</td>\n",
       "      <td>0.9</td>\n",
       "      <td>0.1</td>\n",
       "      <td>4.0</td>\n",
       "      <td>1.7</td>\n",
       "      <td>28.4</td>\n",
       "    </tr>\n",
       "    <tr>\n",
       "      <th>809</th>\n",
       "      <td>603</td>\n",
       "      <td>Omer Yurtseven</td>\n",
       "      <td>C</td>\n",
       "      <td>23</td>\n",
       "      <td>MIA</td>\n",
       "      <td>56</td>\n",
       "      <td>12</td>\n",
       "      <td>12.6</td>\n",
       "      <td>2.3</td>\n",
       "      <td>4.4</td>\n",
       "      <td>...</td>\n",
       "      <td>0.623</td>\n",
       "      <td>1.5</td>\n",
       "      <td>3.7</td>\n",
       "      <td>5.3</td>\n",
       "      <td>0.9</td>\n",
       "      <td>0.3</td>\n",
       "      <td>0.4</td>\n",
       "      <td>0.7</td>\n",
       "      <td>1.5</td>\n",
       "      <td>5.3</td>\n",
       "    </tr>\n",
       "    <tr>\n",
       "      <th>810</th>\n",
       "      <td>604</td>\n",
       "      <td>Cody Zeller</td>\n",
       "      <td>C</td>\n",
       "      <td>29</td>\n",
       "      <td>POR</td>\n",
       "      <td>27</td>\n",
       "      <td>0</td>\n",
       "      <td>13.1</td>\n",
       "      <td>1.9</td>\n",
       "      <td>3.3</td>\n",
       "      <td>...</td>\n",
       "      <td>0.776</td>\n",
       "      <td>1.9</td>\n",
       "      <td>2.8</td>\n",
       "      <td>4.6</td>\n",
       "      <td>0.8</td>\n",
       "      <td>0.3</td>\n",
       "      <td>0.2</td>\n",
       "      <td>0.7</td>\n",
       "      <td>2.1</td>\n",
       "      <td>5.2</td>\n",
       "    </tr>\n",
       "    <tr>\n",
       "      <th>811</th>\n",
       "      <td>605</td>\n",
       "      <td>Ivica Zubac</td>\n",
       "      <td>C</td>\n",
       "      <td>24</td>\n",
       "      <td>LAC</td>\n",
       "      <td>76</td>\n",
       "      <td>76</td>\n",
       "      <td>24.4</td>\n",
       "      <td>4.1</td>\n",
       "      <td>6.5</td>\n",
       "      <td>...</td>\n",
       "      <td>0.727</td>\n",
       "      <td>2.9</td>\n",
       "      <td>5.6</td>\n",
       "      <td>8.5</td>\n",
       "      <td>1.6</td>\n",
       "      <td>0.5</td>\n",
       "      <td>1.0</td>\n",
       "      <td>1.5</td>\n",
       "      <td>2.7</td>\n",
       "      <td>10.3</td>\n",
       "    </tr>\n",
       "  </tbody>\n",
       "</table>\n",
       "<p>812 rows × 30 columns</p>\n",
       "</div>"
      ],
      "text/plain": [
       "      Rk             Player Pos  Age   Tm   G  GS    MP   FG   FGA  ...  \\\n",
       "0      1   Precious Achiuwa   C   22  TOR  73  28  23.6  3.6   8.3  ...   \n",
       "1      2       Steven Adams   C   28  MEM  76  75  26.3  2.8   5.1  ...   \n",
       "2      3        Bam Adebayo   C   24  MIA  56  56  32.6  7.3  13.0  ...   \n",
       "3      4       Santi Aldama  PF   21  MEM  32   0  11.3  1.7   4.1  ...   \n",
       "4      5  LaMarcus Aldridge   C   36  BRK  47  12  22.3  5.4   9.7  ...   \n",
       "..   ...                ...  ..  ...  ...  ..  ..   ...  ...   ...  ...   \n",
       "807  601     Thaddeus Young  PF   33  TOR  26   0  18.3  2.6   5.5  ...   \n",
       "808  602         Trae Young  PG   23  ATL  76  76  34.9  9.4  20.3  ...   \n",
       "809  603     Omer Yurtseven   C   23  MIA  56  12  12.6  2.3   4.4  ...   \n",
       "810  604        Cody Zeller   C   29  POR  27   0  13.1  1.9   3.3  ...   \n",
       "811  605        Ivica Zubac   C   24  LAC  76  76  24.4  4.1   6.5  ...   \n",
       "\n",
       "       FT%  ORB  DRB   TRB  AST  STL  BLK  TOV   PF   PTS  \n",
       "0    0.595  2.0  4.5   6.5  1.1  0.5  0.6  1.2  2.1   9.1  \n",
       "1    0.543  4.6  5.4  10.0  3.4  0.9  0.8  1.5  2.0   6.9  \n",
       "2    0.753  2.4  7.6  10.1  3.4  1.4  0.8  2.6  3.1  19.1  \n",
       "3    0.625  1.0  1.7   2.7  0.7  0.2  0.3  0.5  1.1   4.1  \n",
       "4    0.873  1.6  3.9   5.5  0.9  0.3  1.0  0.9  1.7  12.9  \n",
       "..     ...  ...  ...   ...  ...  ...  ...  ...  ...   ...  \n",
       "807  0.481  1.5  2.9   4.4  1.7  1.2  0.4  0.8  1.7   6.3  \n",
       "808  0.904  0.7  3.1   3.7  9.7  0.9  0.1  4.0  1.7  28.4  \n",
       "809  0.623  1.5  3.7   5.3  0.9  0.3  0.4  0.7  1.5   5.3  \n",
       "810  0.776  1.9  2.8   4.6  0.8  0.3  0.2  0.7  2.1   5.2  \n",
       "811  0.727  2.9  5.6   8.5  1.6  0.5  1.0  1.5  2.7  10.3  \n",
       "\n",
       "[812 rows x 30 columns]"
      ]
     },
     "execution_count": 133,
     "metadata": {},
     "output_type": "execute_result"
    }
   ],
   "source": [
    "df = pd.read_csv('data/2021-2022 NBA Player Stats - Regular.csv', encoding=\"Windows-1252\", delimiter=\",\")\n",
    "\n",
    "df"
   ]
  },
  {
   "cell_type": "markdown",
   "metadata": {
    "collapsed": false
   },
   "source": [
    "Load in data taken from NBA"
   ]
  },
  {
   "cell_type": "markdown",
   "metadata": {
    "collapsed": false
   },
   "source": [
    "Check for empty values for the kaggle data"
   ]
  },
  {
   "cell_type": "code",
   "execution_count": 134,
   "metadata": {
    "collapsed": false
   },
   "outputs": [
    {
     "data": {
      "text/plain": [
       "(array([], dtype=int64), array([], dtype=int64))"
      ]
     },
     "execution_count": 134,
     "metadata": {},
     "output_type": "execute_result"
    }
   ],
   "source": [
    "np.where(pd.isnull(df))"
   ]
  },
  {
   "cell_type": "markdown",
   "metadata": {
    "collapsed": false
   },
   "source": [
    "Check for empty values for the nba data"
   ]
  },
  {
   "cell_type": "markdown",
   "metadata": {
    "collapsed": false
   },
   "source": [
    "Drop the columns with text values to make them easier to work with"
   ]
  },
  {
   "cell_type": "code",
   "execution_count": 135,
   "metadata": {
    "collapsed": false
   },
   "outputs": [
    {
     "data": {
      "text/html": [
       "<div>\n",
       "<style scoped>\n",
       "    .dataframe tbody tr th:only-of-type {\n",
       "        vertical-align: middle;\n",
       "    }\n",
       "\n",
       "    .dataframe tbody tr th {\n",
       "        vertical-align: top;\n",
       "    }\n",
       "\n",
       "    .dataframe thead th {\n",
       "        text-align: right;\n",
       "    }\n",
       "</style>\n",
       "<table border=\"1\" class=\"dataframe\">\n",
       "  <thead>\n",
       "    <tr style=\"text-align: right;\">\n",
       "      <th></th>\n",
       "      <th>index</th>\n",
       "      <th>Rk</th>\n",
       "      <th>Player</th>\n",
       "      <th>Age</th>\n",
       "      <th>G</th>\n",
       "      <th>GS</th>\n",
       "      <th>MP</th>\n",
       "      <th>FG</th>\n",
       "      <th>FGA</th>\n",
       "      <th>FG%</th>\n",
       "      <th>...</th>\n",
       "      <th>FT%</th>\n",
       "      <th>ORB</th>\n",
       "      <th>DRB</th>\n",
       "      <th>TRB</th>\n",
       "      <th>AST</th>\n",
       "      <th>STL</th>\n",
       "      <th>BLK</th>\n",
       "      <th>TOV</th>\n",
       "      <th>PF</th>\n",
       "      <th>PTS</th>\n",
       "    </tr>\n",
       "  </thead>\n",
       "  <tbody>\n",
       "    <tr>\n",
       "      <th>0</th>\n",
       "      <td>0</td>\n",
       "      <td>1</td>\n",
       "      <td>Precious Achiuwa</td>\n",
       "      <td>22</td>\n",
       "      <td>73</td>\n",
       "      <td>28</td>\n",
       "      <td>23.6</td>\n",
       "      <td>3.6</td>\n",
       "      <td>8.3</td>\n",
       "      <td>0.439</td>\n",
       "      <td>...</td>\n",
       "      <td>0.595</td>\n",
       "      <td>2.0</td>\n",
       "      <td>4.5</td>\n",
       "      <td>6.5</td>\n",
       "      <td>1.1</td>\n",
       "      <td>0.5</td>\n",
       "      <td>0.6</td>\n",
       "      <td>1.2</td>\n",
       "      <td>2.1</td>\n",
       "      <td>9.1</td>\n",
       "    </tr>\n",
       "    <tr>\n",
       "      <th>1</th>\n",
       "      <td>1</td>\n",
       "      <td>2</td>\n",
       "      <td>Steven Adams</td>\n",
       "      <td>28</td>\n",
       "      <td>76</td>\n",
       "      <td>75</td>\n",
       "      <td>26.3</td>\n",
       "      <td>2.8</td>\n",
       "      <td>5.1</td>\n",
       "      <td>0.547</td>\n",
       "      <td>...</td>\n",
       "      <td>0.543</td>\n",
       "      <td>4.6</td>\n",
       "      <td>5.4</td>\n",
       "      <td>10.0</td>\n",
       "      <td>3.4</td>\n",
       "      <td>0.9</td>\n",
       "      <td>0.8</td>\n",
       "      <td>1.5</td>\n",
       "      <td>2.0</td>\n",
       "      <td>6.9</td>\n",
       "    </tr>\n",
       "    <tr>\n",
       "      <th>2</th>\n",
       "      <td>2</td>\n",
       "      <td>3</td>\n",
       "      <td>Bam Adebayo</td>\n",
       "      <td>24</td>\n",
       "      <td>56</td>\n",
       "      <td>56</td>\n",
       "      <td>32.6</td>\n",
       "      <td>7.3</td>\n",
       "      <td>13.0</td>\n",
       "      <td>0.557</td>\n",
       "      <td>...</td>\n",
       "      <td>0.753</td>\n",
       "      <td>2.4</td>\n",
       "      <td>7.6</td>\n",
       "      <td>10.1</td>\n",
       "      <td>3.4</td>\n",
       "      <td>1.4</td>\n",
       "      <td>0.8</td>\n",
       "      <td>2.6</td>\n",
       "      <td>3.1</td>\n",
       "      <td>19.1</td>\n",
       "    </tr>\n",
       "    <tr>\n",
       "      <th>3</th>\n",
       "      <td>3</td>\n",
       "      <td>4</td>\n",
       "      <td>Santi Aldama</td>\n",
       "      <td>21</td>\n",
       "      <td>32</td>\n",
       "      <td>0</td>\n",
       "      <td>11.3</td>\n",
       "      <td>1.7</td>\n",
       "      <td>4.1</td>\n",
       "      <td>0.402</td>\n",
       "      <td>...</td>\n",
       "      <td>0.625</td>\n",
       "      <td>1.0</td>\n",
       "      <td>1.7</td>\n",
       "      <td>2.7</td>\n",
       "      <td>0.7</td>\n",
       "      <td>0.2</td>\n",
       "      <td>0.3</td>\n",
       "      <td>0.5</td>\n",
       "      <td>1.1</td>\n",
       "      <td>4.1</td>\n",
       "    </tr>\n",
       "    <tr>\n",
       "      <th>4</th>\n",
       "      <td>4</td>\n",
       "      <td>5</td>\n",
       "      <td>LaMarcus Aldridge</td>\n",
       "      <td>36</td>\n",
       "      <td>47</td>\n",
       "      <td>12</td>\n",
       "      <td>22.3</td>\n",
       "      <td>5.4</td>\n",
       "      <td>9.7</td>\n",
       "      <td>0.550</td>\n",
       "      <td>...</td>\n",
       "      <td>0.873</td>\n",
       "      <td>1.6</td>\n",
       "      <td>3.9</td>\n",
       "      <td>5.5</td>\n",
       "      <td>0.9</td>\n",
       "      <td>0.3</td>\n",
       "      <td>1.0</td>\n",
       "      <td>0.9</td>\n",
       "      <td>1.7</td>\n",
       "      <td>12.9</td>\n",
       "    </tr>\n",
       "    <tr>\n",
       "      <th>...</th>\n",
       "      <td>...</td>\n",
       "      <td>...</td>\n",
       "      <td>...</td>\n",
       "      <td>...</td>\n",
       "      <td>...</td>\n",
       "      <td>...</td>\n",
       "      <td>...</td>\n",
       "      <td>...</td>\n",
       "      <td>...</td>\n",
       "      <td>...</td>\n",
       "      <td>...</td>\n",
       "      <td>...</td>\n",
       "      <td>...</td>\n",
       "      <td>...</td>\n",
       "      <td>...</td>\n",
       "      <td>...</td>\n",
       "      <td>...</td>\n",
       "      <td>...</td>\n",
       "      <td>...</td>\n",
       "      <td>...</td>\n",
       "      <td>...</td>\n",
       "    </tr>\n",
       "    <tr>\n",
       "      <th>807</th>\n",
       "      <td>807</td>\n",
       "      <td>601</td>\n",
       "      <td>Thaddeus Young</td>\n",
       "      <td>33</td>\n",
       "      <td>26</td>\n",
       "      <td>0</td>\n",
       "      <td>18.3</td>\n",
       "      <td>2.6</td>\n",
       "      <td>5.5</td>\n",
       "      <td>0.465</td>\n",
       "      <td>...</td>\n",
       "      <td>0.481</td>\n",
       "      <td>1.5</td>\n",
       "      <td>2.9</td>\n",
       "      <td>4.4</td>\n",
       "      <td>1.7</td>\n",
       "      <td>1.2</td>\n",
       "      <td>0.4</td>\n",
       "      <td>0.8</td>\n",
       "      <td>1.7</td>\n",
       "      <td>6.3</td>\n",
       "    </tr>\n",
       "    <tr>\n",
       "      <th>808</th>\n",
       "      <td>808</td>\n",
       "      <td>602</td>\n",
       "      <td>Trae Young</td>\n",
       "      <td>23</td>\n",
       "      <td>76</td>\n",
       "      <td>76</td>\n",
       "      <td>34.9</td>\n",
       "      <td>9.4</td>\n",
       "      <td>20.3</td>\n",
       "      <td>0.460</td>\n",
       "      <td>...</td>\n",
       "      <td>0.904</td>\n",
       "      <td>0.7</td>\n",
       "      <td>3.1</td>\n",
       "      <td>3.7</td>\n",
       "      <td>9.7</td>\n",
       "      <td>0.9</td>\n",
       "      <td>0.1</td>\n",
       "      <td>4.0</td>\n",
       "      <td>1.7</td>\n",
       "      <td>28.4</td>\n",
       "    </tr>\n",
       "    <tr>\n",
       "      <th>809</th>\n",
       "      <td>809</td>\n",
       "      <td>603</td>\n",
       "      <td>Omer Yurtseven</td>\n",
       "      <td>23</td>\n",
       "      <td>56</td>\n",
       "      <td>12</td>\n",
       "      <td>12.6</td>\n",
       "      <td>2.3</td>\n",
       "      <td>4.4</td>\n",
       "      <td>0.526</td>\n",
       "      <td>...</td>\n",
       "      <td>0.623</td>\n",
       "      <td>1.5</td>\n",
       "      <td>3.7</td>\n",
       "      <td>5.3</td>\n",
       "      <td>0.9</td>\n",
       "      <td>0.3</td>\n",
       "      <td>0.4</td>\n",
       "      <td>0.7</td>\n",
       "      <td>1.5</td>\n",
       "      <td>5.3</td>\n",
       "    </tr>\n",
       "    <tr>\n",
       "      <th>810</th>\n",
       "      <td>810</td>\n",
       "      <td>604</td>\n",
       "      <td>Cody Zeller</td>\n",
       "      <td>29</td>\n",
       "      <td>27</td>\n",
       "      <td>0</td>\n",
       "      <td>13.1</td>\n",
       "      <td>1.9</td>\n",
       "      <td>3.3</td>\n",
       "      <td>0.567</td>\n",
       "      <td>...</td>\n",
       "      <td>0.776</td>\n",
       "      <td>1.9</td>\n",
       "      <td>2.8</td>\n",
       "      <td>4.6</td>\n",
       "      <td>0.8</td>\n",
       "      <td>0.3</td>\n",
       "      <td>0.2</td>\n",
       "      <td>0.7</td>\n",
       "      <td>2.1</td>\n",
       "      <td>5.2</td>\n",
       "    </tr>\n",
       "    <tr>\n",
       "      <th>811</th>\n",
       "      <td>811</td>\n",
       "      <td>605</td>\n",
       "      <td>Ivica Zubac</td>\n",
       "      <td>24</td>\n",
       "      <td>76</td>\n",
       "      <td>76</td>\n",
       "      <td>24.4</td>\n",
       "      <td>4.1</td>\n",
       "      <td>6.5</td>\n",
       "      <td>0.626</td>\n",
       "      <td>...</td>\n",
       "      <td>0.727</td>\n",
       "      <td>2.9</td>\n",
       "      <td>5.6</td>\n",
       "      <td>8.5</td>\n",
       "      <td>1.6</td>\n",
       "      <td>0.5</td>\n",
       "      <td>1.0</td>\n",
       "      <td>1.5</td>\n",
       "      <td>2.7</td>\n",
       "      <td>10.3</td>\n",
       "    </tr>\n",
       "  </tbody>\n",
       "</table>\n",
       "<p>812 rows × 29 columns</p>\n",
       "</div>"
      ],
      "text/plain": [
       "     index   Rk             Player  Age   G  GS    MP   FG   FGA    FG%  ...  \\\n",
       "0        0    1   Precious Achiuwa   22  73  28  23.6  3.6   8.3  0.439  ...   \n",
       "1        1    2       Steven Adams   28  76  75  26.3  2.8   5.1  0.547  ...   \n",
       "2        2    3        Bam Adebayo   24  56  56  32.6  7.3  13.0  0.557  ...   \n",
       "3        3    4       Santi Aldama   21  32   0  11.3  1.7   4.1  0.402  ...   \n",
       "4        4    5  LaMarcus Aldridge   36  47  12  22.3  5.4   9.7  0.550  ...   \n",
       "..     ...  ...                ...  ...  ..  ..   ...  ...   ...    ...  ...   \n",
       "807    807  601     Thaddeus Young   33  26   0  18.3  2.6   5.5  0.465  ...   \n",
       "808    808  602         Trae Young   23  76  76  34.9  9.4  20.3  0.460  ...   \n",
       "809    809  603     Omer Yurtseven   23  56  12  12.6  2.3   4.4  0.526  ...   \n",
       "810    810  604        Cody Zeller   29  27   0  13.1  1.9   3.3  0.567  ...   \n",
       "811    811  605        Ivica Zubac   24  76  76  24.4  4.1   6.5  0.626  ...   \n",
       "\n",
       "       FT%  ORB  DRB   TRB  AST  STL  BLK  TOV   PF   PTS  \n",
       "0    0.595  2.0  4.5   6.5  1.1  0.5  0.6  1.2  2.1   9.1  \n",
       "1    0.543  4.6  5.4  10.0  3.4  0.9  0.8  1.5  2.0   6.9  \n",
       "2    0.753  2.4  7.6  10.1  3.4  1.4  0.8  2.6  3.1  19.1  \n",
       "3    0.625  1.0  1.7   2.7  0.7  0.2  0.3  0.5  1.1   4.1  \n",
       "4    0.873  1.6  3.9   5.5  0.9  0.3  1.0  0.9  1.7  12.9  \n",
       "..     ...  ...  ...   ...  ...  ...  ...  ...  ...   ...  \n",
       "807  0.481  1.5  2.9   4.4  1.7  1.2  0.4  0.8  1.7   6.3  \n",
       "808  0.904  0.7  3.1   3.7  9.7  0.9  0.1  4.0  1.7  28.4  \n",
       "809  0.623  1.5  3.7   5.3  0.9  0.3  0.4  0.7  1.5   5.3  \n",
       "810  0.776  1.9  2.8   4.6  0.8  0.3  0.2  0.7  2.1   5.2  \n",
       "811  0.727  2.9  5.6   8.5  1.6  0.5  1.0  1.5  2.7  10.3  \n",
       "\n",
       "[812 rows x 29 columns]"
      ]
     },
     "execution_count": 135,
     "metadata": {},
     "output_type": "execute_result"
    }
   ],
   "source": [
    "df.drop(\"Tm\", inplace=True, axis=1)\n",
    "df.drop(\"Pos\", inplace=True, axis=1)\n",
    "#df.drop(\"index\", inplace=True, axis=1)\n",
    "df.reset_index()"
   ]
  },
  {
   "cell_type": "markdown",
   "metadata": {
    "collapsed": false
   },
   "source": [
    "Remove duplicate players from Kaggle dataset by combining duplicate rows together and taking the mean of their values (rounded to as many decimal points as was in the values respective columns)"
   ]
  },
  {
   "cell_type": "code",
   "execution_count": 136,
   "metadata": {
    "collapsed": false
   },
   "outputs": [
    {
     "data": {
      "text/html": [
       "<div>\n",
       "<style scoped>\n",
       "    .dataframe tbody tr th:only-of-type {\n",
       "        vertical-align: middle;\n",
       "    }\n",
       "\n",
       "    .dataframe tbody tr th {\n",
       "        vertical-align: top;\n",
       "    }\n",
       "\n",
       "    .dataframe thead th {\n",
       "        text-align: right;\n",
       "    }\n",
       "</style>\n",
       "<table border=\"1\" class=\"dataframe\">\n",
       "  <thead>\n",
       "    <tr style=\"text-align: right;\">\n",
       "      <th></th>\n",
       "      <th>Rk</th>\n",
       "      <th>Player</th>\n",
       "      <th>Age</th>\n",
       "      <th>G</th>\n",
       "      <th>GS</th>\n",
       "      <th>MP</th>\n",
       "      <th>FG</th>\n",
       "      <th>FGA</th>\n",
       "      <th>FG%</th>\n",
       "      <th>3P</th>\n",
       "      <th>...</th>\n",
       "      <th>FT%</th>\n",
       "      <th>ORB</th>\n",
       "      <th>DRB</th>\n",
       "      <th>TRB</th>\n",
       "      <th>AST</th>\n",
       "      <th>STL</th>\n",
       "      <th>BLK</th>\n",
       "      <th>TOV</th>\n",
       "      <th>PF</th>\n",
       "      <th>PTS</th>\n",
       "    </tr>\n",
       "  </thead>\n",
       "  <tbody>\n",
       "    <tr>\n",
       "      <th>0</th>\n",
       "      <td>1</td>\n",
       "      <td>Precious Achiuwa</td>\n",
       "      <td>22</td>\n",
       "      <td>73</td>\n",
       "      <td>28</td>\n",
       "      <td>23.6</td>\n",
       "      <td>3.6</td>\n",
       "      <td>8.3</td>\n",
       "      <td>0.439</td>\n",
       "      <td>0.8</td>\n",
       "      <td>...</td>\n",
       "      <td>0.595</td>\n",
       "      <td>2.0</td>\n",
       "      <td>4.5</td>\n",
       "      <td>6.5</td>\n",
       "      <td>1.1</td>\n",
       "      <td>0.5</td>\n",
       "      <td>0.6</td>\n",
       "      <td>1.2</td>\n",
       "      <td>2.1</td>\n",
       "      <td>9.1</td>\n",
       "    </tr>\n",
       "    <tr>\n",
       "      <th>1</th>\n",
       "      <td>2</td>\n",
       "      <td>Steven Adams</td>\n",
       "      <td>28</td>\n",
       "      <td>76</td>\n",
       "      <td>75</td>\n",
       "      <td>26.3</td>\n",
       "      <td>2.8</td>\n",
       "      <td>5.1</td>\n",
       "      <td>0.547</td>\n",
       "      <td>0.0</td>\n",
       "      <td>...</td>\n",
       "      <td>0.543</td>\n",
       "      <td>4.6</td>\n",
       "      <td>5.4</td>\n",
       "      <td>10.0</td>\n",
       "      <td>3.4</td>\n",
       "      <td>0.9</td>\n",
       "      <td>0.8</td>\n",
       "      <td>1.5</td>\n",
       "      <td>2.0</td>\n",
       "      <td>6.9</td>\n",
       "    </tr>\n",
       "    <tr>\n",
       "      <th>2</th>\n",
       "      <td>3</td>\n",
       "      <td>Bam Adebayo</td>\n",
       "      <td>24</td>\n",
       "      <td>56</td>\n",
       "      <td>56</td>\n",
       "      <td>32.6</td>\n",
       "      <td>7.3</td>\n",
       "      <td>13.0</td>\n",
       "      <td>0.557</td>\n",
       "      <td>0.0</td>\n",
       "      <td>...</td>\n",
       "      <td>0.753</td>\n",
       "      <td>2.4</td>\n",
       "      <td>7.6</td>\n",
       "      <td>10.1</td>\n",
       "      <td>3.4</td>\n",
       "      <td>1.4</td>\n",
       "      <td>0.8</td>\n",
       "      <td>2.6</td>\n",
       "      <td>3.1</td>\n",
       "      <td>19.1</td>\n",
       "    </tr>\n",
       "    <tr>\n",
       "      <th>3</th>\n",
       "      <td>4</td>\n",
       "      <td>Santi Aldama</td>\n",
       "      <td>21</td>\n",
       "      <td>32</td>\n",
       "      <td>0</td>\n",
       "      <td>11.3</td>\n",
       "      <td>1.7</td>\n",
       "      <td>4.1</td>\n",
       "      <td>0.402</td>\n",
       "      <td>0.2</td>\n",
       "      <td>...</td>\n",
       "      <td>0.625</td>\n",
       "      <td>1.0</td>\n",
       "      <td>1.7</td>\n",
       "      <td>2.7</td>\n",
       "      <td>0.7</td>\n",
       "      <td>0.2</td>\n",
       "      <td>0.3</td>\n",
       "      <td>0.5</td>\n",
       "      <td>1.1</td>\n",
       "      <td>4.1</td>\n",
       "    </tr>\n",
       "    <tr>\n",
       "      <th>4</th>\n",
       "      <td>5</td>\n",
       "      <td>LaMarcus Aldridge</td>\n",
       "      <td>36</td>\n",
       "      <td>47</td>\n",
       "      <td>12</td>\n",
       "      <td>22.3</td>\n",
       "      <td>5.4</td>\n",
       "      <td>9.7</td>\n",
       "      <td>0.55</td>\n",
       "      <td>0.3</td>\n",
       "      <td>...</td>\n",
       "      <td>0.873</td>\n",
       "      <td>1.6</td>\n",
       "      <td>3.9</td>\n",
       "      <td>5.5</td>\n",
       "      <td>0.9</td>\n",
       "      <td>0.3</td>\n",
       "      <td>1.0</td>\n",
       "      <td>0.9</td>\n",
       "      <td>1.7</td>\n",
       "      <td>12.9</td>\n",
       "    </tr>\n",
       "    <tr>\n",
       "      <th>...</th>\n",
       "      <td>...</td>\n",
       "      <td>...</td>\n",
       "      <td>...</td>\n",
       "      <td>...</td>\n",
       "      <td>...</td>\n",
       "      <td>...</td>\n",
       "      <td>...</td>\n",
       "      <td>...</td>\n",
       "      <td>...</td>\n",
       "      <td>...</td>\n",
       "      <td>...</td>\n",
       "      <td>...</td>\n",
       "      <td>...</td>\n",
       "      <td>...</td>\n",
       "      <td>...</td>\n",
       "      <td>...</td>\n",
       "      <td>...</td>\n",
       "      <td>...</td>\n",
       "      <td>...</td>\n",
       "      <td>...</td>\n",
       "      <td>...</td>\n",
       "    </tr>\n",
       "    <tr>\n",
       "      <th>600</th>\n",
       "      <td>572.0</td>\n",
       "      <td>Tremont Waters</td>\n",
       "      <td>24.0</td>\n",
       "      <td>2</td>\n",
       "      <td>0</td>\n",
       "      <td>15.2</td>\n",
       "      <td>1.3</td>\n",
       "      <td>4.2</td>\n",
       "      <td>0.345</td>\n",
       "      <td>0.6</td>\n",
       "      <td>...</td>\n",
       "      <td>0.0</td>\n",
       "      <td>0.0</td>\n",
       "      <td>1.1</td>\n",
       "      <td>1.1</td>\n",
       "      <td>1.9</td>\n",
       "      <td>1.6</td>\n",
       "      <td>0.0</td>\n",
       "      <td>1.1</td>\n",
       "      <td>1.4</td>\n",
       "      <td>3.1</td>\n",
       "    </tr>\n",
       "    <tr>\n",
       "      <th>601</th>\n",
       "      <td>578.0</td>\n",
       "      <td>Derrick White</td>\n",
       "      <td>27.0</td>\n",
       "      <td>50</td>\n",
       "      <td>35</td>\n",
       "      <td>29.0</td>\n",
       "      <td>4.4</td>\n",
       "      <td>10.4</td>\n",
       "      <td>0.419</td>\n",
       "      <td>1.5</td>\n",
       "      <td>...</td>\n",
       "      <td>0.862</td>\n",
       "      <td>0.5</td>\n",
       "      <td>3.0</td>\n",
       "      <td>3.5</td>\n",
       "      <td>4.7</td>\n",
       "      <td>0.8</td>\n",
       "      <td>0.8</td>\n",
       "      <td>1.5</td>\n",
       "      <td>2.3</td>\n",
       "      <td>12.9</td>\n",
       "    </tr>\n",
       "    <tr>\n",
       "      <th>602</th>\n",
       "      <td>593.0</td>\n",
       "      <td>Justise Winslow</td>\n",
       "      <td>25.0</td>\n",
       "      <td>32</td>\n",
       "      <td>7</td>\n",
       "      <td>18.6</td>\n",
       "      <td>2.8</td>\n",
       "      <td>6.6</td>\n",
       "      <td>0.427</td>\n",
       "      <td>0.4</td>\n",
       "      <td>...</td>\n",
       "      <td>0.587</td>\n",
       "      <td>1.2</td>\n",
       "      <td>3.5</td>\n",
       "      <td>4.7</td>\n",
       "      <td>2.0</td>\n",
       "      <td>0.9</td>\n",
       "      <td>0.5</td>\n",
       "      <td>1.0</td>\n",
       "      <td>1.5</td>\n",
       "      <td>6.9</td>\n",
       "    </tr>\n",
       "    <tr>\n",
       "      <th>603</th>\n",
       "      <td>599.0</td>\n",
       "      <td>Moses Wright</td>\n",
       "      <td>23.0</td>\n",
       "      <td>3</td>\n",
       "      <td>0</td>\n",
       "      <td>2.9</td>\n",
       "      <td>0.2</td>\n",
       "      <td>0.8</td>\n",
       "      <td>0.167</td>\n",
       "      <td>0.0</td>\n",
       "      <td>...</td>\n",
       "      <td>0.667</td>\n",
       "      <td>0.2</td>\n",
       "      <td>0.4</td>\n",
       "      <td>0.6</td>\n",
       "      <td>0.6</td>\n",
       "      <td>0.0</td>\n",
       "      <td>0.2</td>\n",
       "      <td>0.0</td>\n",
       "      <td>0.0</td>\n",
       "      <td>1.0</td>\n",
       "    </tr>\n",
       "    <tr>\n",
       "      <th>604</th>\n",
       "      <td>601.0</td>\n",
       "      <td>Thaddeus Young</td>\n",
       "      <td>33.0</td>\n",
       "      <td>35</td>\n",
       "      <td>1</td>\n",
       "      <td>16.3</td>\n",
       "      <td>2.7</td>\n",
       "      <td>5.2</td>\n",
       "      <td>0.52</td>\n",
       "      <td>0.3</td>\n",
       "      <td>...</td>\n",
       "      <td>0.468</td>\n",
       "      <td>1.5</td>\n",
       "      <td>2.5</td>\n",
       "      <td>4.0</td>\n",
       "      <td>2.0</td>\n",
       "      <td>1.0</td>\n",
       "      <td>0.3</td>\n",
       "      <td>1.0</td>\n",
       "      <td>1.6</td>\n",
       "      <td>6.2</td>\n",
       "    </tr>\n",
       "  </tbody>\n",
       "</table>\n",
       "<p>605 rows × 28 columns</p>\n",
       "</div>"
      ],
      "text/plain": [
       "        Rk             Player   Age   G  GS    MP   FG   FGA    FG%   3P  ...  \\\n",
       "0        1   Precious Achiuwa    22  73  28  23.6  3.6   8.3  0.439  0.8  ...   \n",
       "1        2       Steven Adams    28  76  75  26.3  2.8   5.1  0.547  0.0  ...   \n",
       "2        3        Bam Adebayo    24  56  56  32.6  7.3  13.0  0.557  0.0  ...   \n",
       "3        4       Santi Aldama    21  32   0  11.3  1.7   4.1  0.402  0.2  ...   \n",
       "4        5  LaMarcus Aldridge    36  47  12  22.3  5.4   9.7   0.55  0.3  ...   \n",
       "..     ...                ...   ...  ..  ..   ...  ...   ...    ...  ...  ...   \n",
       "600  572.0     Tremont Waters  24.0   2   0  15.2  1.3   4.2  0.345  0.6  ...   \n",
       "601  578.0      Derrick White  27.0  50  35  29.0  4.4  10.4  0.419  1.5  ...   \n",
       "602  593.0    Justise Winslow  25.0  32   7  18.6  2.8   6.6  0.427  0.4  ...   \n",
       "603  599.0       Moses Wright  23.0   3   0   2.9  0.2   0.8  0.167  0.0  ...   \n",
       "604  601.0     Thaddeus Young  33.0  35   1  16.3  2.7   5.2   0.52  0.3  ...   \n",
       "\n",
       "       FT%  ORB  DRB   TRB  AST  STL  BLK  TOV   PF   PTS  \n",
       "0    0.595  2.0  4.5   6.5  1.1  0.5  0.6  1.2  2.1   9.1  \n",
       "1    0.543  4.6  5.4  10.0  3.4  0.9  0.8  1.5  2.0   6.9  \n",
       "2    0.753  2.4  7.6  10.1  3.4  1.4  0.8  2.6  3.1  19.1  \n",
       "3    0.625  1.0  1.7   2.7  0.7  0.2  0.3  0.5  1.1   4.1  \n",
       "4    0.873  1.6  3.9   5.5  0.9  0.3  1.0  0.9  1.7  12.9  \n",
       "..     ...  ...  ...   ...  ...  ...  ...  ...  ...   ...  \n",
       "600    0.0  0.0  1.1   1.1  1.9  1.6  0.0  1.1  1.4   3.1  \n",
       "601  0.862  0.5  3.0   3.5  4.7  0.8  0.8  1.5  2.3  12.9  \n",
       "602  0.587  1.2  3.5   4.7  2.0  0.9  0.5  1.0  1.5   6.9  \n",
       "603  0.667  0.2  0.4   0.6  0.6  0.0  0.2  0.0  0.0   1.0  \n",
       "604  0.468  1.5  2.5   4.0  2.0  1.0  0.3  1.0  1.6   6.2  \n",
       "\n",
       "[605 rows x 28 columns]"
      ]
     },
     "execution_count": 136,
     "metadata": {},
     "output_type": "execute_result"
    }
   ],
   "source": [
    "duplicate_count = {}\n",
    "row_memory = {}\n",
    "dup_list = df.duplicated(subset=['Player'], keep=False)\n",
    "\n",
    "for index, row in df.iterrows():\n",
    "    if not dup_list[index]:\n",
    "        continue\n",
    "    if row[\"Player\"] not in row_memory:\n",
    "        row_memory[row[\"Player\"]] = row\n",
    "        duplicate_count[row[\"Player\"]] = 1\n",
    "        continue\n",
    "    row_memory[row[\"Player\"]] = row_memory[row[\"Player\"]] + row\n",
    "    duplicate_count[row[\"Player\"]] += 1\n",
    "\n",
    "def get_row_mean(row, player):\n",
    "    row[\"Rk\"] /=   round(duplicate_count[player])\n",
    "    row[\"Player\"] = player\n",
    "    row[\"Age\"] = row[\"Age\"] = row[\"Age\"] / duplicate_count[player]\n",
    "    row[\"G\"] = round(row[\"G\"] / duplicate_count[player])\n",
    "    row[\"GS\"] = round(row[\"GS\"] / duplicate_count[player])\n",
    "    row[\"MP\"] = round(row[\"MP\"] / duplicate_count[player], 1)\n",
    "    row[\"FG\"] = round(row[\"FG\"] / duplicate_count[player], 1)\n",
    "    row[\"FGA\"] = round(row[\"FGA\"] / duplicate_count[player], 1)\n",
    "    row[\"FG%\"] = round(row[\"FG%\"] / duplicate_count[player], 3)\n",
    "    row[\"3P\"] = round(row[\"3P\"] / duplicate_count[player], 1)\n",
    "    row[\"3PA\"] = round(row[\"3PA\"] / duplicate_count[player], 1)\n",
    "    row[\"3P%\"] = round(row[\"3P%\"] / duplicate_count[player], 1)\n",
    "    row[\"2P\"] = round(row[\"2P\"] / duplicate_count[player], 1)\n",
    "    row[\"2PA\"] = round(row[\"2PA\"] / duplicate_count[player], 1)\n",
    "    row[\"2P%\"] = round(row[\"2P%\"] / duplicate_count[player], 3)\n",
    "    row[\"eFG%\"] = round(row[\"eFG%\"] / duplicate_count[player], 3)\n",
    "    row[\"FT\"] = round(row[\"FT\"] / duplicate_count[player], 1)\n",
    "    row[\"FTA\"] = round(row[\"FTA\"] / duplicate_count[player], 1)\n",
    "    row[\"FT%\"] = round(row[\"FT%\"] / duplicate_count[player], 3)\n",
    "    row[\"ORB\"] = round(row[\"ORB\"] / duplicate_count[player], 1)\n",
    "    row[\"DRB\"] = round(row[\"DRB\"] / duplicate_count[player], 1)\n",
    "    row[\"TRB\"] = round(row[\"TRB\"] / duplicate_count[player], 1)\n",
    "    row[\"AST\"] = round(row[\"AST\"] / duplicate_count[player], 1)\n",
    "    row[\"STL\"] = round(row[\"STL\"] / duplicate_count[player], 1)\n",
    "    row[\"BLK\"] = round(row[\"BLK\"] / duplicate_count[player], 1)\n",
    "    row[\"TOV\"] = round(row[\"TOV\"] / duplicate_count[player], 1)\n",
    "    row[\"PF\"] = round(row[\"PF\"] / duplicate_count[player], 1)\n",
    "    row[\"PTS\"] = round(row[\"PTS\"] / duplicate_count[player], 1)\n",
    "\n",
    "    return row\n",
    "\n",
    "filtered_df = df[df.duplicated(subset=['Player'], keep=False) == False].reset_index(drop=True)\n",
    "\n",
    "for player in row_memory.keys():\n",
    "    new_row = get_row_mean(row_memory[player], player)\n",
    "    temp_df = pd.DataFrame(new_row)\n",
    "    filtered_df = pd.concat([filtered_df, temp_df.transpose()]).reset_index(drop=True)\n",
    "\n",
    "filtered_df"
   ]
  },
  {
   "cell_type": "code",
   "execution_count": 137,
   "metadata": {},
   "outputs": [
    {
     "data": {
      "application/vnd.plotly.v1+json": {
       "config": {
        "plotlyServerURL": "https://plot.ly"
       },
       "data": [
        {
         "name": "Mean",
         "type": "bar",
         "x": [
          "FG",
          "FGA",
          "FG%",
          "3P",
          "3PA",
          "3P%",
          "2P",
          "2PA",
          "2P%",
          "eFG%",
          "FT",
          "FTA",
          "FT%",
          "ORB",
          "DRB",
          "TRB",
          "AST",
          "STL",
          "BLK",
          "TOV",
          "PF",
          "PTS"
         ],
         "y": [
          2.8699507389162564,
          6.386576354679803,
          0.4262352216748769,
          0.8713054187192119,
          2.560591133004926,
          0.2765381773399015,
          2.0001231527093597,
          3.8286945812807875,
          0.4880911330049262,
          0.4882931034482759,
          1.2044334975369457,
          1.5752463054187191,
          0.6582672413793104,
          0.8129310344827586,
          2.519827586206896,
          3.331650246305419,
          1.8082512315270938,
          0.5827586206896551,
          0.3535714285714286,
          0.9786945812807881,
          1.564655172413793,
          7.81243842364532
         ]
        },
        {
         "name": "Median",
         "type": "bar",
         "x": [
          "FG",
          "FGA",
          "FG%",
          "3P",
          "3PA",
          "3P%",
          "2P",
          "2PA",
          "2P%",
          "eFG%",
          "FT",
          "FTA",
          "FT%",
          "ORB",
          "DRB",
          "TRB",
          "AST",
          "STL",
          "BLK",
          "TOV",
          "PF",
          "PTS"
         ],
         "y": [
          2.4,
          5.15,
          0.4395,
          0.7,
          2.05,
          0.3215,
          1.5,
          3,
          0.512,
          0.516,
          0.9,
          1.2,
          0.75,
          0.6,
          2.3,
          2.9,
          1.2,
          0.5,
          0.3,
          0.8,
          1.6,
          6.3
         ]
        },
        {
         "name": "Standard Deviation",
         "type": "bar",
         "x": [
          "FG",
          "FGA",
          "FG%",
          "3P",
          "3PA",
          "3P%",
          "2P",
          "2PA",
          "2P%",
          "eFG%",
          "FT",
          "FTA",
          "FT%",
          "ORB",
          "DRB",
          "TRB",
          "AST",
          "STL",
          "BLK",
          "TOV",
          "PF",
          "PTS"
         ],
         "y": [
          2.223988374198282,
          4.651121032453122,
          0.14852465605349097,
          0.8419352789136187,
          2.2056420524300377,
          0.1575786019843184,
          1.7625050787186147,
          3.1927363261249764,
          0.18053784987006502,
          0.15593030249830345,
          1.287990644619539,
          1.585893599497117,
          0.28349079715189296,
          0.744195975523328,
          1.7906562443082126,
          2.3528183348342804,
          1.838080110244224,
          0.4254519910142862,
          0.3608109151203242,
          0.8179410982867488,
          0.826783170581584,
          6.138076707084102
         ]
        }
       ],
       "layout": {
        "template": {
         "data": {
          "bar": [
           {
            "error_x": {
             "color": "#2a3f5f"
            },
            "error_y": {
             "color": "#2a3f5f"
            },
            "marker": {
             "line": {
              "color": "#E5ECF6",
              "width": 0.5
             },
             "pattern": {
              "fillmode": "overlay",
              "size": 10,
              "solidity": 0.2
             }
            },
            "type": "bar"
           }
          ],
          "barpolar": [
           {
            "marker": {
             "line": {
              "color": "#E5ECF6",
              "width": 0.5
             },
             "pattern": {
              "fillmode": "overlay",
              "size": 10,
              "solidity": 0.2
             }
            },
            "type": "barpolar"
           }
          ],
          "carpet": [
           {
            "aaxis": {
             "endlinecolor": "#2a3f5f",
             "gridcolor": "white",
             "linecolor": "white",
             "minorgridcolor": "white",
             "startlinecolor": "#2a3f5f"
            },
            "baxis": {
             "endlinecolor": "#2a3f5f",
             "gridcolor": "white",
             "linecolor": "white",
             "minorgridcolor": "white",
             "startlinecolor": "#2a3f5f"
            },
            "type": "carpet"
           }
          ],
          "choropleth": [
           {
            "colorbar": {
             "outlinewidth": 0,
             "ticks": ""
            },
            "type": "choropleth"
           }
          ],
          "contour": [
           {
            "colorbar": {
             "outlinewidth": 0,
             "ticks": ""
            },
            "colorscale": [
             [
              0,
              "#0d0887"
             ],
             [
              0.1111111111111111,
              "#46039f"
             ],
             [
              0.2222222222222222,
              "#7201a8"
             ],
             [
              0.3333333333333333,
              "#9c179e"
             ],
             [
              0.4444444444444444,
              "#bd3786"
             ],
             [
              0.5555555555555556,
              "#d8576b"
             ],
             [
              0.6666666666666666,
              "#ed7953"
             ],
             [
              0.7777777777777778,
              "#fb9f3a"
             ],
             [
              0.8888888888888888,
              "#fdca26"
             ],
             [
              1,
              "#f0f921"
             ]
            ],
            "type": "contour"
           }
          ],
          "contourcarpet": [
           {
            "colorbar": {
             "outlinewidth": 0,
             "ticks": ""
            },
            "type": "contourcarpet"
           }
          ],
          "heatmap": [
           {
            "colorbar": {
             "outlinewidth": 0,
             "ticks": ""
            },
            "colorscale": [
             [
              0,
              "#0d0887"
             ],
             [
              0.1111111111111111,
              "#46039f"
             ],
             [
              0.2222222222222222,
              "#7201a8"
             ],
             [
              0.3333333333333333,
              "#9c179e"
             ],
             [
              0.4444444444444444,
              "#bd3786"
             ],
             [
              0.5555555555555556,
              "#d8576b"
             ],
             [
              0.6666666666666666,
              "#ed7953"
             ],
             [
              0.7777777777777778,
              "#fb9f3a"
             ],
             [
              0.8888888888888888,
              "#fdca26"
             ],
             [
              1,
              "#f0f921"
             ]
            ],
            "type": "heatmap"
           }
          ],
          "heatmapgl": [
           {
            "colorbar": {
             "outlinewidth": 0,
             "ticks": ""
            },
            "colorscale": [
             [
              0,
              "#0d0887"
             ],
             [
              0.1111111111111111,
              "#46039f"
             ],
             [
              0.2222222222222222,
              "#7201a8"
             ],
             [
              0.3333333333333333,
              "#9c179e"
             ],
             [
              0.4444444444444444,
              "#bd3786"
             ],
             [
              0.5555555555555556,
              "#d8576b"
             ],
             [
              0.6666666666666666,
              "#ed7953"
             ],
             [
              0.7777777777777778,
              "#fb9f3a"
             ],
             [
              0.8888888888888888,
              "#fdca26"
             ],
             [
              1,
              "#f0f921"
             ]
            ],
            "type": "heatmapgl"
           }
          ],
          "histogram": [
           {
            "marker": {
             "pattern": {
              "fillmode": "overlay",
              "size": 10,
              "solidity": 0.2
             }
            },
            "type": "histogram"
           }
          ],
          "histogram2d": [
           {
            "colorbar": {
             "outlinewidth": 0,
             "ticks": ""
            },
            "colorscale": [
             [
              0,
              "#0d0887"
             ],
             [
              0.1111111111111111,
              "#46039f"
             ],
             [
              0.2222222222222222,
              "#7201a8"
             ],
             [
              0.3333333333333333,
              "#9c179e"
             ],
             [
              0.4444444444444444,
              "#bd3786"
             ],
             [
              0.5555555555555556,
              "#d8576b"
             ],
             [
              0.6666666666666666,
              "#ed7953"
             ],
             [
              0.7777777777777778,
              "#fb9f3a"
             ],
             [
              0.8888888888888888,
              "#fdca26"
             ],
             [
              1,
              "#f0f921"
             ]
            ],
            "type": "histogram2d"
           }
          ],
          "histogram2dcontour": [
           {
            "colorbar": {
             "outlinewidth": 0,
             "ticks": ""
            },
            "colorscale": [
             [
              0,
              "#0d0887"
             ],
             [
              0.1111111111111111,
              "#46039f"
             ],
             [
              0.2222222222222222,
              "#7201a8"
             ],
             [
              0.3333333333333333,
              "#9c179e"
             ],
             [
              0.4444444444444444,
              "#bd3786"
             ],
             [
              0.5555555555555556,
              "#d8576b"
             ],
             [
              0.6666666666666666,
              "#ed7953"
             ],
             [
              0.7777777777777778,
              "#fb9f3a"
             ],
             [
              0.8888888888888888,
              "#fdca26"
             ],
             [
              1,
              "#f0f921"
             ]
            ],
            "type": "histogram2dcontour"
           }
          ],
          "mesh3d": [
           {
            "colorbar": {
             "outlinewidth": 0,
             "ticks": ""
            },
            "type": "mesh3d"
           }
          ],
          "parcoords": [
           {
            "line": {
             "colorbar": {
              "outlinewidth": 0,
              "ticks": ""
             }
            },
            "type": "parcoords"
           }
          ],
          "pie": [
           {
            "automargin": true,
            "type": "pie"
           }
          ],
          "scatter": [
           {
            "fillpattern": {
             "fillmode": "overlay",
             "size": 10,
             "solidity": 0.2
            },
            "type": "scatter"
           }
          ],
          "scatter3d": [
           {
            "line": {
             "colorbar": {
              "outlinewidth": 0,
              "ticks": ""
             }
            },
            "marker": {
             "colorbar": {
              "outlinewidth": 0,
              "ticks": ""
             }
            },
            "type": "scatter3d"
           }
          ],
          "scattercarpet": [
           {
            "marker": {
             "colorbar": {
              "outlinewidth": 0,
              "ticks": ""
             }
            },
            "type": "scattercarpet"
           }
          ],
          "scattergeo": [
           {
            "marker": {
             "colorbar": {
              "outlinewidth": 0,
              "ticks": ""
             }
            },
            "type": "scattergeo"
           }
          ],
          "scattergl": [
           {
            "marker": {
             "colorbar": {
              "outlinewidth": 0,
              "ticks": ""
             }
            },
            "type": "scattergl"
           }
          ],
          "scattermapbox": [
           {
            "marker": {
             "colorbar": {
              "outlinewidth": 0,
              "ticks": ""
             }
            },
            "type": "scattermapbox"
           }
          ],
          "scatterpolar": [
           {
            "marker": {
             "colorbar": {
              "outlinewidth": 0,
              "ticks": ""
             }
            },
            "type": "scatterpolar"
           }
          ],
          "scatterpolargl": [
           {
            "marker": {
             "colorbar": {
              "outlinewidth": 0,
              "ticks": ""
             }
            },
            "type": "scatterpolargl"
           }
          ],
          "scatterternary": [
           {
            "marker": {
             "colorbar": {
              "outlinewidth": 0,
              "ticks": ""
             }
            },
            "type": "scatterternary"
           }
          ],
          "surface": [
           {
            "colorbar": {
             "outlinewidth": 0,
             "ticks": ""
            },
            "colorscale": [
             [
              0,
              "#0d0887"
             ],
             [
              0.1111111111111111,
              "#46039f"
             ],
             [
              0.2222222222222222,
              "#7201a8"
             ],
             [
              0.3333333333333333,
              "#9c179e"
             ],
             [
              0.4444444444444444,
              "#bd3786"
             ],
             [
              0.5555555555555556,
              "#d8576b"
             ],
             [
              0.6666666666666666,
              "#ed7953"
             ],
             [
              0.7777777777777778,
              "#fb9f3a"
             ],
             [
              0.8888888888888888,
              "#fdca26"
             ],
             [
              1,
              "#f0f921"
             ]
            ],
            "type": "surface"
           }
          ],
          "table": [
           {
            "cells": {
             "fill": {
              "color": "#EBF0F8"
             },
             "line": {
              "color": "white"
             }
            },
            "header": {
             "fill": {
              "color": "#C8D4E3"
             },
             "line": {
              "color": "white"
             }
            },
            "type": "table"
           }
          ]
         },
         "layout": {
          "annotationdefaults": {
           "arrowcolor": "#2a3f5f",
           "arrowhead": 0,
           "arrowwidth": 1
          },
          "autotypenumbers": "strict",
          "coloraxis": {
           "colorbar": {
            "outlinewidth": 0,
            "ticks": ""
           }
          },
          "colorscale": {
           "diverging": [
            [
             0,
             "#8e0152"
            ],
            [
             0.1,
             "#c51b7d"
            ],
            [
             0.2,
             "#de77ae"
            ],
            [
             0.3,
             "#f1b6da"
            ],
            [
             0.4,
             "#fde0ef"
            ],
            [
             0.5,
             "#f7f7f7"
            ],
            [
             0.6,
             "#e6f5d0"
            ],
            [
             0.7,
             "#b8e186"
            ],
            [
             0.8,
             "#7fbc41"
            ],
            [
             0.9,
             "#4d9221"
            ],
            [
             1,
             "#276419"
            ]
           ],
           "sequential": [
            [
             0,
             "#0d0887"
            ],
            [
             0.1111111111111111,
             "#46039f"
            ],
            [
             0.2222222222222222,
             "#7201a8"
            ],
            [
             0.3333333333333333,
             "#9c179e"
            ],
            [
             0.4444444444444444,
             "#bd3786"
            ],
            [
             0.5555555555555556,
             "#d8576b"
            ],
            [
             0.6666666666666666,
             "#ed7953"
            ],
            [
             0.7777777777777778,
             "#fb9f3a"
            ],
            [
             0.8888888888888888,
             "#fdca26"
            ],
            [
             1,
             "#f0f921"
            ]
           ],
           "sequentialminus": [
            [
             0,
             "#0d0887"
            ],
            [
             0.1111111111111111,
             "#46039f"
            ],
            [
             0.2222222222222222,
             "#7201a8"
            ],
            [
             0.3333333333333333,
             "#9c179e"
            ],
            [
             0.4444444444444444,
             "#bd3786"
            ],
            [
             0.5555555555555556,
             "#d8576b"
            ],
            [
             0.6666666666666666,
             "#ed7953"
            ],
            [
             0.7777777777777778,
             "#fb9f3a"
            ],
            [
             0.8888888888888888,
             "#fdca26"
            ],
            [
             1,
             "#f0f921"
            ]
           ]
          },
          "colorway": [
           "#636efa",
           "#EF553B",
           "#00cc96",
           "#ab63fa",
           "#FFA15A",
           "#19d3f3",
           "#FF6692",
           "#B6E880",
           "#FF97FF",
           "#FECB52"
          ],
          "font": {
           "color": "#2a3f5f"
          },
          "geo": {
           "bgcolor": "white",
           "lakecolor": "white",
           "landcolor": "#E5ECF6",
           "showlakes": true,
           "showland": true,
           "subunitcolor": "white"
          },
          "hoverlabel": {
           "align": "left"
          },
          "hovermode": "closest",
          "mapbox": {
           "style": "light"
          },
          "paper_bgcolor": "white",
          "plot_bgcolor": "#E5ECF6",
          "polar": {
           "angularaxis": {
            "gridcolor": "white",
            "linecolor": "white",
            "ticks": ""
           },
           "bgcolor": "#E5ECF6",
           "radialaxis": {
            "gridcolor": "white",
            "linecolor": "white",
            "ticks": ""
           }
          },
          "scene": {
           "xaxis": {
            "backgroundcolor": "#E5ECF6",
            "gridcolor": "white",
            "gridwidth": 2,
            "linecolor": "white",
            "showbackground": true,
            "ticks": "",
            "zerolinecolor": "white"
           },
           "yaxis": {
            "backgroundcolor": "#E5ECF6",
            "gridcolor": "white",
            "gridwidth": 2,
            "linecolor": "white",
            "showbackground": true,
            "ticks": "",
            "zerolinecolor": "white"
           },
           "zaxis": {
            "backgroundcolor": "#E5ECF6",
            "gridcolor": "white",
            "gridwidth": 2,
            "linecolor": "white",
            "showbackground": true,
            "ticks": "",
            "zerolinecolor": "white"
           }
          },
          "shapedefaults": {
           "line": {
            "color": "#2a3f5f"
           }
          },
          "ternary": {
           "aaxis": {
            "gridcolor": "white",
            "linecolor": "white",
            "ticks": ""
           },
           "baxis": {
            "gridcolor": "white",
            "linecolor": "white",
            "ticks": ""
           },
           "bgcolor": "#E5ECF6",
           "caxis": {
            "gridcolor": "white",
            "linecolor": "white",
            "ticks": ""
           }
          },
          "title": {
           "x": 0.05
          },
          "xaxis": {
           "automargin": true,
           "gridcolor": "white",
           "linecolor": "white",
           "ticks": "",
           "title": {
            "standoff": 15
           },
           "zerolinecolor": "white",
           "zerolinewidth": 2
          },
          "yaxis": {
           "automargin": true,
           "gridcolor": "white",
           "linecolor": "white",
           "ticks": "",
           "title": {
            "standoff": 15
           },
           "zerolinecolor": "white",
           "zerolinewidth": 2
          }
         }
        },
        "title": {
         "text": ""
        },
        "xaxis": {
         "title": {
          "text": "Variable"
         }
        },
        "yaxis": {
         "title": {
          "text": "Value"
         }
        }
       }
      }
     },
     "metadata": {},
     "output_type": "display_data"
    },
    {
     "data": {
      "application/vnd.plotly.v1+json": {
       "config": {
        "plotlyServerURL": "https://plot.ly"
       },
       "data": [
        {
         "name": "Mean",
         "type": "bar",
         "x": [
          "Rk",
          "Age",
          "G",
          "GS",
          "MP"
         ],
         "y": [
          304.5012315270936,
          26.051724137931036,
          36.70443349753695,
          16.67241379310345,
          18.26539408866995
         ]
        },
        {
         "name": "Median",
         "type": "bar",
         "x": [
          "Rk",
          "Age",
          "G",
          "GS",
          "MP"
         ],
         "y": [
          300.5,
          25,
          36.5,
          4,
          17.5
         ]
        },
        {
         "name": "Standard Deviation",
         "type": "bar",
         "x": [
          "Rk",
          "Age",
          "G",
          "GS",
          "MP"
         ],
         "y": [
          172.63733252248494,
          4.0596397868253655,
          25.899099100238164,
          23.817194828642243,
          9.648292117344772
         ]
        }
       ],
       "layout": {
        "template": {
         "data": {
          "bar": [
           {
            "error_x": {
             "color": "#2a3f5f"
            },
            "error_y": {
             "color": "#2a3f5f"
            },
            "marker": {
             "line": {
              "color": "#E5ECF6",
              "width": 0.5
             },
             "pattern": {
              "fillmode": "overlay",
              "size": 10,
              "solidity": 0.2
             }
            },
            "type": "bar"
           }
          ],
          "barpolar": [
           {
            "marker": {
             "line": {
              "color": "#E5ECF6",
              "width": 0.5
             },
             "pattern": {
              "fillmode": "overlay",
              "size": 10,
              "solidity": 0.2
             }
            },
            "type": "barpolar"
           }
          ],
          "carpet": [
           {
            "aaxis": {
             "endlinecolor": "#2a3f5f",
             "gridcolor": "white",
             "linecolor": "white",
             "minorgridcolor": "white",
             "startlinecolor": "#2a3f5f"
            },
            "baxis": {
             "endlinecolor": "#2a3f5f",
             "gridcolor": "white",
             "linecolor": "white",
             "minorgridcolor": "white",
             "startlinecolor": "#2a3f5f"
            },
            "type": "carpet"
           }
          ],
          "choropleth": [
           {
            "colorbar": {
             "outlinewidth": 0,
             "ticks": ""
            },
            "type": "choropleth"
           }
          ],
          "contour": [
           {
            "colorbar": {
             "outlinewidth": 0,
             "ticks": ""
            },
            "colorscale": [
             [
              0,
              "#0d0887"
             ],
             [
              0.1111111111111111,
              "#46039f"
             ],
             [
              0.2222222222222222,
              "#7201a8"
             ],
             [
              0.3333333333333333,
              "#9c179e"
             ],
             [
              0.4444444444444444,
              "#bd3786"
             ],
             [
              0.5555555555555556,
              "#d8576b"
             ],
             [
              0.6666666666666666,
              "#ed7953"
             ],
             [
              0.7777777777777778,
              "#fb9f3a"
             ],
             [
              0.8888888888888888,
              "#fdca26"
             ],
             [
              1,
              "#f0f921"
             ]
            ],
            "type": "contour"
           }
          ],
          "contourcarpet": [
           {
            "colorbar": {
             "outlinewidth": 0,
             "ticks": ""
            },
            "type": "contourcarpet"
           }
          ],
          "heatmap": [
           {
            "colorbar": {
             "outlinewidth": 0,
             "ticks": ""
            },
            "colorscale": [
             [
              0,
              "#0d0887"
             ],
             [
              0.1111111111111111,
              "#46039f"
             ],
             [
              0.2222222222222222,
              "#7201a8"
             ],
             [
              0.3333333333333333,
              "#9c179e"
             ],
             [
              0.4444444444444444,
              "#bd3786"
             ],
             [
              0.5555555555555556,
              "#d8576b"
             ],
             [
              0.6666666666666666,
              "#ed7953"
             ],
             [
              0.7777777777777778,
              "#fb9f3a"
             ],
             [
              0.8888888888888888,
              "#fdca26"
             ],
             [
              1,
              "#f0f921"
             ]
            ],
            "type": "heatmap"
           }
          ],
          "heatmapgl": [
           {
            "colorbar": {
             "outlinewidth": 0,
             "ticks": ""
            },
            "colorscale": [
             [
              0,
              "#0d0887"
             ],
             [
              0.1111111111111111,
              "#46039f"
             ],
             [
              0.2222222222222222,
              "#7201a8"
             ],
             [
              0.3333333333333333,
              "#9c179e"
             ],
             [
              0.4444444444444444,
              "#bd3786"
             ],
             [
              0.5555555555555556,
              "#d8576b"
             ],
             [
              0.6666666666666666,
              "#ed7953"
             ],
             [
              0.7777777777777778,
              "#fb9f3a"
             ],
             [
              0.8888888888888888,
              "#fdca26"
             ],
             [
              1,
              "#f0f921"
             ]
            ],
            "type": "heatmapgl"
           }
          ],
          "histogram": [
           {
            "marker": {
             "pattern": {
              "fillmode": "overlay",
              "size": 10,
              "solidity": 0.2
             }
            },
            "type": "histogram"
           }
          ],
          "histogram2d": [
           {
            "colorbar": {
             "outlinewidth": 0,
             "ticks": ""
            },
            "colorscale": [
             [
              0,
              "#0d0887"
             ],
             [
              0.1111111111111111,
              "#46039f"
             ],
             [
              0.2222222222222222,
              "#7201a8"
             ],
             [
              0.3333333333333333,
              "#9c179e"
             ],
             [
              0.4444444444444444,
              "#bd3786"
             ],
             [
              0.5555555555555556,
              "#d8576b"
             ],
             [
              0.6666666666666666,
              "#ed7953"
             ],
             [
              0.7777777777777778,
              "#fb9f3a"
             ],
             [
              0.8888888888888888,
              "#fdca26"
             ],
             [
              1,
              "#f0f921"
             ]
            ],
            "type": "histogram2d"
           }
          ],
          "histogram2dcontour": [
           {
            "colorbar": {
             "outlinewidth": 0,
             "ticks": ""
            },
            "colorscale": [
             [
              0,
              "#0d0887"
             ],
             [
              0.1111111111111111,
              "#46039f"
             ],
             [
              0.2222222222222222,
              "#7201a8"
             ],
             [
              0.3333333333333333,
              "#9c179e"
             ],
             [
              0.4444444444444444,
              "#bd3786"
             ],
             [
              0.5555555555555556,
              "#d8576b"
             ],
             [
              0.6666666666666666,
              "#ed7953"
             ],
             [
              0.7777777777777778,
              "#fb9f3a"
             ],
             [
              0.8888888888888888,
              "#fdca26"
             ],
             [
              1,
              "#f0f921"
             ]
            ],
            "type": "histogram2dcontour"
           }
          ],
          "mesh3d": [
           {
            "colorbar": {
             "outlinewidth": 0,
             "ticks": ""
            },
            "type": "mesh3d"
           }
          ],
          "parcoords": [
           {
            "line": {
             "colorbar": {
              "outlinewidth": 0,
              "ticks": ""
             }
            },
            "type": "parcoords"
           }
          ],
          "pie": [
           {
            "automargin": true,
            "type": "pie"
           }
          ],
          "scatter": [
           {
            "fillpattern": {
             "fillmode": "overlay",
             "size": 10,
             "solidity": 0.2
            },
            "type": "scatter"
           }
          ],
          "scatter3d": [
           {
            "line": {
             "colorbar": {
              "outlinewidth": 0,
              "ticks": ""
             }
            },
            "marker": {
             "colorbar": {
              "outlinewidth": 0,
              "ticks": ""
             }
            },
            "type": "scatter3d"
           }
          ],
          "scattercarpet": [
           {
            "marker": {
             "colorbar": {
              "outlinewidth": 0,
              "ticks": ""
             }
            },
            "type": "scattercarpet"
           }
          ],
          "scattergeo": [
           {
            "marker": {
             "colorbar": {
              "outlinewidth": 0,
              "ticks": ""
             }
            },
            "type": "scattergeo"
           }
          ],
          "scattergl": [
           {
            "marker": {
             "colorbar": {
              "outlinewidth": 0,
              "ticks": ""
             }
            },
            "type": "scattergl"
           }
          ],
          "scattermapbox": [
           {
            "marker": {
             "colorbar": {
              "outlinewidth": 0,
              "ticks": ""
             }
            },
            "type": "scattermapbox"
           }
          ],
          "scatterpolar": [
           {
            "marker": {
             "colorbar": {
              "outlinewidth": 0,
              "ticks": ""
             }
            },
            "type": "scatterpolar"
           }
          ],
          "scatterpolargl": [
           {
            "marker": {
             "colorbar": {
              "outlinewidth": 0,
              "ticks": ""
             }
            },
            "type": "scatterpolargl"
           }
          ],
          "scatterternary": [
           {
            "marker": {
             "colorbar": {
              "outlinewidth": 0,
              "ticks": ""
             }
            },
            "type": "scatterternary"
           }
          ],
          "surface": [
           {
            "colorbar": {
             "outlinewidth": 0,
             "ticks": ""
            },
            "colorscale": [
             [
              0,
              "#0d0887"
             ],
             [
              0.1111111111111111,
              "#46039f"
             ],
             [
              0.2222222222222222,
              "#7201a8"
             ],
             [
              0.3333333333333333,
              "#9c179e"
             ],
             [
              0.4444444444444444,
              "#bd3786"
             ],
             [
              0.5555555555555556,
              "#d8576b"
             ],
             [
              0.6666666666666666,
              "#ed7953"
             ],
             [
              0.7777777777777778,
              "#fb9f3a"
             ],
             [
              0.8888888888888888,
              "#fdca26"
             ],
             [
              1,
              "#f0f921"
             ]
            ],
            "type": "surface"
           }
          ],
          "table": [
           {
            "cells": {
             "fill": {
              "color": "#EBF0F8"
             },
             "line": {
              "color": "white"
             }
            },
            "header": {
             "fill": {
              "color": "#C8D4E3"
             },
             "line": {
              "color": "white"
             }
            },
            "type": "table"
           }
          ]
         },
         "layout": {
          "annotationdefaults": {
           "arrowcolor": "#2a3f5f",
           "arrowhead": 0,
           "arrowwidth": 1
          },
          "autotypenumbers": "strict",
          "coloraxis": {
           "colorbar": {
            "outlinewidth": 0,
            "ticks": ""
           }
          },
          "colorscale": {
           "diverging": [
            [
             0,
             "#8e0152"
            ],
            [
             0.1,
             "#c51b7d"
            ],
            [
             0.2,
             "#de77ae"
            ],
            [
             0.3,
             "#f1b6da"
            ],
            [
             0.4,
             "#fde0ef"
            ],
            [
             0.5,
             "#f7f7f7"
            ],
            [
             0.6,
             "#e6f5d0"
            ],
            [
             0.7,
             "#b8e186"
            ],
            [
             0.8,
             "#7fbc41"
            ],
            [
             0.9,
             "#4d9221"
            ],
            [
             1,
             "#276419"
            ]
           ],
           "sequential": [
            [
             0,
             "#0d0887"
            ],
            [
             0.1111111111111111,
             "#46039f"
            ],
            [
             0.2222222222222222,
             "#7201a8"
            ],
            [
             0.3333333333333333,
             "#9c179e"
            ],
            [
             0.4444444444444444,
             "#bd3786"
            ],
            [
             0.5555555555555556,
             "#d8576b"
            ],
            [
             0.6666666666666666,
             "#ed7953"
            ],
            [
             0.7777777777777778,
             "#fb9f3a"
            ],
            [
             0.8888888888888888,
             "#fdca26"
            ],
            [
             1,
             "#f0f921"
            ]
           ],
           "sequentialminus": [
            [
             0,
             "#0d0887"
            ],
            [
             0.1111111111111111,
             "#46039f"
            ],
            [
             0.2222222222222222,
             "#7201a8"
            ],
            [
             0.3333333333333333,
             "#9c179e"
            ],
            [
             0.4444444444444444,
             "#bd3786"
            ],
            [
             0.5555555555555556,
             "#d8576b"
            ],
            [
             0.6666666666666666,
             "#ed7953"
            ],
            [
             0.7777777777777778,
             "#fb9f3a"
            ],
            [
             0.8888888888888888,
             "#fdca26"
            ],
            [
             1,
             "#f0f921"
            ]
           ]
          },
          "colorway": [
           "#636efa",
           "#EF553B",
           "#00cc96",
           "#ab63fa",
           "#FFA15A",
           "#19d3f3",
           "#FF6692",
           "#B6E880",
           "#FF97FF",
           "#FECB52"
          ],
          "font": {
           "color": "#2a3f5f"
          },
          "geo": {
           "bgcolor": "white",
           "lakecolor": "white",
           "landcolor": "#E5ECF6",
           "showlakes": true,
           "showland": true,
           "subunitcolor": "white"
          },
          "hoverlabel": {
           "align": "left"
          },
          "hovermode": "closest",
          "mapbox": {
           "style": "light"
          },
          "paper_bgcolor": "white",
          "plot_bgcolor": "#E5ECF6",
          "polar": {
           "angularaxis": {
            "gridcolor": "white",
            "linecolor": "white",
            "ticks": ""
           },
           "bgcolor": "#E5ECF6",
           "radialaxis": {
            "gridcolor": "white",
            "linecolor": "white",
            "ticks": ""
           }
          },
          "scene": {
           "xaxis": {
            "backgroundcolor": "#E5ECF6",
            "gridcolor": "white",
            "gridwidth": 2,
            "linecolor": "white",
            "showbackground": true,
            "ticks": "",
            "zerolinecolor": "white"
           },
           "yaxis": {
            "backgroundcolor": "#E5ECF6",
            "gridcolor": "white",
            "gridwidth": 2,
            "linecolor": "white",
            "showbackground": true,
            "ticks": "",
            "zerolinecolor": "white"
           },
           "zaxis": {
            "backgroundcolor": "#E5ECF6",
            "gridcolor": "white",
            "gridwidth": 2,
            "linecolor": "white",
            "showbackground": true,
            "ticks": "",
            "zerolinecolor": "white"
           }
          },
          "shapedefaults": {
           "line": {
            "color": "#2a3f5f"
           }
          },
          "ternary": {
           "aaxis": {
            "gridcolor": "white",
            "linecolor": "white",
            "ticks": ""
           },
           "baxis": {
            "gridcolor": "white",
            "linecolor": "white",
            "ticks": ""
           },
           "bgcolor": "#E5ECF6",
           "caxis": {
            "gridcolor": "white",
            "linecolor": "white",
            "ticks": ""
           }
          },
          "title": {
           "x": 0.05
          },
          "xaxis": {
           "automargin": true,
           "gridcolor": "white",
           "linecolor": "white",
           "ticks": "",
           "title": {
            "standoff": 15
           },
           "zerolinecolor": "white",
           "zerolinewidth": 2
          },
          "yaxis": {
           "automargin": true,
           "gridcolor": "white",
           "linecolor": "white",
           "ticks": "",
           "title": {
            "standoff": 15
           },
           "zerolinecolor": "white",
           "zerolinewidth": 2
          }
         }
        },
        "title": {
         "text": ""
        },
        "xaxis": {
         "title": {
          "text": "Variable"
         }
        },
        "yaxis": {
         "title": {
          "text": "Value"
         }
        }
       }
      }
     },
     "metadata": {},
     "output_type": "display_data"
    }
   ],
   "source": [
    "rk = df[\"Rk\"]\n",
    "large_value_columns = [\"Rk\", \"Age\", \"G\", \"GS\", \"MP\"]\n",
    "low_value_df = df.drop(columns=large_value_columns, axis=1)\n",
    "large_value_df = df[large_value_columns]\n",
    "\n",
    "# Calculate the mean, median, and standard deviation for each variable in the low dataset\n",
    "mean_low = low_value_df.mean(numeric_only=True)\n",
    "median_low = low_value_df.median(numeric_only=True)\n",
    "std_low = low_value_df.std(numeric_only=True)\n",
    "\n",
    "# Calculate the mean, median, and standard deviation for each variable in the high dataset\n",
    "mean_large = large_value_df.mean(numeric_only=True)\n",
    "median_large = large_value_df.median(numeric_only=True)\n",
    "std_large = large_value_df.std(numeric_only=True)\n",
    "\n",
    "# Create a bar chart to visualize the mean, median, and standard deviation\n",
    "fig_low = go.Figure(data=[\n",
    "    go.Bar(name='Mean', x=mean_low.index, y=mean_low.values),\n",
    "    go.Bar(name='Median', x=median_low.index, y=median_low.values),\n",
    "    go.Bar(name='Standard Deviation', x=std_low.index, y=std_low.values)\n",
    "])\n",
    "\n",
    "# Add a title and axis labels to the chart\n",
    "fig_low.update_layout(\n",
    "    title=\"\",#'Mean, Median, and Standard Deviation for the small-value variables in the\\n NBA player dataset',\n",
    "    xaxis_title='Variable',\n",
    "    yaxis_title='Value'\n",
    ")\n",
    "\n",
    "# Create a bar chart to visualize the mean, median, and standard deviation\n",
    "fig_large = go.Figure(data=[\n",
    "    go.Bar(name='Mean', x=mean_large.index, y=mean_large.values),\n",
    "    go.Bar(name='Median', x=median_large.index, y=median_large.values),\n",
    "    go.Bar(name='Standard Deviation', x=std_large.index, y=std_large.values)\n",
    "])\n",
    "\n",
    "# Add a title and axis labels to the chart\n",
    "fig_large.update_layout(\n",
    "    title=\"\",#'Mean, Median, and Standard Deviation for the small-value variables in the\\n NBA player dataset',\n",
    "    xaxis_title='Variable',\n",
    "    yaxis_title='Value'\n",
    ")\n",
    "\n",
    "\n",
    "# Show the chart\n",
    "fig_low.show()\n",
    "fig_low.write_image(\"figures/low-values.pdf\", format=\"pdf\")\n",
    "fig_large.show()\n",
    "fig_large.write_image(\"figures/large-values.pdf\", format=\"pdf\")"
   ]
  },
  {
   "attachments": {},
   "cell_type": "markdown",
   "metadata": {},
   "source": [
    "Remove the player names now that duplicates have been removed"
   ]
  },
  {
   "cell_type": "code",
   "execution_count": 138,
   "metadata": {},
   "outputs": [
    {
     "data": {
      "text/html": [
       "<div>\n",
       "<style scoped>\n",
       "    .dataframe tbody tr th:only-of-type {\n",
       "        vertical-align: middle;\n",
       "    }\n",
       "\n",
       "    .dataframe tbody tr th {\n",
       "        vertical-align: top;\n",
       "    }\n",
       "\n",
       "    .dataframe thead th {\n",
       "        text-align: right;\n",
       "    }\n",
       "</style>\n",
       "<table border=\"1\" class=\"dataframe\">\n",
       "  <thead>\n",
       "    <tr style=\"text-align: right;\">\n",
       "      <th></th>\n",
       "      <th>index</th>\n",
       "      <th>Rk</th>\n",
       "      <th>Age</th>\n",
       "      <th>G</th>\n",
       "      <th>GS</th>\n",
       "      <th>MP</th>\n",
       "      <th>FG</th>\n",
       "      <th>FGA</th>\n",
       "      <th>FG%</th>\n",
       "      <th>3P</th>\n",
       "      <th>...</th>\n",
       "      <th>FT%</th>\n",
       "      <th>ORB</th>\n",
       "      <th>DRB</th>\n",
       "      <th>TRB</th>\n",
       "      <th>AST</th>\n",
       "      <th>STL</th>\n",
       "      <th>BLK</th>\n",
       "      <th>TOV</th>\n",
       "      <th>PF</th>\n",
       "      <th>PTS</th>\n",
       "    </tr>\n",
       "  </thead>\n",
       "  <tbody>\n",
       "    <tr>\n",
       "      <th>0</th>\n",
       "      <td>0</td>\n",
       "      <td>1</td>\n",
       "      <td>22</td>\n",
       "      <td>73</td>\n",
       "      <td>28</td>\n",
       "      <td>23.6</td>\n",
       "      <td>3.6</td>\n",
       "      <td>8.3</td>\n",
       "      <td>0.439</td>\n",
       "      <td>0.8</td>\n",
       "      <td>...</td>\n",
       "      <td>0.595</td>\n",
       "      <td>2.0</td>\n",
       "      <td>4.5</td>\n",
       "      <td>6.5</td>\n",
       "      <td>1.1</td>\n",
       "      <td>0.5</td>\n",
       "      <td>0.6</td>\n",
       "      <td>1.2</td>\n",
       "      <td>2.1</td>\n",
       "      <td>9.1</td>\n",
       "    </tr>\n",
       "    <tr>\n",
       "      <th>1</th>\n",
       "      <td>1</td>\n",
       "      <td>2</td>\n",
       "      <td>28</td>\n",
       "      <td>76</td>\n",
       "      <td>75</td>\n",
       "      <td>26.3</td>\n",
       "      <td>2.8</td>\n",
       "      <td>5.1</td>\n",
       "      <td>0.547</td>\n",
       "      <td>0.0</td>\n",
       "      <td>...</td>\n",
       "      <td>0.543</td>\n",
       "      <td>4.6</td>\n",
       "      <td>5.4</td>\n",
       "      <td>10.0</td>\n",
       "      <td>3.4</td>\n",
       "      <td>0.9</td>\n",
       "      <td>0.8</td>\n",
       "      <td>1.5</td>\n",
       "      <td>2.0</td>\n",
       "      <td>6.9</td>\n",
       "    </tr>\n",
       "    <tr>\n",
       "      <th>2</th>\n",
       "      <td>2</td>\n",
       "      <td>3</td>\n",
       "      <td>24</td>\n",
       "      <td>56</td>\n",
       "      <td>56</td>\n",
       "      <td>32.6</td>\n",
       "      <td>7.3</td>\n",
       "      <td>13.0</td>\n",
       "      <td>0.557</td>\n",
       "      <td>0.0</td>\n",
       "      <td>...</td>\n",
       "      <td>0.753</td>\n",
       "      <td>2.4</td>\n",
       "      <td>7.6</td>\n",
       "      <td>10.1</td>\n",
       "      <td>3.4</td>\n",
       "      <td>1.4</td>\n",
       "      <td>0.8</td>\n",
       "      <td>2.6</td>\n",
       "      <td>3.1</td>\n",
       "      <td>19.1</td>\n",
       "    </tr>\n",
       "    <tr>\n",
       "      <th>3</th>\n",
       "      <td>3</td>\n",
       "      <td>4</td>\n",
       "      <td>21</td>\n",
       "      <td>32</td>\n",
       "      <td>0</td>\n",
       "      <td>11.3</td>\n",
       "      <td>1.7</td>\n",
       "      <td>4.1</td>\n",
       "      <td>0.402</td>\n",
       "      <td>0.2</td>\n",
       "      <td>...</td>\n",
       "      <td>0.625</td>\n",
       "      <td>1.0</td>\n",
       "      <td>1.7</td>\n",
       "      <td>2.7</td>\n",
       "      <td>0.7</td>\n",
       "      <td>0.2</td>\n",
       "      <td>0.3</td>\n",
       "      <td>0.5</td>\n",
       "      <td>1.1</td>\n",
       "      <td>4.1</td>\n",
       "    </tr>\n",
       "    <tr>\n",
       "      <th>4</th>\n",
       "      <td>4</td>\n",
       "      <td>5</td>\n",
       "      <td>36</td>\n",
       "      <td>47</td>\n",
       "      <td>12</td>\n",
       "      <td>22.3</td>\n",
       "      <td>5.4</td>\n",
       "      <td>9.7</td>\n",
       "      <td>0.550</td>\n",
       "      <td>0.3</td>\n",
       "      <td>...</td>\n",
       "      <td>0.873</td>\n",
       "      <td>1.6</td>\n",
       "      <td>3.9</td>\n",
       "      <td>5.5</td>\n",
       "      <td>0.9</td>\n",
       "      <td>0.3</td>\n",
       "      <td>1.0</td>\n",
       "      <td>0.9</td>\n",
       "      <td>1.7</td>\n",
       "      <td>12.9</td>\n",
       "    </tr>\n",
       "    <tr>\n",
       "      <th>...</th>\n",
       "      <td>...</td>\n",
       "      <td>...</td>\n",
       "      <td>...</td>\n",
       "      <td>...</td>\n",
       "      <td>...</td>\n",
       "      <td>...</td>\n",
       "      <td>...</td>\n",
       "      <td>...</td>\n",
       "      <td>...</td>\n",
       "      <td>...</td>\n",
       "      <td>...</td>\n",
       "      <td>...</td>\n",
       "      <td>...</td>\n",
       "      <td>...</td>\n",
       "      <td>...</td>\n",
       "      <td>...</td>\n",
       "      <td>...</td>\n",
       "      <td>...</td>\n",
       "      <td>...</td>\n",
       "      <td>...</td>\n",
       "      <td>...</td>\n",
       "    </tr>\n",
       "    <tr>\n",
       "      <th>807</th>\n",
       "      <td>807</td>\n",
       "      <td>601</td>\n",
       "      <td>33</td>\n",
       "      <td>26</td>\n",
       "      <td>0</td>\n",
       "      <td>18.3</td>\n",
       "      <td>2.6</td>\n",
       "      <td>5.5</td>\n",
       "      <td>0.465</td>\n",
       "      <td>0.7</td>\n",
       "      <td>...</td>\n",
       "      <td>0.481</td>\n",
       "      <td>1.5</td>\n",
       "      <td>2.9</td>\n",
       "      <td>4.4</td>\n",
       "      <td>1.7</td>\n",
       "      <td>1.2</td>\n",
       "      <td>0.4</td>\n",
       "      <td>0.8</td>\n",
       "      <td>1.7</td>\n",
       "      <td>6.3</td>\n",
       "    </tr>\n",
       "    <tr>\n",
       "      <th>808</th>\n",
       "      <td>808</td>\n",
       "      <td>602</td>\n",
       "      <td>23</td>\n",
       "      <td>76</td>\n",
       "      <td>76</td>\n",
       "      <td>34.9</td>\n",
       "      <td>9.4</td>\n",
       "      <td>20.3</td>\n",
       "      <td>0.460</td>\n",
       "      <td>3.1</td>\n",
       "      <td>...</td>\n",
       "      <td>0.904</td>\n",
       "      <td>0.7</td>\n",
       "      <td>3.1</td>\n",
       "      <td>3.7</td>\n",
       "      <td>9.7</td>\n",
       "      <td>0.9</td>\n",
       "      <td>0.1</td>\n",
       "      <td>4.0</td>\n",
       "      <td>1.7</td>\n",
       "      <td>28.4</td>\n",
       "    </tr>\n",
       "    <tr>\n",
       "      <th>809</th>\n",
       "      <td>809</td>\n",
       "      <td>603</td>\n",
       "      <td>23</td>\n",
       "      <td>56</td>\n",
       "      <td>12</td>\n",
       "      <td>12.6</td>\n",
       "      <td>2.3</td>\n",
       "      <td>4.4</td>\n",
       "      <td>0.526</td>\n",
       "      <td>0.0</td>\n",
       "      <td>...</td>\n",
       "      <td>0.623</td>\n",
       "      <td>1.5</td>\n",
       "      <td>3.7</td>\n",
       "      <td>5.3</td>\n",
       "      <td>0.9</td>\n",
       "      <td>0.3</td>\n",
       "      <td>0.4</td>\n",
       "      <td>0.7</td>\n",
       "      <td>1.5</td>\n",
       "      <td>5.3</td>\n",
       "    </tr>\n",
       "    <tr>\n",
       "      <th>810</th>\n",
       "      <td>810</td>\n",
       "      <td>604</td>\n",
       "      <td>29</td>\n",
       "      <td>27</td>\n",
       "      <td>0</td>\n",
       "      <td>13.1</td>\n",
       "      <td>1.9</td>\n",
       "      <td>3.3</td>\n",
       "      <td>0.567</td>\n",
       "      <td>0.0</td>\n",
       "      <td>...</td>\n",
       "      <td>0.776</td>\n",
       "      <td>1.9</td>\n",
       "      <td>2.8</td>\n",
       "      <td>4.6</td>\n",
       "      <td>0.8</td>\n",
       "      <td>0.3</td>\n",
       "      <td>0.2</td>\n",
       "      <td>0.7</td>\n",
       "      <td>2.1</td>\n",
       "      <td>5.2</td>\n",
       "    </tr>\n",
       "    <tr>\n",
       "      <th>811</th>\n",
       "      <td>811</td>\n",
       "      <td>605</td>\n",
       "      <td>24</td>\n",
       "      <td>76</td>\n",
       "      <td>76</td>\n",
       "      <td>24.4</td>\n",
       "      <td>4.1</td>\n",
       "      <td>6.5</td>\n",
       "      <td>0.626</td>\n",
       "      <td>0.0</td>\n",
       "      <td>...</td>\n",
       "      <td>0.727</td>\n",
       "      <td>2.9</td>\n",
       "      <td>5.6</td>\n",
       "      <td>8.5</td>\n",
       "      <td>1.6</td>\n",
       "      <td>0.5</td>\n",
       "      <td>1.0</td>\n",
       "      <td>1.5</td>\n",
       "      <td>2.7</td>\n",
       "      <td>10.3</td>\n",
       "    </tr>\n",
       "  </tbody>\n",
       "</table>\n",
       "<p>812 rows × 28 columns</p>\n",
       "</div>"
      ],
      "text/plain": [
       "     index   Rk  Age   G  GS    MP   FG   FGA    FG%   3P  ...    FT%  ORB  \\\n",
       "0        0    1   22  73  28  23.6  3.6   8.3  0.439  0.8  ...  0.595  2.0   \n",
       "1        1    2   28  76  75  26.3  2.8   5.1  0.547  0.0  ...  0.543  4.6   \n",
       "2        2    3   24  56  56  32.6  7.3  13.0  0.557  0.0  ...  0.753  2.4   \n",
       "3        3    4   21  32   0  11.3  1.7   4.1  0.402  0.2  ...  0.625  1.0   \n",
       "4        4    5   36  47  12  22.3  5.4   9.7  0.550  0.3  ...  0.873  1.6   \n",
       "..     ...  ...  ...  ..  ..   ...  ...   ...    ...  ...  ...    ...  ...   \n",
       "807    807  601   33  26   0  18.3  2.6   5.5  0.465  0.7  ...  0.481  1.5   \n",
       "808    808  602   23  76  76  34.9  9.4  20.3  0.460  3.1  ...  0.904  0.7   \n",
       "809    809  603   23  56  12  12.6  2.3   4.4  0.526  0.0  ...  0.623  1.5   \n",
       "810    810  604   29  27   0  13.1  1.9   3.3  0.567  0.0  ...  0.776  1.9   \n",
       "811    811  605   24  76  76  24.4  4.1   6.5  0.626  0.0  ...  0.727  2.9   \n",
       "\n",
       "     DRB   TRB  AST  STL  BLK  TOV   PF   PTS  \n",
       "0    4.5   6.5  1.1  0.5  0.6  1.2  2.1   9.1  \n",
       "1    5.4  10.0  3.4  0.9  0.8  1.5  2.0   6.9  \n",
       "2    7.6  10.1  3.4  1.4  0.8  2.6  3.1  19.1  \n",
       "3    1.7   2.7  0.7  0.2  0.3  0.5  1.1   4.1  \n",
       "4    3.9   5.5  0.9  0.3  1.0  0.9  1.7  12.9  \n",
       "..   ...   ...  ...  ...  ...  ...  ...   ...  \n",
       "807  2.9   4.4  1.7  1.2  0.4  0.8  1.7   6.3  \n",
       "808  3.1   3.7  9.7  0.9  0.1  4.0  1.7  28.4  \n",
       "809  3.7   5.3  0.9  0.3  0.4  0.7  1.5   5.3  \n",
       "810  2.8   4.6  0.8  0.3  0.2  0.7  2.1   5.2  \n",
       "811  5.6   8.5  1.6  0.5  1.0  1.5  2.7  10.3  \n",
       "\n",
       "[812 rows x 28 columns]"
      ]
     },
     "execution_count": 138,
     "metadata": {},
     "output_type": "execute_result"
    }
   ],
   "source": [
    "df.drop(\"Player\", inplace=True, axis=1)\n",
    "df.reset_index()"
   ]
  },
  {
   "attachments": {},
   "cell_type": "markdown",
   "metadata": {},
   "source": [
    "Check the correlation between all columns (Pearson correlation coefficient)"
   ]
  },
  {
   "cell_type": "code",
   "execution_count": 139,
   "metadata": {},
   "outputs": [
    {
     "data": {
      "text/html": [
       "<div>\n",
       "<style scoped>\n",
       "    .dataframe tbody tr th:only-of-type {\n",
       "        vertical-align: middle;\n",
       "    }\n",
       "\n",
       "    .dataframe tbody tr th {\n",
       "        vertical-align: top;\n",
       "    }\n",
       "\n",
       "    .dataframe thead th {\n",
       "        text-align: right;\n",
       "    }\n",
       "</style>\n",
       "<table border=\"1\" class=\"dataframe\">\n",
       "  <thead>\n",
       "    <tr style=\"text-align: right;\">\n",
       "      <th></th>\n",
       "      <th>Rk</th>\n",
       "      <th>Age</th>\n",
       "      <th>G</th>\n",
       "      <th>GS</th>\n",
       "      <th>MP</th>\n",
       "      <th>FG</th>\n",
       "      <th>FGA</th>\n",
       "      <th>FG%</th>\n",
       "      <th>3P</th>\n",
       "      <th>3PA</th>\n",
       "      <th>...</th>\n",
       "      <th>FT%</th>\n",
       "      <th>ORB</th>\n",
       "      <th>DRB</th>\n",
       "      <th>TRB</th>\n",
       "      <th>AST</th>\n",
       "      <th>STL</th>\n",
       "      <th>BLK</th>\n",
       "      <th>TOV</th>\n",
       "      <th>PF</th>\n",
       "      <th>PTS</th>\n",
       "    </tr>\n",
       "  </thead>\n",
       "  <tbody>\n",
       "    <tr>\n",
       "      <th>Rk</th>\n",
       "      <td>1.000000</td>\n",
       "      <td>-0.037216</td>\n",
       "      <td>-0.066503</td>\n",
       "      <td>-0.086550</td>\n",
       "      <td>-0.050971</td>\n",
       "      <td>-0.057393</td>\n",
       "      <td>-0.054080</td>\n",
       "      <td>-0.001554</td>\n",
       "      <td>-0.052654</td>\n",
       "      <td>-0.052840</td>\n",
       "      <td>...</td>\n",
       "      <td>-0.017262</td>\n",
       "      <td>-0.030168</td>\n",
       "      <td>-0.079571</td>\n",
       "      <td>-0.070434</td>\n",
       "      <td>0.006615</td>\n",
       "      <td>-0.015441</td>\n",
       "      <td>-0.017137</td>\n",
       "      <td>-0.020534</td>\n",
       "      <td>0.000567</td>\n",
       "      <td>-0.057467</td>\n",
       "    </tr>\n",
       "    <tr>\n",
       "      <th>Age</th>\n",
       "      <td>-0.037216</td>\n",
       "      <td>1.000000</td>\n",
       "      <td>0.042212</td>\n",
       "      <td>0.052232</td>\n",
       "      <td>0.145388</td>\n",
       "      <td>0.087947</td>\n",
       "      <td>0.085564</td>\n",
       "      <td>0.059665</td>\n",
       "      <td>0.121144</td>\n",
       "      <td>0.104885</td>\n",
       "      <td>...</td>\n",
       "      <td>0.075038</td>\n",
       "      <td>0.014226</td>\n",
       "      <td>0.124140</td>\n",
       "      <td>0.099501</td>\n",
       "      <td>0.171731</td>\n",
       "      <td>0.072693</td>\n",
       "      <td>0.038176</td>\n",
       "      <td>0.096063</td>\n",
       "      <td>0.127838</td>\n",
       "      <td>0.094685</td>\n",
       "    </tr>\n",
       "    <tr>\n",
       "      <th>G</th>\n",
       "      <td>-0.066503</td>\n",
       "      <td>0.042212</td>\n",
       "      <td>1.000000</td>\n",
       "      <td>0.680436</td>\n",
       "      <td>0.620290</td>\n",
       "      <td>0.563977</td>\n",
       "      <td>0.542432</td>\n",
       "      <td>0.311718</td>\n",
       "      <td>0.475981</td>\n",
       "      <td>0.457740</td>\n",
       "      <td>...</td>\n",
       "      <td>0.468275</td>\n",
       "      <td>0.293125</td>\n",
       "      <td>0.517411</td>\n",
       "      <td>0.487806</td>\n",
       "      <td>0.387040</td>\n",
       "      <td>0.424368</td>\n",
       "      <td>0.336577</td>\n",
       "      <td>0.424739</td>\n",
       "      <td>0.470319</td>\n",
       "      <td>0.559330</td>\n",
       "    </tr>\n",
       "    <tr>\n",
       "      <th>GS</th>\n",
       "      <td>-0.086550</td>\n",
       "      <td>0.052232</td>\n",
       "      <td>0.680436</td>\n",
       "      <td>1.000000</td>\n",
       "      <td>0.751435</td>\n",
       "      <td>0.736394</td>\n",
       "      <td>0.713715</td>\n",
       "      <td>0.226771</td>\n",
       "      <td>0.530903</td>\n",
       "      <td>0.524531</td>\n",
       "      <td>...</td>\n",
       "      <td>0.288935</td>\n",
       "      <td>0.354654</td>\n",
       "      <td>0.656365</td>\n",
       "      <td>0.612579</td>\n",
       "      <td>0.563921</td>\n",
       "      <td>0.521898</td>\n",
       "      <td>0.408970</td>\n",
       "      <td>0.617675</td>\n",
       "      <td>0.538844</td>\n",
       "      <td>0.732292</td>\n",
       "    </tr>\n",
       "    <tr>\n",
       "      <th>MP</th>\n",
       "      <td>-0.050971</td>\n",
       "      <td>0.145388</td>\n",
       "      <td>0.620290</td>\n",
       "      <td>0.751435</td>\n",
       "      <td>1.000000</td>\n",
       "      <td>0.886895</td>\n",
       "      <td>0.898603</td>\n",
       "      <td>0.299632</td>\n",
       "      <td>0.720450</td>\n",
       "      <td>0.732635</td>\n",
       "      <td>...</td>\n",
       "      <td>0.496879</td>\n",
       "      <td>0.357061</td>\n",
       "      <td>0.756131</td>\n",
       "      <td>0.688470</td>\n",
       "      <td>0.728131</td>\n",
       "      <td>0.717810</td>\n",
       "      <td>0.447035</td>\n",
       "      <td>0.771405</td>\n",
       "      <td>0.743587</td>\n",
       "      <td>0.887411</td>\n",
       "    </tr>\n",
       "    <tr>\n",
       "      <th>FG</th>\n",
       "      <td>-0.057393</td>\n",
       "      <td>0.087947</td>\n",
       "      <td>0.563977</td>\n",
       "      <td>0.736394</td>\n",
       "      <td>0.886895</td>\n",
       "      <td>1.000000</td>\n",
       "      <td>0.970853</td>\n",
       "      <td>0.355639</td>\n",
       "      <td>0.679117</td>\n",
       "      <td>0.680076</td>\n",
       "      <td>...</td>\n",
       "      <td>0.425511</td>\n",
       "      <td>0.383116</td>\n",
       "      <td>0.764754</td>\n",
       "      <td>0.703036</td>\n",
       "      <td>0.707715</td>\n",
       "      <td>0.617590</td>\n",
       "      <td>0.447414</td>\n",
       "      <td>0.811092</td>\n",
       "      <td>0.651883</td>\n",
       "      <td>0.989932</td>\n",
       "    </tr>\n",
       "    <tr>\n",
       "      <th>FGA</th>\n",
       "      <td>-0.054080</td>\n",
       "      <td>0.085564</td>\n",
       "      <td>0.542432</td>\n",
       "      <td>0.713715</td>\n",
       "      <td>0.898603</td>\n",
       "      <td>0.970853</td>\n",
       "      <td>1.000000</td>\n",
       "      <td>0.211332</td>\n",
       "      <td>0.764839</td>\n",
       "      <td>0.794470</td>\n",
       "      <td>...</td>\n",
       "      <td>0.437638</td>\n",
       "      <td>0.257649</td>\n",
       "      <td>0.697697</td>\n",
       "      <td>0.612265</td>\n",
       "      <td>0.744193</td>\n",
       "      <td>0.637838</td>\n",
       "      <td>0.358791</td>\n",
       "      <td>0.824847</td>\n",
       "      <td>0.616042</td>\n",
       "      <td>0.975918</td>\n",
       "    </tr>\n",
       "    <tr>\n",
       "      <th>FG%</th>\n",
       "      <td>-0.001554</td>\n",
       "      <td>0.059665</td>\n",
       "      <td>0.311718</td>\n",
       "      <td>0.226771</td>\n",
       "      <td>0.299632</td>\n",
       "      <td>0.355639</td>\n",
       "      <td>0.211332</td>\n",
       "      <td>1.000000</td>\n",
       "      <td>0.053493</td>\n",
       "      <td>-0.018902</td>\n",
       "      <td>...</td>\n",
       "      <td>0.260330</td>\n",
       "      <td>0.436072</td>\n",
       "      <td>0.372291</td>\n",
       "      <td>0.421290</td>\n",
       "      <td>0.109928</td>\n",
       "      <td>0.171141</td>\n",
       "      <td>0.387849</td>\n",
       "      <td>0.199539</td>\n",
       "      <td>0.395070</td>\n",
       "      <td>0.313305</td>\n",
       "    </tr>\n",
       "    <tr>\n",
       "      <th>3P</th>\n",
       "      <td>-0.052654</td>\n",
       "      <td>0.121144</td>\n",
       "      <td>0.475981</td>\n",
       "      <td>0.530903</td>\n",
       "      <td>0.720450</td>\n",
       "      <td>0.679117</td>\n",
       "      <td>0.764839</td>\n",
       "      <td>0.053493</td>\n",
       "      <td>1.000000</td>\n",
       "      <td>0.969827</td>\n",
       "      <td>...</td>\n",
       "      <td>0.436182</td>\n",
       "      <td>-0.115142</td>\n",
       "      <td>0.359467</td>\n",
       "      <td>0.237293</td>\n",
       "      <td>0.539793</td>\n",
       "      <td>0.506564</td>\n",
       "      <td>0.092254</td>\n",
       "      <td>0.540044</td>\n",
       "      <td>0.381334</td>\n",
       "      <td>0.729547</td>\n",
       "    </tr>\n",
       "    <tr>\n",
       "      <th>3PA</th>\n",
       "      <td>-0.052840</td>\n",
       "      <td>0.104885</td>\n",
       "      <td>0.457740</td>\n",
       "      <td>0.524531</td>\n",
       "      <td>0.732635</td>\n",
       "      <td>0.680076</td>\n",
       "      <td>0.794470</td>\n",
       "      <td>-0.018902</td>\n",
       "      <td>0.969827</td>\n",
       "      <td>1.000000</td>\n",
       "      <td>...</td>\n",
       "      <td>0.415277</td>\n",
       "      <td>-0.127942</td>\n",
       "      <td>0.369933</td>\n",
       "      <td>0.241032</td>\n",
       "      <td>0.564140</td>\n",
       "      <td>0.518342</td>\n",
       "      <td>0.087548</td>\n",
       "      <td>0.572415</td>\n",
       "      <td>0.386590</td>\n",
       "      <td>0.728704</td>\n",
       "    </tr>\n",
       "    <tr>\n",
       "      <th>3P%</th>\n",
       "      <td>0.016625</td>\n",
       "      <td>0.084448</td>\n",
       "      <td>0.372137</td>\n",
       "      <td>0.226564</td>\n",
       "      <td>0.417982</td>\n",
       "      <td>0.352440</td>\n",
       "      <td>0.367820</td>\n",
       "      <td>0.221204</td>\n",
       "      <td>0.550784</td>\n",
       "      <td>0.470174</td>\n",
       "      <td>...</td>\n",
       "      <td>0.437002</td>\n",
       "      <td>-0.042984</td>\n",
       "      <td>0.185199</td>\n",
       "      <td>0.126768</td>\n",
       "      <td>0.254576</td>\n",
       "      <td>0.277578</td>\n",
       "      <td>0.059444</td>\n",
       "      <td>0.230620</td>\n",
       "      <td>0.253234</td>\n",
       "      <td>0.376084</td>\n",
       "    </tr>\n",
       "    <tr>\n",
       "      <th>2P</th>\n",
       "      <td>-0.045805</td>\n",
       "      <td>0.053645</td>\n",
       "      <td>0.484188</td>\n",
       "      <td>0.674423</td>\n",
       "      <td>0.773570</td>\n",
       "      <td>0.936068</td>\n",
       "      <td>0.858461</td>\n",
       "      <td>0.423169</td>\n",
       "      <td>0.378097</td>\n",
       "      <td>0.393432</td>\n",
       "      <td>...</td>\n",
       "      <td>0.327609</td>\n",
       "      <td>0.537344</td>\n",
       "      <td>0.791873</td>\n",
       "      <td>0.772376</td>\n",
       "      <td>0.634391</td>\n",
       "      <td>0.535737</td>\n",
       "      <td>0.519457</td>\n",
       "      <td>0.764937</td>\n",
       "      <td>0.640240</td>\n",
       "      <td>0.899371</td>\n",
       "    </tr>\n",
       "    <tr>\n",
       "      <th>2PA</th>\n",
       "      <td>-0.042180</td>\n",
       "      <td>0.052922</td>\n",
       "      <td>0.473385</td>\n",
       "      <td>0.676920</td>\n",
       "      <td>0.803061</td>\n",
       "      <td>0.944519</td>\n",
       "      <td>0.907912</td>\n",
       "      <td>0.320742</td>\n",
       "      <td>0.444392</td>\n",
       "      <td>0.466905</td>\n",
       "      <td>...</td>\n",
       "      <td>0.351080</td>\n",
       "      <td>0.463145</td>\n",
       "      <td>0.760440</td>\n",
       "      <td>0.724955</td>\n",
       "      <td>0.694749</td>\n",
       "      <td>0.571293</td>\n",
       "      <td>0.461741</td>\n",
       "      <td>0.806452</td>\n",
       "      <td>0.630024</td>\n",
       "      <td>0.918386</td>\n",
       "    </tr>\n",
       "    <tr>\n",
       "      <th>2P%</th>\n",
       "      <td>-0.003819</td>\n",
       "      <td>0.051634</td>\n",
       "      <td>0.285804</td>\n",
       "      <td>0.185241</td>\n",
       "      <td>0.256953</td>\n",
       "      <td>0.288871</td>\n",
       "      <td>0.176087</td>\n",
       "      <td>0.849532</td>\n",
       "      <td>0.064877</td>\n",
       "      <td>0.045527</td>\n",
       "      <td>...</td>\n",
       "      <td>0.221849</td>\n",
       "      <td>0.308068</td>\n",
       "      <td>0.305032</td>\n",
       "      <td>0.329511</td>\n",
       "      <td>0.083409</td>\n",
       "      <td>0.141133</td>\n",
       "      <td>0.294885</td>\n",
       "      <td>0.160825</td>\n",
       "      <td>0.341219</td>\n",
       "      <td>0.252917</td>\n",
       "    </tr>\n",
       "    <tr>\n",
       "      <th>eFG%</th>\n",
       "      <td>0.001523</td>\n",
       "      <td>0.083222</td>\n",
       "      <td>0.361020</td>\n",
       "      <td>0.239448</td>\n",
       "      <td>0.360893</td>\n",
       "      <td>0.370473</td>\n",
       "      <td>0.255470</td>\n",
       "      <td>0.953627</td>\n",
       "      <td>0.242413</td>\n",
       "      <td>0.155397</td>\n",
       "      <td>...</td>\n",
       "      <td>0.344514</td>\n",
       "      <td>0.319131</td>\n",
       "      <td>0.341841</td>\n",
       "      <td>0.361190</td>\n",
       "      <td>0.134033</td>\n",
       "      <td>0.209178</td>\n",
       "      <td>0.327975</td>\n",
       "      <td>0.195992</td>\n",
       "      <td>0.387490</td>\n",
       "      <td>0.346896</td>\n",
       "    </tr>\n",
       "    <tr>\n",
       "      <th>FT</th>\n",
       "      <td>-0.044115</td>\n",
       "      <td>0.070301</td>\n",
       "      <td>0.405123</td>\n",
       "      <td>0.598500</td>\n",
       "      <td>0.696602</td>\n",
       "      <td>0.820781</td>\n",
       "      <td>0.798048</td>\n",
       "      <td>0.230984</td>\n",
       "      <td>0.478165</td>\n",
       "      <td>0.489752</td>\n",
       "      <td>...</td>\n",
       "      <td>0.413759</td>\n",
       "      <td>0.311341</td>\n",
       "      <td>0.678361</td>\n",
       "      <td>0.614644</td>\n",
       "      <td>0.658677</td>\n",
       "      <td>0.484894</td>\n",
       "      <td>0.386419</td>\n",
       "      <td>0.752909</td>\n",
       "      <td>0.532798</td>\n",
       "      <td>0.870020</td>\n",
       "    </tr>\n",
       "    <tr>\n",
       "      <th>FTA</th>\n",
       "      <td>-0.043843</td>\n",
       "      <td>0.052197</td>\n",
       "      <td>0.406731</td>\n",
       "      <td>0.601263</td>\n",
       "      <td>0.692933</td>\n",
       "      <td>0.820764</td>\n",
       "      <td>0.783724</td>\n",
       "      <td>0.265083</td>\n",
       "      <td>0.428949</td>\n",
       "      <td>0.440304</td>\n",
       "      <td>...</td>\n",
       "      <td>0.370117</td>\n",
       "      <td>0.384859</td>\n",
       "      <td>0.710512</td>\n",
       "      <td>0.662244</td>\n",
       "      <td>0.631753</td>\n",
       "      <td>0.482682</td>\n",
       "      <td>0.428666</td>\n",
       "      <td>0.752043</td>\n",
       "      <td>0.554414</td>\n",
       "      <td>0.860068</td>\n",
       "    </tr>\n",
       "    <tr>\n",
       "      <th>FT%</th>\n",
       "      <td>-0.017262</td>\n",
       "      <td>0.075038</td>\n",
       "      <td>0.468275</td>\n",
       "      <td>0.288935</td>\n",
       "      <td>0.496879</td>\n",
       "      <td>0.425511</td>\n",
       "      <td>0.437638</td>\n",
       "      <td>0.260330</td>\n",
       "      <td>0.436182</td>\n",
       "      <td>0.415277</td>\n",
       "      <td>...</td>\n",
       "      <td>1.000000</td>\n",
       "      <td>0.118033</td>\n",
       "      <td>0.331750</td>\n",
       "      <td>0.289604</td>\n",
       "      <td>0.336857</td>\n",
       "      <td>0.338977</td>\n",
       "      <td>0.210027</td>\n",
       "      <td>0.340125</td>\n",
       "      <td>0.396624</td>\n",
       "      <td>0.454410</td>\n",
       "    </tr>\n",
       "    <tr>\n",
       "      <th>ORB</th>\n",
       "      <td>-0.030168</td>\n",
       "      <td>0.014226</td>\n",
       "      <td>0.293125</td>\n",
       "      <td>0.354654</td>\n",
       "      <td>0.357061</td>\n",
       "      <td>0.383116</td>\n",
       "      <td>0.257649</td>\n",
       "      <td>0.436072</td>\n",
       "      <td>-0.115142</td>\n",
       "      <td>-0.127942</td>\n",
       "      <td>...</td>\n",
       "      <td>0.118033</td>\n",
       "      <td>1.000000</td>\n",
       "      <td>0.665630</td>\n",
       "      <td>0.822236</td>\n",
       "      <td>0.087468</td>\n",
       "      <td>0.211860</td>\n",
       "      <td>0.627087</td>\n",
       "      <td>0.282204</td>\n",
       "      <td>0.516135</td>\n",
       "      <td>0.326689</td>\n",
       "    </tr>\n",
       "    <tr>\n",
       "      <th>DRB</th>\n",
       "      <td>-0.079571</td>\n",
       "      <td>0.124140</td>\n",
       "      <td>0.517411</td>\n",
       "      <td>0.656365</td>\n",
       "      <td>0.756131</td>\n",
       "      <td>0.764754</td>\n",
       "      <td>0.697697</td>\n",
       "      <td>0.372291</td>\n",
       "      <td>0.359467</td>\n",
       "      <td>0.369933</td>\n",
       "      <td>...</td>\n",
       "      <td>0.331750</td>\n",
       "      <td>0.665630</td>\n",
       "      <td>1.000000</td>\n",
       "      <td>0.971791</td>\n",
       "      <td>0.524204</td>\n",
       "      <td>0.517904</td>\n",
       "      <td>0.637274</td>\n",
       "      <td>0.678036</td>\n",
       "      <td>0.696484</td>\n",
       "      <td>0.745642</td>\n",
       "    </tr>\n",
       "    <tr>\n",
       "      <th>TRB</th>\n",
       "      <td>-0.070434</td>\n",
       "      <td>0.099501</td>\n",
       "      <td>0.487806</td>\n",
       "      <td>0.612579</td>\n",
       "      <td>0.688470</td>\n",
       "      <td>0.703036</td>\n",
       "      <td>0.612265</td>\n",
       "      <td>0.421290</td>\n",
       "      <td>0.237293</td>\n",
       "      <td>0.241032</td>\n",
       "      <td>...</td>\n",
       "      <td>0.289604</td>\n",
       "      <td>0.822236</td>\n",
       "      <td>0.971791</td>\n",
       "      <td>1.000000</td>\n",
       "      <td>0.426469</td>\n",
       "      <td>0.460648</td>\n",
       "      <td>0.683195</td>\n",
       "      <td>0.604928</td>\n",
       "      <td>0.693197</td>\n",
       "      <td>0.670698</td>\n",
       "    </tr>\n",
       "    <tr>\n",
       "      <th>AST</th>\n",
       "      <td>0.006615</td>\n",
       "      <td>0.171731</td>\n",
       "      <td>0.387040</td>\n",
       "      <td>0.563921</td>\n",
       "      <td>0.728131</td>\n",
       "      <td>0.707715</td>\n",
       "      <td>0.744193</td>\n",
       "      <td>0.109928</td>\n",
       "      <td>0.539793</td>\n",
       "      <td>0.564140</td>\n",
       "      <td>...</td>\n",
       "      <td>0.336857</td>\n",
       "      <td>0.087468</td>\n",
       "      <td>0.524204</td>\n",
       "      <td>0.426469</td>\n",
       "      <td>1.000000</td>\n",
       "      <td>0.672747</td>\n",
       "      <td>0.171703</td>\n",
       "      <td>0.841705</td>\n",
       "      <td>0.461728</td>\n",
       "      <td>0.724978</td>\n",
       "    </tr>\n",
       "    <tr>\n",
       "      <th>STL</th>\n",
       "      <td>-0.015441</td>\n",
       "      <td>0.072693</td>\n",
       "      <td>0.424368</td>\n",
       "      <td>0.521898</td>\n",
       "      <td>0.717810</td>\n",
       "      <td>0.617590</td>\n",
       "      <td>0.637838</td>\n",
       "      <td>0.171141</td>\n",
       "      <td>0.506564</td>\n",
       "      <td>0.518342</td>\n",
       "      <td>...</td>\n",
       "      <td>0.338977</td>\n",
       "      <td>0.211860</td>\n",
       "      <td>0.517904</td>\n",
       "      <td>0.460648</td>\n",
       "      <td>0.672747</td>\n",
       "      <td>1.000000</td>\n",
       "      <td>0.336480</td>\n",
       "      <td>0.650554</td>\n",
       "      <td>0.571783</td>\n",
       "      <td>0.618792</td>\n",
       "    </tr>\n",
       "    <tr>\n",
       "      <th>BLK</th>\n",
       "      <td>-0.017137</td>\n",
       "      <td>0.038176</td>\n",
       "      <td>0.336577</td>\n",
       "      <td>0.408970</td>\n",
       "      <td>0.447035</td>\n",
       "      <td>0.447414</td>\n",
       "      <td>0.358791</td>\n",
       "      <td>0.387849</td>\n",
       "      <td>0.092254</td>\n",
       "      <td>0.087548</td>\n",
       "      <td>...</td>\n",
       "      <td>0.210027</td>\n",
       "      <td>0.627087</td>\n",
       "      <td>0.637274</td>\n",
       "      <td>0.683195</td>\n",
       "      <td>0.171703</td>\n",
       "      <td>0.336480</td>\n",
       "      <td>1.000000</td>\n",
       "      <td>0.339623</td>\n",
       "      <td>0.564406</td>\n",
       "      <td>0.417825</td>\n",
       "    </tr>\n",
       "    <tr>\n",
       "      <th>TOV</th>\n",
       "      <td>-0.020534</td>\n",
       "      <td>0.096063</td>\n",
       "      <td>0.424739</td>\n",
       "      <td>0.617675</td>\n",
       "      <td>0.771405</td>\n",
       "      <td>0.811092</td>\n",
       "      <td>0.824847</td>\n",
       "      <td>0.199539</td>\n",
       "      <td>0.540044</td>\n",
       "      <td>0.572415</td>\n",
       "      <td>...</td>\n",
       "      <td>0.340125</td>\n",
       "      <td>0.282204</td>\n",
       "      <td>0.678036</td>\n",
       "      <td>0.604928</td>\n",
       "      <td>0.841705</td>\n",
       "      <td>0.650554</td>\n",
       "      <td>0.339623</td>\n",
       "      <td>1.000000</td>\n",
       "      <td>0.606109</td>\n",
       "      <td>0.819825</td>\n",
       "    </tr>\n",
       "    <tr>\n",
       "      <th>PF</th>\n",
       "      <td>0.000567</td>\n",
       "      <td>0.127838</td>\n",
       "      <td>0.470319</td>\n",
       "      <td>0.538844</td>\n",
       "      <td>0.743587</td>\n",
       "      <td>0.651883</td>\n",
       "      <td>0.616042</td>\n",
       "      <td>0.395070</td>\n",
       "      <td>0.381334</td>\n",
       "      <td>0.386590</td>\n",
       "      <td>...</td>\n",
       "      <td>0.396624</td>\n",
       "      <td>0.516135</td>\n",
       "      <td>0.696484</td>\n",
       "      <td>0.693197</td>\n",
       "      <td>0.461728</td>\n",
       "      <td>0.571783</td>\n",
       "      <td>0.564406</td>\n",
       "      <td>0.606109</td>\n",
       "      <td>1.000000</td>\n",
       "      <td>0.636373</td>\n",
       "    </tr>\n",
       "    <tr>\n",
       "      <th>PTS</th>\n",
       "      <td>-0.057467</td>\n",
       "      <td>0.094685</td>\n",
       "      <td>0.559330</td>\n",
       "      <td>0.732292</td>\n",
       "      <td>0.887411</td>\n",
       "      <td>0.989932</td>\n",
       "      <td>0.975918</td>\n",
       "      <td>0.313305</td>\n",
       "      <td>0.729547</td>\n",
       "      <td>0.728704</td>\n",
       "      <td>...</td>\n",
       "      <td>0.454410</td>\n",
       "      <td>0.326689</td>\n",
       "      <td>0.745642</td>\n",
       "      <td>0.670698</td>\n",
       "      <td>0.724978</td>\n",
       "      <td>0.618792</td>\n",
       "      <td>0.417825</td>\n",
       "      <td>0.819825</td>\n",
       "      <td>0.636373</td>\n",
       "      <td>1.000000</td>\n",
       "    </tr>\n",
       "  </tbody>\n",
       "</table>\n",
       "<p>27 rows × 27 columns</p>\n",
       "</div>"
      ],
      "text/plain": [
       "            Rk       Age         G        GS        MP        FG       FGA  \\\n",
       "Rk    1.000000 -0.037216 -0.066503 -0.086550 -0.050971 -0.057393 -0.054080   \n",
       "Age  -0.037216  1.000000  0.042212  0.052232  0.145388  0.087947  0.085564   \n",
       "G    -0.066503  0.042212  1.000000  0.680436  0.620290  0.563977  0.542432   \n",
       "GS   -0.086550  0.052232  0.680436  1.000000  0.751435  0.736394  0.713715   \n",
       "MP   -0.050971  0.145388  0.620290  0.751435  1.000000  0.886895  0.898603   \n",
       "FG   -0.057393  0.087947  0.563977  0.736394  0.886895  1.000000  0.970853   \n",
       "FGA  -0.054080  0.085564  0.542432  0.713715  0.898603  0.970853  1.000000   \n",
       "FG%  -0.001554  0.059665  0.311718  0.226771  0.299632  0.355639  0.211332   \n",
       "3P   -0.052654  0.121144  0.475981  0.530903  0.720450  0.679117  0.764839   \n",
       "3PA  -0.052840  0.104885  0.457740  0.524531  0.732635  0.680076  0.794470   \n",
       "3P%   0.016625  0.084448  0.372137  0.226564  0.417982  0.352440  0.367820   \n",
       "2P   -0.045805  0.053645  0.484188  0.674423  0.773570  0.936068  0.858461   \n",
       "2PA  -0.042180  0.052922  0.473385  0.676920  0.803061  0.944519  0.907912   \n",
       "2P%  -0.003819  0.051634  0.285804  0.185241  0.256953  0.288871  0.176087   \n",
       "eFG%  0.001523  0.083222  0.361020  0.239448  0.360893  0.370473  0.255470   \n",
       "FT   -0.044115  0.070301  0.405123  0.598500  0.696602  0.820781  0.798048   \n",
       "FTA  -0.043843  0.052197  0.406731  0.601263  0.692933  0.820764  0.783724   \n",
       "FT%  -0.017262  0.075038  0.468275  0.288935  0.496879  0.425511  0.437638   \n",
       "ORB  -0.030168  0.014226  0.293125  0.354654  0.357061  0.383116  0.257649   \n",
       "DRB  -0.079571  0.124140  0.517411  0.656365  0.756131  0.764754  0.697697   \n",
       "TRB  -0.070434  0.099501  0.487806  0.612579  0.688470  0.703036  0.612265   \n",
       "AST   0.006615  0.171731  0.387040  0.563921  0.728131  0.707715  0.744193   \n",
       "STL  -0.015441  0.072693  0.424368  0.521898  0.717810  0.617590  0.637838   \n",
       "BLK  -0.017137  0.038176  0.336577  0.408970  0.447035  0.447414  0.358791   \n",
       "TOV  -0.020534  0.096063  0.424739  0.617675  0.771405  0.811092  0.824847   \n",
       "PF    0.000567  0.127838  0.470319  0.538844  0.743587  0.651883  0.616042   \n",
       "PTS  -0.057467  0.094685  0.559330  0.732292  0.887411  0.989932  0.975918   \n",
       "\n",
       "           FG%        3P       3PA  ...       FT%       ORB       DRB  \\\n",
       "Rk   -0.001554 -0.052654 -0.052840  ... -0.017262 -0.030168 -0.079571   \n",
       "Age   0.059665  0.121144  0.104885  ...  0.075038  0.014226  0.124140   \n",
       "G     0.311718  0.475981  0.457740  ...  0.468275  0.293125  0.517411   \n",
       "GS    0.226771  0.530903  0.524531  ...  0.288935  0.354654  0.656365   \n",
       "MP    0.299632  0.720450  0.732635  ...  0.496879  0.357061  0.756131   \n",
       "FG    0.355639  0.679117  0.680076  ...  0.425511  0.383116  0.764754   \n",
       "FGA   0.211332  0.764839  0.794470  ...  0.437638  0.257649  0.697697   \n",
       "FG%   1.000000  0.053493 -0.018902  ...  0.260330  0.436072  0.372291   \n",
       "3P    0.053493  1.000000  0.969827  ...  0.436182 -0.115142  0.359467   \n",
       "3PA  -0.018902  0.969827  1.000000  ...  0.415277 -0.127942  0.369933   \n",
       "3P%   0.221204  0.550784  0.470174  ...  0.437002 -0.042984  0.185199   \n",
       "2P    0.423169  0.378097  0.393432  ...  0.327609  0.537344  0.791873   \n",
       "2PA   0.320742  0.444392  0.466905  ...  0.351080  0.463145  0.760440   \n",
       "2P%   0.849532  0.064877  0.045527  ...  0.221849  0.308068  0.305032   \n",
       "eFG%  0.953627  0.242413  0.155397  ...  0.344514  0.319131  0.341841   \n",
       "FT    0.230984  0.478165  0.489752  ...  0.413759  0.311341  0.678361   \n",
       "FTA   0.265083  0.428949  0.440304  ...  0.370117  0.384859  0.710512   \n",
       "FT%   0.260330  0.436182  0.415277  ...  1.000000  0.118033  0.331750   \n",
       "ORB   0.436072 -0.115142 -0.127942  ...  0.118033  1.000000  0.665630   \n",
       "DRB   0.372291  0.359467  0.369933  ...  0.331750  0.665630  1.000000   \n",
       "TRB   0.421290  0.237293  0.241032  ...  0.289604  0.822236  0.971791   \n",
       "AST   0.109928  0.539793  0.564140  ...  0.336857  0.087468  0.524204   \n",
       "STL   0.171141  0.506564  0.518342  ...  0.338977  0.211860  0.517904   \n",
       "BLK   0.387849  0.092254  0.087548  ...  0.210027  0.627087  0.637274   \n",
       "TOV   0.199539  0.540044  0.572415  ...  0.340125  0.282204  0.678036   \n",
       "PF    0.395070  0.381334  0.386590  ...  0.396624  0.516135  0.696484   \n",
       "PTS   0.313305  0.729547  0.728704  ...  0.454410  0.326689  0.745642   \n",
       "\n",
       "           TRB       AST       STL       BLK       TOV        PF       PTS  \n",
       "Rk   -0.070434  0.006615 -0.015441 -0.017137 -0.020534  0.000567 -0.057467  \n",
       "Age   0.099501  0.171731  0.072693  0.038176  0.096063  0.127838  0.094685  \n",
       "G     0.487806  0.387040  0.424368  0.336577  0.424739  0.470319  0.559330  \n",
       "GS    0.612579  0.563921  0.521898  0.408970  0.617675  0.538844  0.732292  \n",
       "MP    0.688470  0.728131  0.717810  0.447035  0.771405  0.743587  0.887411  \n",
       "FG    0.703036  0.707715  0.617590  0.447414  0.811092  0.651883  0.989932  \n",
       "FGA   0.612265  0.744193  0.637838  0.358791  0.824847  0.616042  0.975918  \n",
       "FG%   0.421290  0.109928  0.171141  0.387849  0.199539  0.395070  0.313305  \n",
       "3P    0.237293  0.539793  0.506564  0.092254  0.540044  0.381334  0.729547  \n",
       "3PA   0.241032  0.564140  0.518342  0.087548  0.572415  0.386590  0.728704  \n",
       "3P%   0.126768  0.254576  0.277578  0.059444  0.230620  0.253234  0.376084  \n",
       "2P    0.772376  0.634391  0.535737  0.519457  0.764937  0.640240  0.899371  \n",
       "2PA   0.724955  0.694749  0.571293  0.461741  0.806452  0.630024  0.918386  \n",
       "2P%   0.329511  0.083409  0.141133  0.294885  0.160825  0.341219  0.252917  \n",
       "eFG%  0.361190  0.134033  0.209178  0.327975  0.195992  0.387490  0.346896  \n",
       "FT    0.614644  0.658677  0.484894  0.386419  0.752909  0.532798  0.870020  \n",
       "FTA   0.662244  0.631753  0.482682  0.428666  0.752043  0.554414  0.860068  \n",
       "FT%   0.289604  0.336857  0.338977  0.210027  0.340125  0.396624  0.454410  \n",
       "ORB   0.822236  0.087468  0.211860  0.627087  0.282204  0.516135  0.326689  \n",
       "DRB   0.971791  0.524204  0.517904  0.637274  0.678036  0.696484  0.745642  \n",
       "TRB   1.000000  0.426469  0.460648  0.683195  0.604928  0.693197  0.670698  \n",
       "AST   0.426469  1.000000  0.672747  0.171703  0.841705  0.461728  0.724978  \n",
       "STL   0.460648  0.672747  1.000000  0.336480  0.650554  0.571783  0.618792  \n",
       "BLK   0.683195  0.171703  0.336480  1.000000  0.339623  0.564406  0.417825  \n",
       "TOV   0.604928  0.841705  0.650554  0.339623  1.000000  0.606109  0.819825  \n",
       "PF    0.693197  0.461728  0.571783  0.564406  0.606109  1.000000  0.636373  \n",
       "PTS   0.670698  0.724978  0.618792  0.417825  0.819825  0.636373  1.000000  \n",
       "\n",
       "[27 rows x 27 columns]"
      ]
     },
     "execution_count": 139,
     "metadata": {},
     "output_type": "execute_result"
    }
   ],
   "source": [
    "corr_matrix = df.corr()\n",
    "corr_matrix"
   ]
  },
  {
   "attachments": {},
   "cell_type": "markdown",
   "metadata": {},
   "source": [
    "Visualize the correlation"
   ]
  },
  {
   "cell_type": "code",
   "execution_count": 140,
   "metadata": {},
   "outputs": [
    {
     "data": {
      "image/png": "[encoded data removed]",
      "text/plain": [
       "<Figure size 640x480 with 2 Axes>"
      ]
     },
     "metadata": {},
     "output_type": "display_data"
    }
   ],
   "source": [
    "import seaborn as sns\n",
    "import matplotlib.pyplot as plt\n",
    "sns.heatmap(corr_matrix)\n",
    "plt.savefig(\"figures/heatmap.pdf\")\n",
    "plt.show()"
   ]
  },
  {
   "attachments": {},
   "cell_type": "markdown",
   "metadata": {},
   "source": [
    "Scatterplot all correlations > 0.7"
   ]
  },
  {
   "cell_type": "code",
   "execution_count": 141,
   "metadata": {},
   "outputs": [
    {
     "data": {
      "image/png": "[encoded data removed]",
      "text/plain": [
       "<Figure size 2000x2000 with 36 Axes>"
      ]
     },
     "metadata": {},
     "output_type": "display_data"
    }
   ],
   "source": [
    "import math\n",
    "# Get the absolute value of the correlation matrix\n",
    "abs_corr_matrix = np.abs(corr_matrix)\n",
    "\n",
    "\n",
    "corr_pairs = np.where(abs_corr_matrix > 0.8)\n",
    "corr_pairs = [(corr_matrix.index[x], corr_matrix.columns[y]) for x, y in zip(*corr_pairs) if x != y and x < y]\n",
    "\n",
    "n = len(corr_pairs)\n",
    "subplots_rows = math.ceil(math.sqrt(n))\n",
    "subplots_cols = math.ceil(n / subplots_rows)\n",
    "\n",
    "fig, ax = plt.subplots(subplots_rows, subplots_cols, figsize=(20, 20))\n",
    "for i, pair in enumerate(corr_pairs):\n",
    "    x = df[pair[0]]\n",
    "    y = df[pair[1]]\n",
    "    z = np.polyfit(x, y, 1)\n",
    "    p = np.poly1d(z)\n",
    "    ax[i//subplots_cols][i%subplots_cols].scatter(x, y)\n",
    "    ax[i//subplots_cols][i%subplots_cols].plot(x,p(x),\"r\")\n",
    "    ax[i//subplots_cols][i%subplots_cols].set_title(f'{pair[0]} vs {pair[1]}')\n",
    "    ax[i//subplots_cols][i%subplots_cols].set_xlabel(f'{pair[0]}')\n",
    "    ax[i//subplots_cols][i%subplots_cols].set_ylabel(f'{pair[1]}')\n",
    "    plt.tight_layout()\n",
    "\n",
    "plt.savefig(\"figures/scatter3.pdf\")\n",
    "plt.show()\n",
    "\n"
   ]
  },
  {
   "attachments": {},
   "cell_type": "markdown",
   "metadata": {},
   "source": [
    "Get the p-values"
   ]
  },
  {
   "cell_type": "code",
   "execution_count": 142,
   "metadata": {},
   "outputs": [
    {
     "name": "stdout",
     "output_type": "stream",
     "text": [
      "   Column 1 Column 2  Correlation        P-value\n",
      "0        MP       FG     0.886895  6.873821e-274\n",
      "1        MP      FGA     0.898603  5.010737e-292\n",
      "2        MP      2PA     0.803061  2.699052e-184\n",
      "3        MP      PTS     0.887411  1.203556e-274\n",
      "4        FG      FGA     0.970853   0.000000e+00\n",
      "5        FG       2P     0.936068   0.000000e+00\n",
      "6        FG      2PA     0.944519   0.000000e+00\n",
      "7        FG       FT     0.820781  3.614445e-199\n",
      "8        FG      FTA     0.820764  3.743640e-199\n",
      "9        FG      TOV     0.811092  7.685264e-191\n",
      "10       FG      PTS     0.989932   0.000000e+00\n",
      "11      FGA       2P     0.858461  4.226629e-237\n",
      "12      FGA      2PA     0.907912  4.153379e-308\n",
      "13      FGA      TOV     0.824847  8.167111e-203\n",
      "14      FGA      PTS     0.975918   0.000000e+00\n",
      "15      FG%      2P%     0.849532  3.489085e-227\n",
      "16      FG%     eFG%     0.953627   0.000000e+00\n",
      "17       3P      3PA     0.969827   0.000000e+00\n",
      "18       2P      2PA     0.978720   0.000000e+00\n",
      "19       2P       FT     0.806401  5.571226e-187\n",
      "20       2P      FTA     0.829862  1.917320e-207\n",
      "21       2P      PTS     0.899371  2.708163e-293\n",
      "22      2PA       FT     0.824567  1.464397e-202\n",
      "23      2PA      FTA     0.837671  5.793865e-215\n",
      "24      2PA      TOV     0.806452  5.068659e-187\n",
      "25      2PA      PTS     0.918386   0.000000e+00\n",
      "26      2P%     eFG%     0.815955  5.850107e-195\n",
      "27       FT      FTA     0.984315   0.000000e+00\n",
      "28       FT      PTS     0.870020  5.311249e-251\n",
      "29      FTA      PTS     0.860068  5.861437e-239\n",
      "30      ORB      TRB     0.822236  1.835048e-200\n",
      "31      DRB      TRB     0.971791   0.000000e+00\n",
      "32      AST      TOV     0.841705  5.259188e-219\n",
      "33      TOV      PTS     0.819825  2.525012e-198\n"
     ]
    }
   ],
   "source": [
    "#import scipy.stats as ss\n",
    "from scipy.stats import pearsonr\n",
    "\n",
    "corr_table = []\n",
    "\n",
    "for pair in corr_pairs:\n",
    "    column1 = pair[0]\n",
    "    column2 = pair[1]\n",
    "    corr, p_value = pearsonr(df[column1], df[column2])\n",
    "    corr_table.append([column1, column2, corr, p_value])\n",
    "\n",
    "corr_table_df = pd.DataFrame(corr_table, columns=['Column 1', 'Column 2', 'Correlation', 'P-value'])\n",
    "print(corr_table_df)\n"
   ]
  },
  {
   "attachments": {},
   "cell_type": "markdown",
   "metadata": {},
   "source": [
    "Try do do a preditive model for how many points will be scored"
   ]
  },
  {
   "cell_type": "code",
   "execution_count": 143,
   "metadata": {},
   "outputs": [
    {
     "name": "stdout",
     "output_type": "stream",
     "text": [
      "accuracy =  0.9821714242756275\n",
      "Selected features:  Index(['FGA', '2PA', 'FTA', 'TRB', 'STL', 'BLK', 'TOV', 'PF'], dtype='object')\n",
      "      FGA  2PA  FTA  TRB  STL  BLK  TOV   PF\n",
      "579   1.9  0.8  0.2  0.5  0.1  0.0  0.3  0.5\n",
      "577   3.0  1.0  0.0  1.0  0.0  0.0  1.0  2.0\n",
      "555   6.7  4.1  1.5  2.0  0.4  0.2  0.6  1.2\n",
      "386  10.0  6.0  1.4  2.7  1.0  0.5  1.8  2.2\n",
      "573   0.6  0.1  0.1  0.4  0.0  0.0  0.1  0.4\n",
      "..    ...  ...  ...  ...  ...  ...  ...  ...\n",
      "278  12.4  7.2  3.3  4.3  1.8  0.6  3.2  1.9\n",
      "502   3.2  1.9  0.6  1.5  0.9  0.2  0.6  0.9\n",
      "162   8.9  3.9  1.5  3.1  0.8  0.4  1.1  2.3\n",
      "87    1.7  0.7  0.0  0.3  0.7  0.3  0.0  0.7\n",
      "457   5.5  5.4  1.5  3.5  0.1  0.5  1.2  1.9\n",
      "\n",
      "[163 rows x 8 columns]\n"
     ]
    },
    {
     "data": {
      "application/vnd.plotly.v1+json": {
       "config": {
        "plotlyServerURL": "https://plot.ly"
       },
       "data": [
        {
         "hovertemplate": "x=%{x}<br>y=%{y}<extra></extra>",
         "legendgroup": "",
         "marker": {
          "color": "#636efa",
          "symbol": "circle"
         },
         "mode": "markers",
         "name": "",
         "orientation": "v",
         "showlegend": false,
         "type": "scatter",
         "x": [
          1.6,
          0,
          8.5,
          9.7,
          0.3,
          11,
          7.7,
          2,
          10.3,
          2.2,
          8.6,
          28.4,
          9.4,
          0.7,
          1,
          3.4,
          0.7,
          2.7,
          5.2,
          8.3,
          7.3,
          1.9,
          9.3,
          26.9,
          1.1,
          15.6,
          18.7,
          3.7,
          10.8,
          3.3,
          12.7,
          6.8,
          7,
          1.7,
          11.1,
          1,
          4.9,
          2.9,
          7.9,
          0.7,
          5.5,
          12.8,
          12.1,
          13,
          18.5,
          7.4,
          8.5,
          7.5,
          7,
          0,
          10.4,
          6,
          2.7,
          1.8,
          1.1,
          4.8,
          6.5,
          6,
          4.3,
          6.5,
          20.5,
          0.7,
          5.3,
          30.3,
          4.8,
          2.6,
          12.3,
          4,
          1.4,
          9.3,
          10.6,
          17,
          8.9,
          6.4,
          7.5,
          4.7,
          3.3,
          22,
          3.6,
          14.7,
          4.5,
          9,
          6.4,
          8.5,
          3.7,
          14.7,
          8,
          10.6,
          3.3,
          13.4,
          14.4,
          7.6,
          7.2,
          14.9,
          0,
          18.1,
          24,
          3.6,
          1.3,
          11.1,
          10.6,
          4.3,
          5.4,
          20,
          3,
          6.3,
          2,
          0,
          1,
          8.7,
          0,
          4.2,
          1,
          17.8,
          3.4,
          5.9,
          22.8,
          17,
          3.1,
          10.8,
          8.4,
          11.3,
          0.9,
          2.9,
          2,
          6.9,
          8.6,
          5.7,
          2.8,
          0,
          17.1,
          7,
          7.1,
          17.5,
          10.8,
          17.2,
          17.9,
          19.1,
          3,
          6.3,
          7.9,
          15.2,
          20.2,
          4.3,
          11.8,
          2.9,
          2,
          11.8,
          14.5,
          5.4,
          4.2,
          1.9,
          1,
          21.4,
          22.7,
          3.3,
          0.3,
          5.4,
          17.5,
          3.8,
          10.4,
          0.7,
          7.1
         ],
         "xaxis": "x",
         "y": [
          1.6077249091230867,
          2.548935103361854,
          7.963923075641863,
          11.134547366829946,
          0.20707421530064452,
          10.33892794438172,
          7.437406554135236,
          1.6389282216998624,
          9.534547158420654,
          1.985031339963836,
          9.495726264566592,
          28.92624868839101,
          9.814656230501743,
          0.2687776249657936,
          1.3213463904557698,
          3.185582326274982,
          2.7525792772676803,
          2.6565816676436786,
          4.970422836124317,
          9.088495415583527,
          7.8877020435307825,
          2.453301649307883,
          8.440795731125668,
          27.06153987205968,
          1.4590118301922104,
          16.059399888747265,
          18.387691427320327,
          3.6067744932472223,
          12.27896440101155,
          3.4254215270926913,
          12.177008240138058,
          6.479973067544725,
          7.778507812184732,
          2.056438462497455,
          10.488401240746494,
          0.43427078597480007,
          4.510780311544714,
          3.2496825953026764,
          8.260712218439156,
          0.32949925291139304,
          5.710638002149267,
          14.46350751612989,
          12.015817125663446,
          12.008480547759081,
          17.178517051916053,
          7.144590655195936,
          8.61666893716805,
          7.464573805748791,
          6.653447132800049,
          -0.030140902382059465,
          9.029177559645703,
          6.2365657516924395,
          2.0191289553540446,
          1.376056752005549,
          1.0309072545375664,
          4.185982313487297,
          6.276656994732318,
          6.009156684160021,
          4.596318251443227,
          6.622063059291334,
          20.70870914632721,
          0.6747183560156529,
          5.55611898976774,
          28.015818629864377,
          5.492418086345282,
          2.352253474907299,
          12.573114400830839,
          4.455173522541566,
          1.9487322528230742,
          12.57702233653902,
          10.829939824471722,
          17.763688622504166,
          9.216478368932737,
          7.25325984110822,
          4.482604888607244,
          4.88856560137806,
          3.595592186410207,
          22.92693918190582,
          3.60703859401084,
          14.50798542760359,
          5.566110650314229,
          9.81862836596791,
          5.396594976770988,
          8.797428392437464,
          3.624286519186777,
          16.03857921360738,
          7.590129585007927,
          9.649709409635726,
          2.83020588444012,
          13.764758621866854,
          14.418028916835834,
          8.537769678328853,
          8.275520384768782,
          14.363265390388854,
          -0.4494670452792905,
          18.43430604559275,
          24.968236478605498,
          3.3742529442887887,
          1.4031481187757844,
          11.675188104001045,
          9.330258663711618,
          3.3272465244214238,
          5.2165169426786075,
          22.75319862948985,
          2.469238335077441,
          9.428837353403491,
          1.9432339409503818,
          -0.5748951941347213,
          0.21562330838456312,
          8.040349163682592,
          0.6977744964484585,
          2.7467684362191203,
          0.24914630855854436,
          17.170411735497925,
          3.884352651848455,
          5.941342999933045,
          23.399314720151928,
          16.87622613716041,
          3.454395244603922,
          10.580962656638889,
          8.597198907005367,
          11.766440729770775,
          0.8923446592545485,
          2.7330764076989555,
          0.1290238710509254,
          6.702692333255927,
          7.7467862303612,
          6.243025168933033,
          3.050028270326736,
          0.5146133893706024,
          17.933055433497113,
          6.118228416342929,
          7.742299796041681,
          16.494792180873038,
          11.29029849164123,
          17.36245852902162,
          18.516876628812554,
          19.04471329027681,
          2.8451259010172816,
          6.59245389362242,
          8.464400320265842,
          15.004448518589939,
          21.361589364944745,
          4.300865128161767,
          11.678756536646276,
          2.4998999187790476,
          1.6090362166376537,
          12.04157437909089,
          12.143509736343958,
          6.050853864108456,
          4.509788180798958,
          1.6758155547817126,
          0.5431961488448678,
          21.897593881132956,
          23.48042703669365,
          4.075466819339395,
          0.3995939681851808,
          4.467545320570997,
          15.138889186120345,
          3.353853191885458,
          10.453910450951746,
          1.330994268339126,
          6.732359097719227
         ],
         "yaxis": "y"
        }
       ],
       "layout": {
        "legend": {
         "tracegroupgap": 0
        },
        "shapes": [
         {
          "line": {
           "color": "red"
          },
          "type": "line",
          "x0": 0,
          "x1": 30.3,
          "xref": "x",
          "y0": 0,
          "y1": 30.3,
          "yref": "y"
         }
        ],
        "template": {
         "data": {
          "bar": [
           {
            "error_x": {
             "color": "#2a3f5f"
            },
            "error_y": {
             "color": "#2a3f5f"
            },
            "marker": {
             "line": {
              "color": "#E5ECF6",
              "width": 0.5
             },
             "pattern": {
              "fillmode": "overlay",
              "size": 10,
              "solidity": 0.2
             }
            },
            "type": "bar"
           }
          ],
          "barpolar": [
           {
            "marker": {
             "line": {
              "color": "#E5ECF6",
              "width": 0.5
             },
             "pattern": {
              "fillmode": "overlay",
              "size": 10,
              "solidity": 0.2
             }
            },
            "type": "barpolar"
           }
          ],
          "carpet": [
           {
            "aaxis": {
             "endlinecolor": "#2a3f5f",
             "gridcolor": "white",
             "linecolor": "white",
             "minorgridcolor": "white",
             "startlinecolor": "#2a3f5f"
            },
            "baxis": {
             "endlinecolor": "#2a3f5f",
             "gridcolor": "white",
             "linecolor": "white",
             "minorgridcolor": "white",
             "startlinecolor": "#2a3f5f"
            },
            "type": "carpet"
           }
          ],
          "choropleth": [
           {
            "colorbar": {
             "outlinewidth": 0,
             "ticks": ""
            },
            "type": "choropleth"
           }
          ],
          "contour": [
           {
            "colorbar": {
             "outlinewidth": 0,
             "ticks": ""
            },
            "colorscale": [
             [
              0,
              "#0d0887"
             ],
             [
              0.1111111111111111,
              "#46039f"
             ],
             [
              0.2222222222222222,
              "#7201a8"
             ],
             [
              0.3333333333333333,
              "#9c179e"
             ],
             [
              0.4444444444444444,
              "#bd3786"
             ],
             [
              0.5555555555555556,
              "#d8576b"
             ],
             [
              0.6666666666666666,
              "#ed7953"
             ],
             [
              0.7777777777777778,
              "#fb9f3a"
             ],
             [
              0.8888888888888888,
              "#fdca26"
             ],
             [
              1,
              "#f0f921"
             ]
            ],
            "type": "contour"
           }
          ],
          "contourcarpet": [
           {
            "colorbar": {
             "outlinewidth": 0,
             "ticks": ""
            },
            "type": "contourcarpet"
           }
          ],
          "heatmap": [
           {
            "colorbar": {
             "outlinewidth": 0,
             "ticks": ""
            },
            "colorscale": [
             [
              0,
              "#0d0887"
             ],
             [
              0.1111111111111111,
              "#46039f"
             ],
             [
              0.2222222222222222,
              "#7201a8"
             ],
             [
              0.3333333333333333,
              "#9c179e"
             ],
             [
              0.4444444444444444,
              "#bd3786"
             ],
             [
              0.5555555555555556,
              "#d8576b"
             ],
             [
              0.6666666666666666,
              "#ed7953"
             ],
             [
              0.7777777777777778,
              "#fb9f3a"
             ],
             [
              0.8888888888888888,
              "#fdca26"
             ],
             [
              1,
              "#f0f921"
             ]
            ],
            "type": "heatmap"
           }
          ],
          "heatmapgl": [
           {
            "colorbar": {
             "outlinewidth": 0,
             "ticks": ""
            },
            "colorscale": [
             [
              0,
              "#0d0887"
             ],
             [
              0.1111111111111111,
              "#46039f"
             ],
             [
              0.2222222222222222,
              "#7201a8"
             ],
             [
              0.3333333333333333,
              "#9c179e"
             ],
             [
              0.4444444444444444,
              "#bd3786"
             ],
             [
              0.5555555555555556,
              "#d8576b"
             ],
             [
              0.6666666666666666,
              "#ed7953"
             ],
             [
              0.7777777777777778,
              "#fb9f3a"
             ],
             [
              0.8888888888888888,
              "#fdca26"
             ],
             [
              1,
              "#f0f921"
             ]
            ],
            "type": "heatmapgl"
           }
          ],
          "histogram": [
           {
            "marker": {
             "pattern": {
              "fillmode": "overlay",
              "size": 10,
              "solidity": 0.2
             }
            },
            "type": "histogram"
           }
          ],
          "histogram2d": [
           {
            "colorbar": {
             "outlinewidth": 0,
             "ticks": ""
            },
            "colorscale": [
             [
              0,
              "#0d0887"
             ],
             [
              0.1111111111111111,
              "#46039f"
             ],
             [
              0.2222222222222222,
              "#7201a8"
             ],
             [
              0.3333333333333333,
              "#9c179e"
             ],
             [
              0.4444444444444444,
              "#bd3786"
             ],
             [
              0.5555555555555556,
              "#d8576b"
             ],
             [
              0.6666666666666666,
              "#ed7953"
             ],
             [
              0.7777777777777778,
              "#fb9f3a"
             ],
             [
              0.8888888888888888,
              "#fdca26"
             ],
             [
              1,
              "#f0f921"
             ]
            ],
            "type": "histogram2d"
           }
          ],
          "histogram2dcontour": [
           {
            "colorbar": {
             "outlinewidth": 0,
             "ticks": ""
            },
            "colorscale": [
             [
              0,
              "#0d0887"
             ],
             [
              0.1111111111111111,
              "#46039f"
             ],
             [
              0.2222222222222222,
              "#7201a8"
             ],
             [
              0.3333333333333333,
              "#9c179e"
             ],
             [
              0.4444444444444444,
              "#bd3786"
             ],
             [
              0.5555555555555556,
              "#d8576b"
             ],
             [
              0.6666666666666666,
              "#ed7953"
             ],
             [
              0.7777777777777778,
              "#fb9f3a"
             ],
             [
              0.8888888888888888,
              "#fdca26"
             ],
             [
              1,
              "#f0f921"
             ]
            ],
            "type": "histogram2dcontour"
           }
          ],
          "mesh3d": [
           {
            "colorbar": {
             "outlinewidth": 0,
             "ticks": ""
            },
            "type": "mesh3d"
           }
          ],
          "parcoords": [
           {
            "line": {
             "colorbar": {
              "outlinewidth": 0,
              "ticks": ""
             }
            },
            "type": "parcoords"
           }
          ],
          "pie": [
           {
            "automargin": true,
            "type": "pie"
           }
          ],
          "scatter": [
           {
            "fillpattern": {
             "fillmode": "overlay",
             "size": 10,
             "solidity": 0.2
            },
            "type": "scatter"
           }
          ],
          "scatter3d": [
           {
            "line": {
             "colorbar": {
              "outlinewidth": 0,
              "ticks": ""
             }
            },
            "marker": {
             "colorbar": {
              "outlinewidth": 0,
              "ticks": ""
             }
            },
            "type": "scatter3d"
           }
          ],
          "scattercarpet": [
           {
            "marker": {
             "colorbar": {
              "outlinewidth": 0,
              "ticks": ""
             }
            },
            "type": "scattercarpet"
           }
          ],
          "scattergeo": [
           {
            "marker": {
             "colorbar": {
              "outlinewidth": 0,
              "ticks": ""
             }
            },
            "type": "scattergeo"
           }
          ],
          "scattergl": [
           {
            "marker": {
             "colorbar": {
              "outlinewidth": 0,
              "ticks": ""
             }
            },
            "type": "scattergl"
           }
          ],
          "scattermapbox": [
           {
            "marker": {
             "colorbar": {
              "outlinewidth": 0,
              "ticks": ""
             }
            },
            "type": "scattermapbox"
           }
          ],
          "scatterpolar": [
           {
            "marker": {
             "colorbar": {
              "outlinewidth": 0,
              "ticks": ""
             }
            },
            "type": "scatterpolar"
           }
          ],
          "scatterpolargl": [
           {
            "marker": {
             "colorbar": {
              "outlinewidth": 0,
              "ticks": ""
             }
            },
            "type": "scatterpolargl"
           }
          ],
          "scatterternary": [
           {
            "marker": {
             "colorbar": {
              "outlinewidth": 0,
              "ticks": ""
             }
            },
            "type": "scatterternary"
           }
          ],
          "surface": [
           {
            "colorbar": {
             "outlinewidth": 0,
             "ticks": ""
            },
            "colorscale": [
             [
              0,
              "#0d0887"
             ],
             [
              0.1111111111111111,
              "#46039f"
             ],
             [
              0.2222222222222222,
              "#7201a8"
             ],
             [
              0.3333333333333333,
              "#9c179e"
             ],
             [
              0.4444444444444444,
              "#bd3786"
             ],
             [
              0.5555555555555556,
              "#d8576b"
             ],
             [
              0.6666666666666666,
              "#ed7953"
             ],
             [
              0.7777777777777778,
              "#fb9f3a"
             ],
             [
              0.8888888888888888,
              "#fdca26"
             ],
             [
              1,
              "#f0f921"
             ]
            ],
            "type": "surface"
           }
          ],
          "table": [
           {
            "cells": {
             "fill": {
              "color": "#EBF0F8"
             },
             "line": {
              "color": "white"
             }
            },
            "header": {
             "fill": {
              "color": "#C8D4E3"
             },
             "line": {
              "color": "white"
             }
            },
            "type": "table"
           }
          ]
         },
         "layout": {
          "annotationdefaults": {
           "arrowcolor": "#2a3f5f",
           "arrowhead": 0,
           "arrowwidth": 1
          },
          "autotypenumbers": "strict",
          "coloraxis": {
           "colorbar": {
            "outlinewidth": 0,
            "ticks": ""
           }
          },
          "colorscale": {
           "diverging": [
            [
             0,
             "#8e0152"
            ],
            [
             0.1,
             "#c51b7d"
            ],
            [
             0.2,
             "#de77ae"
            ],
            [
             0.3,
             "#f1b6da"
            ],
            [
             0.4,
             "#fde0ef"
            ],
            [
             0.5,
             "#f7f7f7"
            ],
            [
             0.6,
             "#e6f5d0"
            ],
            [
             0.7,
             "#b8e186"
            ],
            [
             0.8,
             "#7fbc41"
            ],
            [
             0.9,
             "#4d9221"
            ],
            [
             1,
             "#276419"
            ]
           ],
           "sequential": [
            [
             0,
             "#0d0887"
            ],
            [
             0.1111111111111111,
             "#46039f"
            ],
            [
             0.2222222222222222,
             "#7201a8"
            ],
            [
             0.3333333333333333,
             "#9c179e"
            ],
            [
             0.4444444444444444,
             "#bd3786"
            ],
            [
             0.5555555555555556,
             "#d8576b"
            ],
            [
             0.6666666666666666,
             "#ed7953"
            ],
            [
             0.7777777777777778,
             "#fb9f3a"
            ],
            [
             0.8888888888888888,
             "#fdca26"
            ],
            [
             1,
             "#f0f921"
            ]
           ],
           "sequentialminus": [
            [
             0,
             "#0d0887"
            ],
            [
             0.1111111111111111,
             "#46039f"
            ],
            [
             0.2222222222222222,
             "#7201a8"
            ],
            [
             0.3333333333333333,
             "#9c179e"
            ],
            [
             0.4444444444444444,
             "#bd3786"
            ],
            [
             0.5555555555555556,
             "#d8576b"
            ],
            [
             0.6666666666666666,
             "#ed7953"
            ],
            [
             0.7777777777777778,
             "#fb9f3a"
            ],
            [
             0.8888888888888888,
             "#fdca26"
            ],
            [
             1,
             "#f0f921"
            ]
           ]
          },
          "colorway": [
           "#636efa",
           "#EF553B",
           "#00cc96",
           "#ab63fa",
           "#FFA15A",
           "#19d3f3",
           "#FF6692",
           "#B6E880",
           "#FF97FF",
           "#FECB52"
          ],
          "font": {
           "color": "#2a3f5f"
          },
          "geo": {
           "bgcolor": "white",
           "lakecolor": "white",
           "landcolor": "#E5ECF6",
           "showlakes": true,
           "showland": true,
           "subunitcolor": "white"
          },
          "hoverlabel": {
           "align": "left"
          },
          "hovermode": "closest",
          "mapbox": {
           "style": "light"
          },
          "paper_bgcolor": "white",
          "plot_bgcolor": "#E5ECF6",
          "polar": {
           "angularaxis": {
            "gridcolor": "white",
            "linecolor": "white",
            "ticks": ""
           },
           "bgcolor": "#E5ECF6",
           "radialaxis": {
            "gridcolor": "white",
            "linecolor": "white",
            "ticks": ""
           }
          },
          "scene": {
           "xaxis": {
            "backgroundcolor": "#E5ECF6",
            "gridcolor": "white",
            "gridwidth": 2,
            "linecolor": "white",
            "showbackground": true,
            "ticks": "",
            "zerolinecolor": "white"
           },
           "yaxis": {
            "backgroundcolor": "#E5ECF6",
            "gridcolor": "white",
            "gridwidth": 2,
            "linecolor": "white",
            "showbackground": true,
            "ticks": "",
            "zerolinecolor": "white"
           },
           "zaxis": {
            "backgroundcolor": "#E5ECF6",
            "gridcolor": "white",
            "gridwidth": 2,
            "linecolor": "white",
            "showbackground": true,
            "ticks": "",
            "zerolinecolor": "white"
           }
          },
          "shapedefaults": {
           "line": {
            "color": "#2a3f5f"
           }
          },
          "ternary": {
           "aaxis": {
            "gridcolor": "white",
            "linecolor": "white",
            "ticks": ""
           },
           "baxis": {
            "gridcolor": "white",
            "linecolor": "white",
            "ticks": ""
           },
           "bgcolor": "#E5ECF6",
           "caxis": {
            "gridcolor": "white",
            "linecolor": "white",
            "ticks": ""
           }
          },
          "title": {
           "x": 0.05
          },
          "xaxis": {
           "automargin": true,
           "gridcolor": "white",
           "linecolor": "white",
           "ticks": "",
           "title": {
            "standoff": 15
           },
           "zerolinecolor": "white",
           "zerolinewidth": 2
          },
          "yaxis": {
           "automargin": true,
           "gridcolor": "white",
           "linecolor": "white",
           "ticks": "",
           "title": {
            "standoff": 15
           },
           "zerolinecolor": "white",
           "zerolinewidth": 2
          }
         }
        },
        "title": {
         "text": "Observed vs Predicted Values"
        },
        "xaxis": {
         "anchor": "y",
         "domain": [
          0,
          1
         ],
         "title": {
          "text": "x"
         }
        },
        "yaxis": {
         "anchor": "x",
         "domain": [
          0,
          1
         ],
         "title": {
          "text": "y"
         }
        }
       }
      }
     },
     "metadata": {},
     "output_type": "display_data"
    }
   ],
   "source": [
    "unneccessary_columns = ['FG', 'FG%', '3P', '3PA', '3P%', '2P', '2P%', 'eFG%', \"FT%\", \"FT\"]\n",
    "df.drop(unneccessary_columns, inplace=True, axis=1)\n",
    "df.reset_index()\n",
    "from sklearn.feature_selection import RFE\n",
    "from sklearn.linear_model import LinearRegression\n",
    "from sklearn.model_selection import train_test_split\n",
    "\n",
    "\n",
    "# Split the data into a training and testing set\n",
    "X_train, X_test, Y_train, Y_test = train_test_split(df.drop(columns=[\"PTS\"]), df[\"PTS\"], test_size=0.2)\n",
    "\n",
    "# Create a linear regression model\n",
    "reg = LinearRegression()\n",
    "\n",
    "# Use RFE to select the best features for the model\n",
    "rfe = RFE(reg)\n",
    "rfe = rfe.fit(X_train, Y_train)\n",
    "\n",
    "# Use the selected features to train the model\n",
    "reg.fit(X_train[X_train.columns[rfe.support_]], Y_train)\n",
    "\n",
    "# Evaluate the accuracy of the model\n",
    "accuracy = reg.score(X_test[X_test.columns[rfe.support_]], Y_test)\n",
    "print(\"accuracy = \", accuracy)\n",
    "\n",
    "selected_features = X_train.columns[rfe.support_]\n",
    "print(\"Selected features: \", selected_features)\n",
    "\n",
    "# Use the selected features to fit a linear regression model\n",
    "X_selected = X_test[selected_features]\n",
    "\n",
    "print(X_selected)\n",
    "\n",
    "# Get the predicted values for the selected features\n",
    "y_pred = reg.predict(X_selected)\n",
    "\n",
    "# Create a scatter plot of the observed values and the predicted values\n",
    "fig = px.scatter(x=Y_test, y=y_pred, title=\"Observed vs Predicted Values\")\n",
    "fig.add_shape(\n",
    "    type='line', x0=0, y0=0, x1=np.max(Y_test), y1=np.max(Y_test), \n",
    "    xref='x', yref='y', line=dict(color=\"red\")\n",
    ")\n",
    "fig.show()\n",
    "fig.write_image(\"figures/regression.pdf\", format=\"pdf\")\n"
   ]
  }
 ],
 "metadata": {
  "kernelspec": {
   "display_name": "data-visualization",
   "language": "python",
   "name": "python3"
  },
  "language_info": {
   "codemirror_mode": {
    "name": "ipython",
    "version": 3
   },
   "file_extension": ".py",
   "mimetype": "text/x-python",
   "name": "python",
   "nbconvert_exporter": "python",
   "pygments_lexer": "ipython3",
   "version": "3.10.8"
  },
  "orig_nbformat": 4,
  "vscode": {
   "interpreter": {
    "hash": "f960e5737845f6c59b7b45187dff235a2c3016785626cbea8156cf780d1b5b11"
   }
  }
 },
 "nbformat": 4,
 "nbformat_minor": 2
}
